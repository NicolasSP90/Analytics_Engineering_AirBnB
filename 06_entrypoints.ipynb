{
 "cells": [
  {
   "cell_type": "code",
   "execution_count": 0,
   "metadata": {
    "application/vnd.databricks.v1+cell": {
     "cellMetadata": {},
     "inputWidgets": {},
     "nuid": "c34d20fd-67b5-49b8-ae27-359a2aac1394",
     "showTitle": false,
     "tableResultSettingsMap": {},
     "title": ""
    }
   },
   "outputs": [],
   "source": [
    "# Instalar Bibliotecas\n",
    "!pip install --upgrade pip\n",
    "!pip install great_expectations"
   ]
  },
  {
   "cell_type": "code",
   "execution_count": 0,
   "metadata": {
    "application/vnd.databricks.v1+cell": {
     "cellMetadata": {},
     "inputWidgets": {},
     "nuid": "5048e1d5-1459-4e03-85e2-7135a59b788c",
     "showTitle": false,
     "tableResultSettingsMap": {},
     "title": ""
    }
   },
   "outputs": [],
   "source": [
    "# Importar Bibliotecas\n",
    "from pyspark.sql.functions import *\n",
    "from pyspark.sql.types import *\n",
    "import great_expectations as gx\n",
    "from datetime import date"
   ]
  },
  {
   "cell_type": "code",
   "execution_count": 0,
   "metadata": {
    "application/vnd.databricks.v1+cell": {
     "cellMetadata": {
      "byteLimit": 2048000,
      "rowLimit": 10000
     },
     "inputWidgets": {},
     "nuid": "0b799a54-1405-423b-a7d8-d6a78045fc1a",
     "showTitle": false,
     "tableResultSettingsMap": {},
     "title": ""
    }
   },
   "outputs": [],
   "source": [
    "# Caminho do Projeto\n",
    "path_projeto = \"/FileStore/Projeto_Analytics\"\n",
    "\n",
    "# Arquivos\n",
    "listings = \"listings_csv.gz\"\n",
    "calendar = \"calendar_csv.gz\"\n",
    "reviews = \"reviews_csv.gz\"\n",
    "\n",
    "# Caminho Bruto\n",
    "path_raw = \"/FileStore/Projeto_Analytics/data/raw\"\n",
    "path_raw_listings = f\"/FileStore/Projeto_Analytics/data/raw/{listings}\"\n",
    "path_raw_calendar = f\"/FileStore/Projeto_Analytics/data/raw/{calendar}\"\n",
    "path_raw_reviews = f\"/FileStore/Projeto_Analytics/data/raw/{reviews}\"\n",
    "\n",
    "# Caminho Bronze\n",
    "path_bronze = \"/FileStore/Projeto_Analytics/data/bronze/\"\n",
    "path_bronze_listings = \"/FileStore/Projeto_Analytics/data/bronze/listings\"\n",
    "path_bronze_calendar = \"/FileStore/Projeto_Analytics/data/bronze/calendar\"\n",
    "path_bronze_reviews = \"/FileStore/Projeto_Analytics/data/bronze/reviews\"\n",
    "\n",
    "# Caminho Silver\n",
    "path_silver = \"/FileStore/Projeto_Analytics/data/silver/\"\n",
    "path_silver_listings = \"/FileStore/Projeto_Analytics/data/silver/listings\"\n",
    "path_silver_calendar = \"/FileStore/Projeto_Analytics/data/silver/calendar\"\n",
    "path_silver_reviews = \"/FileStore/Projeto_Analytics/data/silver/reviews\"\n",
    "\n",
    "# Database\n",
    "name_db = \"projeto_ae\"\n"
   ]
  },
  {
   "cell_type": "code",
   "execution_count": 0,
   "metadata": {
    "application/vnd.databricks.v1+cell": {
     "cellMetadata": {
      "byteLimit": 2048000,
      "rowLimit": 10000
     },
     "inputWidgets": {},
     "nuid": "76b46d34-1fc2-47c4-8c03-464d41efe7de",
     "showTitle": false,
     "tableResultSettingsMap": {},
     "title": ""
    }
   },
   "outputs": [
    {
     "output_type": "execute_result",
     "data": {
      "text/plain": [
       "True"
      ]
     },
     "execution_count": 5,
     "metadata": {},
     "output_type": "execute_result"
    }
   ],
   "source": [
    "# Criando Diretórios de Projeto\n",
    "dbutils.fs.mkdirs(path_projeto)\n",
    "dbutils.fs.mkdirs(path_raw)\n",
    "dbutils.fs.mkdirs(path_bronze)\n",
    "dbutils.fs.mkdirs(path_silver)"
   ]
  },
  {
   "cell_type": "code",
   "execution_count": 0,
   "metadata": {
    "application/vnd.databricks.v1+cell": {
     "cellMetadata": {
      "byteLimit": 2048000,
      "rowLimit": 10000
     },
     "inputWidgets": {},
     "nuid": "9c9a184f-4eb2-4bb6-b484-6467f6f2b544",
     "showTitle": false,
     "tableResultSettingsMap": {},
     "title": ""
    }
   },
   "outputs": [],
   "source": [
    "%run\n",
    "./01_raw"
   ]
  },
  {
   "cell_type": "code",
   "execution_count": 0,
   "metadata": {
    "application/vnd.databricks.v1+cell": {
     "cellMetadata": {
      "byteLimit": 2048000,
      "rowLimit": 10000
     },
     "inputWidgets": {},
     "nuid": "bde74e8b-97c9-4864-90b0-b4fe2d3d1819",
     "showTitle": false,
     "tableResultSettingsMap": {},
     "title": ""
    }
   },
   "outputs": [],
   "source": [
    "%run\n",
    "./02_bronze"
   ]
  },
  {
   "cell_type": "code",
   "execution_count": 0,
   "metadata": {
    "application/vnd.databricks.v1+cell": {
     "cellMetadata": {},
     "inputWidgets": {},
     "nuid": "842e36a8-7d51-45c5-a89b-8202312f5d85",
     "showTitle": false,
     "tableResultSettingsMap": {},
     "title": ""
    }
   },
   "outputs": [],
   "source": [
    "%run\n",
    "./03_silver"
   ]
  },
  {
   "cell_type": "code",
   "execution_count": 0,
   "metadata": {
    "application/vnd.databricks.v1+cell": {
     "cellMetadata": {},
     "inputWidgets": {},
     "nuid": "23011833-3db5-4858-be55-3aa99b71e092",
     "showTitle": false,
     "tableResultSettingsMap": {},
     "title": ""
    }
   },
   "outputs": [],
   "source": [
    "%run\n",
    "./04_GE_validation"
   ]
  },
  {
   "cell_type": "code",
   "execution_count": 0,
   "metadata": {
    "application/vnd.databricks.v1+cell": {
     "cellMetadata": {},
     "inputWidgets": {},
     "nuid": "42054a90-7c7a-40cd-b34b-fd61f61bc9a4",
     "showTitle": false,
     "tableResultSettingsMap": {},
     "title": ""
    }
   },
   "outputs": [],
   "source": [
    "%run\n",
    "./05_gold"
   ]
  }
 ],
 "metadata": {
  "application/vnd.databricks.v1+notebook": {
   "dashboards": [],
   "environmentMetadata": null,
   "language": "python",
   "notebookMetadata": {
    "pythonIndentUnit": 4
   },
   "notebookName": "06_entrypoints",
   "widgets": {}
  }
 },
 "nbformat": 4,
 "nbformat_minor": 0
}
