{
 "cells": [
  {
   "cell_type": "code",
   "execution_count": 0,
   "metadata": {
    "application/vnd.databricks.v1+cell": {
     "cellMetadata": {
      "byteLimit": 2048000,
      "implicitDf": true,
      "rowLimit": 10000
     },
     "inputWidgets": {},
     "nuid": "65b8e41d-d17a-46bb-ac72-4442ec078f42",
     "showTitle": false,
     "tableResultSettingsMap": {},
     "title": ""
    }
   },
   "outputs": [
    {
     "output_type": "stream",
     "name": "stdout",
     "output_type": "stream",
     "text": [
      "Requirement already satisfied: pip in /local_disk0/.ephemeral_nfs/envs/pythonEnv-7174b08e-ad5f-4d82-9250-edf4a54cd2f4/lib/python3.11/site-packages (24.3.1)\n\u001B[43mNote: you may need to restart the kernel using %restart_python or dbutils.library.restartPython() to use updated packages.\u001B[0m\nRequirement already satisfied: great_expectations in /local_disk0/.ephemeral_nfs/envs/pythonEnv-7174b08e-ad5f-4d82-9250-edf4a54cd2f4/lib/python3.11/site-packages (1.2.2)\nRequirement already satisfied: altair<5.0.0,>=4.2.1 in /local_disk0/.ephemeral_nfs/envs/pythonEnv-7174b08e-ad5f-4d82-9250-edf4a54cd2f4/lib/python3.11/site-packages (from great_expectations) (4.2.2)\nRequirement already satisfied: cryptography>=3.2 in /databricks/python3/lib/python3.11/site-packages (from great_expectations) (41.0.3)\nRequirement already satisfied: jinja2>=2.10 in /local_disk0/.ephemeral_nfs/envs/pythonEnv-7174b08e-ad5f-4d82-9250-edf4a54cd2f4/lib/python3.11/site-packages (from great_expectations) (3.1.4)\nRequirement already satisfied: jsonschema>=2.5.1 in /local_disk0/.ephemeral_nfs/envs/pythonEnv-7174b08e-ad5f-4d82-9250-edf4a54cd2f4/lib/python3.11/site-packages (from great_expectations) (4.23.0)\nRequirement already satisfied: marshmallow<4.0.0,>=3.7.1 in /local_disk0/.ephemeral_nfs/envs/pythonEnv-7174b08e-ad5f-4d82-9250-edf4a54cd2f4/lib/python3.11/site-packages (from great_expectations) (3.23.1)\nRequirement already satisfied: mistune>=0.8.4 in /local_disk0/.ephemeral_nfs/envs/pythonEnv-7174b08e-ad5f-4d82-9250-edf4a54cd2f4/lib/python3.11/site-packages (from great_expectations) (3.0.2)\nRequirement already satisfied: packaging in /databricks/python3/lib/python3.11/site-packages (from great_expectations) (23.2)\nRequirement already satisfied: posthog<3,>=2.1.0 in /local_disk0/.ephemeral_nfs/envs/pythonEnv-7174b08e-ad5f-4d82-9250-edf4a54cd2f4/lib/python3.11/site-packages (from great_expectations) (2.5.0)\nRequirement already satisfied: pydantic>=1.10.7 in /local_disk0/.ephemeral_nfs/envs/pythonEnv-7174b08e-ad5f-4d82-9250-edf4a54cd2f4/lib/python3.11/site-packages (from great_expectations) (2.9.2)\nRequirement already satisfied: pyparsing>=2.4 in /databricks/python3/lib/python3.11/site-packages (from great_expectations) (3.0.9)\nRequirement already satisfied: python-dateutil>=2.8.1 in /databricks/python3/lib/python3.11/site-packages (from great_expectations) (2.8.2)\nRequirement already satisfied: requests>=2.20 in /databricks/python3/lib/python3.11/site-packages (from great_expectations) (2.31.0)\nRequirement already satisfied: ruamel.yaml>=0.16 in /local_disk0/.ephemeral_nfs/envs/pythonEnv-7174b08e-ad5f-4d82-9250-edf4a54cd2f4/lib/python3.11/site-packages (from great_expectations) (0.18.6)\nRequirement already satisfied: scipy>=1.6.0 in /databricks/python3/lib/python3.11/site-packages (from great_expectations) (1.11.1)\nRequirement already satisfied: tqdm>=4.59.0 in /local_disk0/.ephemeral_nfs/envs/pythonEnv-7174b08e-ad5f-4d82-9250-edf4a54cd2f4/lib/python3.11/site-packages (from great_expectations) (4.67.0)\nRequirement already satisfied: typing-extensions>=4.1.0 in /databricks/python3/lib/python3.11/site-packages (from great_expectations) (4.10.0)\nRequirement already satisfied: tzlocal>=1.2 in /local_disk0/.ephemeral_nfs/envs/pythonEnv-7174b08e-ad5f-4d82-9250-edf4a54cd2f4/lib/python3.11/site-packages (from great_expectations) (5.2)\nRequirement already satisfied: numpy>=1.22.4 in /databricks/python3/lib/python3.11/site-packages (from great_expectations) (1.23.5)\nRequirement already satisfied: pandas<2.2,>=1.3.0 in /databricks/python3/lib/python3.11/site-packages (from great_expectations) (1.5.3)\nRequirement already satisfied: entrypoints in /databricks/python3/lib/python3.11/site-packages (from altair<5.0.0,>=4.2.1->great_expectations) (0.4)\nRequirement already satisfied: toolz in /local_disk0/.ephemeral_nfs/envs/pythonEnv-7174b08e-ad5f-4d82-9250-edf4a54cd2f4/lib/python3.11/site-packages (from altair<5.0.0,>=4.2.1->great_expectations) (1.0.0)\nRequirement already satisfied: cffi>=1.12 in /databricks/python3/lib/python3.11/site-packages (from cryptography>=3.2->great_expectations) (1.15.1)\nRequirement already satisfied: MarkupSafe>=2.0 in /local_disk0/.ephemeral_nfs/envs/pythonEnv-7174b08e-ad5f-4d82-9250-edf4a54cd2f4/lib/python3.11/site-packages (from jinja2>=2.10->great_expectations) (3.0.2)\nRequirement already satisfied: attrs>=22.2.0 in /local_disk0/.ephemeral_nfs/envs/pythonEnv-7174b08e-ad5f-4d82-9250-edf4a54cd2f4/lib/python3.11/site-packages (from jsonschema>=2.5.1->great_expectations) (24.2.0)\nRequirement already satisfied: jsonschema-specifications>=2023.03.6 in /local_disk0/.ephemeral_nfs/envs/pythonEnv-7174b08e-ad5f-4d82-9250-edf4a54cd2f4/lib/python3.11/site-packages (from jsonschema>=2.5.1->great_expectations) (2024.10.1)\nRequirement already satisfied: referencing>=0.28.4 in /local_disk0/.ephemeral_nfs/envs/pythonEnv-7174b08e-ad5f-4d82-9250-edf4a54cd2f4/lib/python3.11/site-packages (from jsonschema>=2.5.1->great_expectations) (0.35.1)\nRequirement already satisfied: rpds-py>=0.7.1 in /local_disk0/.ephemeral_nfs/envs/pythonEnv-7174b08e-ad5f-4d82-9250-edf4a54cd2f4/lib/python3.11/site-packages (from jsonschema>=2.5.1->great_expectations) (0.21.0)\nRequirement already satisfied: pytz>=2020.1 in /databricks/python3/lib/python3.11/site-packages (from pandas<2.2,>=1.3.0->great_expectations) (2022.7)\nRequirement already satisfied: six>=1.5 in /usr/lib/python3/dist-packages (from posthog<3,>=2.1.0->great_expectations) (1.16.0)\nRequirement already satisfied: monotonic>=1.5 in /local_disk0/.ephemeral_nfs/envs/pythonEnv-7174b08e-ad5f-4d82-9250-edf4a54cd2f4/lib/python3.11/site-packages (from posthog<3,>=2.1.0->great_expectations) (1.6)\nRequirement already satisfied: backoff>=1.10.0 in /local_disk0/.ephemeral_nfs/envs/pythonEnv-7174b08e-ad5f-4d82-9250-edf4a54cd2f4/lib/python3.11/site-packages (from posthog<3,>=2.1.0->great_expectations) (2.2.1)\nRequirement already satisfied: annotated-types>=0.6.0 in /local_disk0/.ephemeral_nfs/envs/pythonEnv-7174b08e-ad5f-4d82-9250-edf4a54cd2f4/lib/python3.11/site-packages (from pydantic>=1.10.7->great_expectations) (0.7.0)\nRequirement already satisfied: pydantic-core==2.23.4 in /local_disk0/.ephemeral_nfs/envs/pythonEnv-7174b08e-ad5f-4d82-9250-edf4a54cd2f4/lib/python3.11/site-packages (from pydantic>=1.10.7->great_expectations) (2.23.4)\nRequirement already satisfied: charset-normalizer<4,>=2 in /databricks/python3/lib/python3.11/site-packages (from requests>=2.20->great_expectations) (2.0.4)\nRequirement already satisfied: idna<4,>=2.5 in /databricks/python3/lib/python3.11/site-packages (from requests>=2.20->great_expectations) (3.4)\nRequirement already satisfied: urllib3<3,>=1.21.1 in /databricks/python3/lib/python3.11/site-packages (from requests>=2.20->great_expectations) (1.26.16)\nRequirement already satisfied: certifi>=2017.4.17 in /databricks/python3/lib/python3.11/site-packages (from requests>=2.20->great_expectations) (2023.7.22)\nRequirement already satisfied: ruamel.yaml.clib>=0.2.7 in /local_disk0/.ephemeral_nfs/envs/pythonEnv-7174b08e-ad5f-4d82-9250-edf4a54cd2f4/lib/python3.11/site-packages (from ruamel.yaml>=0.16->great_expectations) (0.2.12)\nRequirement already satisfied: pycparser in /databricks/python3/lib/python3.11/site-packages (from cffi>=1.12->cryptography>=3.2->great_expectations) (2.21)\n\u001B[43mNote: you may need to restart the kernel using %restart_python or dbutils.library.restartPython() to use updated packages.\u001B[0m\n"
     ]
    },
    {
     "output_type": "execute_result",
     "data": {
      "text/plain": [
       "True"
      ]
     },
     "execution_count": 102,
     "metadata": {},
     "output_type": "execute_result"
    }
   ],
   "source": [
    "%run\n",
    "./06_entrypoints"
   ]
  },
  {
   "cell_type": "markdown",
   "metadata": {
    "application/vnd.databricks.v1+cell": {
     "cellMetadata": {},
     "inputWidgets": {},
     "nuid": "fd1aad30-0bfe-49f2-9055-9c217652a5a1",
     "showTitle": false,
     "tableResultSettingsMap": {},
     "title": ""
    }
   },
   "source": [
    "# Extraindo dados Brutos"
   ]
  },
  {
   "cell_type": "code",
   "execution_count": 0,
   "metadata": {
    "application/vnd.databricks.v1+cell": {
     "cellMetadata": {},
     "inputWidgets": {},
     "nuid": "19ac4728-caca-4790-ab07-b655548e4756",
     "showTitle": false,
     "tableResultSettingsMap": {},
     "title": ""
    }
   },
   "outputs": [],
   "source": [
    "# Automatizar Extração com Scrapping"
   ]
  },
  {
   "cell_type": "code",
   "execution_count": 0,
   "metadata": {
    "application/vnd.databricks.v1+cell": {
     "cellMetadata": {
      "byteLimit": 2048000,
      "rowLimit": 10000
     },
     "inputWidgets": {},
     "nuid": "a82464c1-b7f7-4534-be8d-0a37ed6f41a8",
     "showTitle": false,
     "tableResultSettingsMap": {},
     "title": ""
    }
   },
   "outputs": [
    {
     "output_type": "stream",
     "name": "stderr",
     "output_type": "stream",
     "text": [
      "/databricks/python_shell/dbruntime/safe_oinspect.py:133: DeprecationWarning: `getargspec` function is deprecated as of IPython 7.10and will be removed in future versions.\n  argspec = oinspect.getargspec(obj)\n"
     ]
    }
   ],
   "source": [
    "raw_files = [path_raw_listings, path_raw_calendar, path_raw_reviews]\n",
    "bronze_files = [path_bronze_listings, path_bronze_calendar, path_bronze_reviews]\n",
    "\n",
    "for i in range(len(raw_files)):\n",
    "  to_bronze(raw_files[i], bronze_files[i])"
   ]
  },
  {
   "cell_type": "markdown",
   "metadata": {
    "application/vnd.databricks.v1+cell": {
     "cellMetadata": {},
     "inputWidgets": {},
     "nuid": "7ba849ef-743d-48d3-bd92-47d5b3954fa7",
     "showTitle": false,
     "tableResultSettingsMap": {},
     "title": ""
    }
   },
   "source": [
    "# Salvando na Camada Silver"
   ]
  },
  {
   "cell_type": "code",
   "execution_count": 0,
   "metadata": {
    "application/vnd.databricks.v1+cell": {
     "cellMetadata": {
      "byteLimit": 2048000,
      "rowLimit": 10000
     },
     "inputWidgets": {},
     "nuid": "ea74ce02-fa9a-4449-8d61-b433f989f998",
     "showTitle": false,
     "tableResultSettingsMap": {},
     "title": ""
    }
   },
   "outputs": [],
   "source": [
    "create_database(nome_db)"
   ]
  },
  {
   "cell_type": "code",
   "execution_count": 0,
   "metadata": {
    "application/vnd.databricks.v1+cell": {
     "cellMetadata": {
      "byteLimit": 2048000,
      "rowLimit": 10000
     },
     "inputWidgets": {},
     "nuid": "b5d4fe80-2f0e-4664-87ba-d8e553065c40",
     "showTitle": false,
     "tableResultSettingsMap": {},
     "title": ""
    }
   },
   "outputs": [],
   "source": [
    "to_silver_calendar(path_bronze_calendar, path_silver_calendar)"
   ]
  },
  {
   "cell_type": "code",
   "execution_count": 0,
   "metadata": {
    "application/vnd.databricks.v1+cell": {
     "cellMetadata": {
      "byteLimit": 2048000,
      "rowLimit": 10000
     },
     "inputWidgets": {},
     "nuid": "4d3a6bbb-3b24-4641-ad8b-f1c99b2916d0",
     "showTitle": false,
     "tableResultSettingsMap": {},
     "title": ""
    }
   },
   "outputs": [],
   "source": [
    "to_silver_listings(path_bronze_listings, path_silver_listings)"
   ]
  },
  {
   "cell_type": "code",
   "execution_count": 0,
   "metadata": {
    "application/vnd.databricks.v1+cell": {
     "cellMetadata": {
      "byteLimit": 2048000,
      "rowLimit": 10000
     },
     "inputWidgets": {},
     "nuid": "4b657b99-9d79-46cf-a225-655932e272ed",
     "showTitle": false,
     "tableResultSettingsMap": {},
     "title": ""
    }
   },
   "outputs": [],
   "source": [
    "to_silver_reviews(path_bronze_reviews, path_silver_reviews)"
   ]
  },
  {
   "cell_type": "code",
   "execution_count": 0,
   "metadata": {
    "application/vnd.databricks.v1+cell": {
     "cellMetadata": {},
     "inputWidgets": {},
     "nuid": "14a39d46-8bb4-4773-b678-b0316ce434b8",
     "showTitle": false,
     "tableResultSettingsMap": {},
     "title": ""
    }
   },
   "outputs": [],
   "source": [
    "# Adicionar Validação/Log/Tabela com o resultado da GE"
   ]
  },
  {
   "cell_type": "markdown",
   "metadata": {
    "application/vnd.databricks.v1+cell": {
     "cellMetadata": {},
     "inputWidgets": {},
     "nuid": "1b58b695-34b3-4bbb-b06c-fd16c1598247",
     "showTitle": false,
     "tableResultSettingsMap": {},
     "title": ""
    }
   },
   "source": [
    "# Salvando na Camada Gold"
   ]
  },
  {
   "cell_type": "code",
   "execution_count": 0,
   "metadata": {
    "application/vnd.databricks.v1+cell": {
     "cellMetadata": {
      "byteLimit": 2048000,
      "rowLimit": 10000
     },
     "inputWidgets": {},
     "nuid": "1f260343-d525-434b-ada1-ff9b5f177713",
     "showTitle": false,
     "tableResultSettingsMap": {},
     "title": ""
    }
   },
   "outputs": [],
   "source": [
    "gold_monthly_income_neighbourhood_property(name_db)"
   ]
  },
  {
   "cell_type": "code",
   "execution_count": 0,
   "metadata": {
    "application/vnd.databricks.v1+cell": {
     "cellMetadata": {
      "byteLimit": 2048000,
      "rowLimit": 10000
     },
     "inputWidgets": {},
     "nuid": "2380e3f9-cd4f-4f9a-940a-989f655c0232",
     "showTitle": false,
     "tableResultSettingsMap": {},
     "title": ""
    }
   },
   "outputs": [],
   "source": [
    "gold_reviews_occupancy(name_db)"
   ]
  },
  {
   "cell_type": "code",
   "execution_count": 0,
   "metadata": {
    "application/vnd.databricks.v1+cell": {
     "cellMetadata": {
      "byteLimit": 2048000,
      "rowLimit": 10000
     },
     "inputWidgets": {},
     "nuid": "e95a7b76-d4b8-4425-80de-8ac6c87339de",
     "showTitle": false,
     "tableResultSettingsMap": {},
     "title": ""
    }
   },
   "outputs": [],
   "source": [
    "gold_neighbourhood_superhost(name_db)"
   ]
  },
  {
   "cell_type": "code",
   "execution_count": 0,
   "metadata": {
    "application/vnd.databricks.v1+cell": {
     "cellMetadata": {
      "byteLimit": 2048000,
      "rowLimit": 10000
     },
     "inputWidgets": {},
     "nuid": "c396b7be-2c10-4787-8f71-64123a7ce471",
     "showTitle": false,
     "tableResultSettingsMap": {},
     "title": ""
    }
   },
   "outputs": [],
   "source": [
    "gold_neighbourhood_roomtype_review_scores(name_db)"
   ]
  },
  {
   "cell_type": "code",
   "execution_count": 0,
   "metadata": {
    "application/vnd.databricks.v1+cell": {
     "cellMetadata": {
      "byteLimit": 2048000,
      "rowLimit": 10000
     },
     "inputWidgets": {},
     "nuid": "c5cf15c0-c884-4de9-a86e-3d1a83609c56",
     "showTitle": false,
     "tableResultSettingsMap": {},
     "title": ""
    }
   },
   "outputs": [],
   "source": [
    "gold_amenities_occupancy_reviews(name_db)\n",
    "\n",
    "# OBS: QUERY DEMORADA!!!! Foram 20 minutos!"
   ]
  }
 ],
 "metadata": {
  "application/vnd.databricks.v1+notebook": {
   "dashboards": [],
   "environmentMetadata": null,
   "language": "python",
   "notebookMetadata": {
    "mostRecentlyExecutedCommandWithImplicitDF": {
     "commandId": -1,
     "dataframes": [
      "_sqldf"
     ]
    },
    "pythonIndentUnit": 4
   },
   "notebookName": "07_main",
   "widgets": {}
  }
 },
 "nbformat": 4,
 "nbformat_minor": 0
}
