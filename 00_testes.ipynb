{
 "cells": [
  {
   "cell_type": "code",
   "execution_count": 0,
   "metadata": {
    "application/vnd.databricks.v1+cell": {
     "cellMetadata": {},
     "inputWidgets": {},
     "nuid": "a9e92cf1-6a63-48e4-af43-4b5059e95775",
     "showTitle": false,
     "tableResultSettingsMap": {},
     "title": ""
    }
   },
   "outputs": [],
   "source": [
    "# Fazer Pasta\n",
    "# dbutils.fs.mkdirs(path)\n",
    "\n",
    "# Remover Pasta/Arquivo\n",
    "# dbutils.fs.rm(path, recurse=True)"
   ]
  },
  {
   "cell_type": "code",
   "execution_count": 0,
   "metadata": {
    "application/vnd.databricks.v1+cell": {
     "cellMetadata": {
      "byteLimit": 2048000,
      "rowLimit": 10000
     },
     "inputWidgets": {},
     "nuid": "db0e2a36-aef8-4365-9c82-e7f52877747d",
     "showTitle": false,
     "tableResultSettingsMap": {},
     "title": ""
    }
   },
   "outputs": [],
   "source": [
    "%run\n",
    "./98_entrypoints"
   ]
  },
  {
   "cell_type": "code",
   "execution_count": 0,
   "metadata": {
    "application/vnd.databricks.v1+cell": {
     "cellMetadata": {
      "byteLimit": 2048000,
      "rowLimit": 10000
     },
     "inputWidgets": {},
     "nuid": "b547281f-b3be-4bac-a6fc-fe3b01c48676",
     "showTitle": false,
     "tableResultSettingsMap": {},
     "title": ""
    }
   },
   "outputs": [],
   "source": [
    "# Bibliotecas\n",
    "from pyspark.sql.functions import *\n",
    "from pyspark.sql.types import *"
   ]
  },
  {
   "cell_type": "markdown",
   "metadata": {
    "application/vnd.databricks.v1+cell": {
     "cellMetadata": {},
     "inputWidgets": {},
     "nuid": "0eb35cc6-8642-45aa-9cbb-f26bf7430f40",
     "showTitle": false,
     "tableResultSettingsMap": {},
     "title": ""
    }
   },
   "source": [
    "# Extraindo Dados Brutos"
   ]
  },
  {
   "cell_type": "code",
   "execution_count": 0,
   "metadata": {
    "application/vnd.databricks.v1+cell": {
     "cellMetadata": {
      "byteLimit": 2048000,
      "rowLimit": 10000
     },
     "inputWidgets": {},
     "nuid": "6ce845e7-2cf5-425c-b60e-abf9900949c6",
     "showTitle": false,
     "tableResultSettingsMap": {},
     "title": ""
    }
   },
   "outputs": [],
   "source": [
    "\n",
    "raw_files = [path_listings, path_calendar, path_reviews]\n",
    "bronze_files = [path_bronze_listings, path_bronze_calendar, path_bronze_reviews]\n",
    "\n",
    "def raw_viz(dataframe):\n",
    "    print(f\"Linhas: {dataframe.count()} - Colunas: {len(dataframe.columns)}\")\n",
    "    dataframe.printSchema()\n",
    "    dataframe.display()\n",
    "\n",
    "for i in range(len(raw_files)):\n",
    "  df = get_raw(raw_files[i])\n",
    "  raw_viz(df)\n",
    "  df = df.dropDuplicates()\n",
    "  to_bronze(df, bronze_files[i])"
   ]
  },
  {
   "cell_type": "markdown",
   "metadata": {
    "application/vnd.databricks.v1+cell": {
     "cellMetadata": {},
     "inputWidgets": {},
     "nuid": "3c023226-5e4b-4ddb-90dd-3a91f74d7d55",
     "showTitle": false,
     "tableResultSettingsMap": {},
     "title": ""
    }
   },
   "source": [
    "# Limpeza Listings"
   ]
  },
  {
   "cell_type": "code",
   "execution_count": 0,
   "metadata": {
    "application/vnd.databricks.v1+cell": {
     "cellMetadata": {
      "byteLimit": 2048000,
      "rowLimit": 10000
     },
     "inputWidgets": {},
     "nuid": "2d486692-d43a-4e81-8580-5c4e8b46de06",
     "showTitle": false,
     "tableResultSettingsMap": {},
     "title": ""
    }
   },
   "outputs": [],
   "source": [
    "df_listings = spark.read.parquet(path_bronze_listings)\n",
    "df_listings.display()"
   ]
  },
  {
   "cell_type": "code",
   "execution_count": 0,
   "metadata": {
    "application/vnd.databricks.v1+cell": {
     "cellMetadata": {
      "byteLimit": 2048000,
      "rowLimit": 10000
     },
     "inputWidgets": {},
     "nuid": "4a3fd506-98ce-4541-b780-ddfc31b16251",
     "showTitle": false,
     "tableResultSettingsMap": {},
     "title": ""
    }
   },
   "outputs": [],
   "source": [
    "sorted(df_listings.columns)"
   ]
  },
  {
   "cell_type": "markdown",
   "metadata": {
    "application/vnd.databricks.v1+cell": {
     "cellMetadata": {},
     "inputWidgets": {},
     "nuid": "5f8a666a-2f29-4f8e-8b10-75c27ee97685",
     "showTitle": false,
     "tableResultSettingsMap": {},
     "title": ""
    }
   },
   "source": [
    "# Limpeza Calendar"
   ]
  },
  {
   "cell_type": "code",
   "execution_count": 0,
   "metadata": {
    "application/vnd.databricks.v1+cell": {
     "cellMetadata": {
      "byteLimit": 2048000,
      "rowLimit": 10000
     },
     "inputWidgets": {},
     "nuid": "1d27a43a-9728-4b36-a822-e18c54bd95c6",
     "showTitle": false,
     "tableResultSettingsMap": {},
     "title": ""
    }
   },
   "outputs": [],
   "source": [
    "df_calendar = spark.read.parquet(path_bronze_calendar)\n",
    "df_calendar.display()"
   ]
  },
  {
   "cell_type": "code",
   "execution_count": 0,
   "metadata": {
    "application/vnd.databricks.v1+cell": {
     "cellMetadata": {
      "byteLimit": 2048000,
      "rowLimit": 10000
     },
     "inputWidgets": {},
     "nuid": "7f9169d0-461d-44d8-a489-8b79a885ae00",
     "showTitle": false,
     "tableResultSettingsMap": {},
     "title": ""
    }
   },
   "outputs": [],
   "source": [
    "df_calendar.select([sum(when(col(c).isNull(), 1).otherwise(0)).alias(c) for c in df_calendar.columns]).display()"
   ]
  },
  {
   "cell_type": "code",
   "execution_count": 0,
   "metadata": {
    "application/vnd.databricks.v1+cell": {
     "cellMetadata": {
      "byteLimit": 2048000,
      "rowLimit": 10000
     },
     "inputWidgets": {},
     "nuid": "dbd0bec5-5916-49d6-8a15-3955fa1535fc",
     "showTitle": false,
     "tableResultSettingsMap": {},
     "title": ""
    }
   },
   "outputs": [],
   "source": [
    "df_calendar.count() == 12652371"
   ]
  },
  {
   "cell_type": "code",
   "execution_count": 0,
   "metadata": {
    "application/vnd.databricks.v1+cell": {
     "cellMetadata": {
      "byteLimit": 2048000,
      "rowLimit": 10000
     },
     "inputWidgets": {},
     "nuid": "954f1011-c22e-463a-8094-a9babb5f03f3",
     "showTitle": false,
     "tableResultSettingsMap": {},
     "title": ""
    }
   },
   "outputs": [],
   "source": [
    "# Coluna adjusted_price tem apenas nulos\n",
    "df_calendar = df_calendar.drop(\"adjusted_price\")\n",
    "df_calendar.display()"
   ]
  },
  {
   "cell_type": "markdown",
   "metadata": {
    "application/vnd.databricks.v1+cell": {
     "cellMetadata": {},
     "inputWidgets": {},
     "nuid": "a49d3521-88fd-4cd9-8db4-486412c51ce1",
     "showTitle": false,
     "tableResultSettingsMap": {},
     "title": ""
    }
   },
   "source": [
    "## Limpezas e Ajustes de Dados\n",
    "\n",
    "* listing_id - alterar para tipo LongType (Para integer gera muitos números nulos, LongType aceita um range maior de digitos)\n",
    "* date - alterar para tipo datetime\n",
    "* available - alterar t para True e f para False. Alterar tipo para booleano\n",
    "* price - remover cifraão e virgulas. Alterar tipo para float\n",
    "* minimum_nights - alterar para tipo integer\n",
    "* maximum_nights - alterar para tipo integer\n",
    "\n",
    "As conversões serão feitas e depois o schema vai ser informado como um todo.\n"
   ]
  },
  {
   "cell_type": "code",
   "execution_count": 0,
   "metadata": {
    "application/vnd.databricks.v1+cell": {
     "cellMetadata": {
      "byteLimit": 2048000,
      "rowLimit": 10000
     },
     "inputWidgets": {},
     "nuid": "7a8ceb7d-2c5a-4d56-af6d-26c3c7a3174b",
     "showTitle": false,
     "tableResultSettingsMap": {},
     "title": ""
    }
   },
   "outputs": [],
   "source": [
    "df_new = (df_calendar\n",
    "               .withColumn(\"listing_id\", col(\"listing_id\").cast(LongType()))\n",
    "               .withColumn(\"date\", to_timestamp(\"date\", \"yyyy-MM-dd\"))\n",
    "               .withColumn(\"available\", \n",
    "                           when(col(\"available\") == \"t\", True).\n",
    "                           when(col(\"available\") == \"f\", False).\n",
    "                           otherwise(None))\n",
    "               .withColumn(\"price\", regexp_replace(col(\"price\"), \"\\\\$\", \"\"))\n",
    "               .withColumn(\"price\", regexp_replace(col(\"price\"), \",\", \"\"))\n",
    "               .withColumn(\"price\", col(\"price\").cast(\"float\"))\n",
    "               .withColumn(\"minimum_nights\", col(\"minimum_nights\").cast(\"integer\"))\n",
    "               .withColumn(\"maximum_nights\", col(\"maximum_nights\").cast(\"integer\")))\n",
    "\n",
    "df_new.display()\n"
   ]
  },
  {
   "cell_type": "code",
   "execution_count": 0,
   "metadata": {
    "application/vnd.databricks.v1+cell": {
     "cellMetadata": {
      "byteLimit": 2048000,
      "rowLimit": 10000
     },
     "inputWidgets": {},
     "nuid": "9b91fde5-47bf-4786-8d66-82b38b98ca51",
     "showTitle": false,
     "tableResultSettingsMap": {},
     "title": ""
    }
   },
   "outputs": [],
   "source": [
    "df_calendar.select([sum(when(col(c).isNull(), 1).otherwise(0)).alias(c) for c in df_calendar.columns]).display()"
   ]
  },
  {
   "cell_type": "code",
   "execution_count": 0,
   "metadata": {
    "application/vnd.databricks.v1+cell": {
     "cellMetadata": {
      "byteLimit": 2048000,
      "rowLimit": 10000
     },
     "inputWidgets": {},
     "nuid": "618c60b6-d125-4ab6-81b2-7be764bb50a9",
     "showTitle": false,
     "tableResultSettingsMap": {},
     "title": ""
    }
   },
   "outputs": [],
   "source": [
    "df_new.select([sum(when(col(c).isNull(), 1).otherwise(0)).alias(c) for c in df_new.columns]).display()"
   ]
  },
  {
   "cell_type": "markdown",
   "metadata": {
    "application/vnd.databricks.v1+cell": {
     "cellMetadata": {},
     "inputWidgets": {},
     "nuid": "cdc619f5-f099-4f70-b82d-dc5e2a5a700e",
     "showTitle": false,
     "tableResultSettingsMap": {},
     "title": ""
    }
   },
   "source": [
    "# Limpeza Reviews"
   ]
  },
  {
   "cell_type": "code",
   "execution_count": 0,
   "metadata": {
    "application/vnd.databricks.v1+cell": {
     "cellMetadata": {
      "byteLimit": 2048000,
      "rowLimit": 10000
     },
     "inputWidgets": {},
     "nuid": "390ca5d6-bc13-4f29-9b7c-0f8cd6f7979e",
     "showTitle": false,
     "tableResultSettingsMap": {},
     "title": ""
    }
   },
   "outputs": [],
   "source": [
    "df_reviews = spark.read.parquet(path_bronze_reviews)\n",
    "df_reviews.display()"
   ]
  },
  {
   "cell_type": "code",
   "execution_count": 0,
   "metadata": {
    "application/vnd.databricks.v1+cell": {
     "cellMetadata": {
      "byteLimit": 2048000,
      "rowLimit": 10000
     },
     "inputWidgets": {},
     "nuid": "ef0b24ff-1b84-4cf0-b4b5-07506c224076",
     "showTitle": false,
     "tableResultSettingsMap": {},
     "title": ""
    }
   },
   "outputs": [],
   "source": [
    "df_reviews.columns"
   ]
  },
  {
   "cell_type": "code",
   "execution_count": 0,
   "metadata": {
    "application/vnd.databricks.v1+cell": {
     "cellMetadata": {
      "byteLimit": 2048000,
      "rowLimit": 10000
     },
     "inputWidgets": {},
     "nuid": "5bb4048a-86c3-4aa5-bf4e-9b24e645d64d",
     "showTitle": false,
     "tableResultSettingsMap": {},
     "title": ""
    }
   },
   "outputs": [],
   "source": [
    "df_new = (df_reviews\n",
    "               .withColumn(\"listing_id\", col(\"listing_id\").cast(LongType()))\n",
    "               .withColumn(\"id\", col(\"id\").cast(LongType()))\n",
    "               .withColumn(\"date\", to_timestamp(\"date\", \"yyyy-MM-dd\"))\n",
    "               .withColumn(\"reviewer_id\", col(\"reviewer_id\").cast(LongType())))\n",
    "               \n",
    "df_news.dropna()\n",
    "df_new.display()"
   ]
  }
 ],
 "metadata": {
  "application/vnd.databricks.v1+notebook": {
   "dashboards": [],
   "environmentMetadata": null,
   "language": "python",
   "notebookMetadata": {
    "pythonIndentUnit": 4
   },
   "notebookName": "00_testes",
   "widgets": {}
  }
 },
 "nbformat": 4,
 "nbformat_minor": 0
}
