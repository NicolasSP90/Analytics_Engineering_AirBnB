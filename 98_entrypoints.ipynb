{
 "cells": [
  {
   "cell_type": "code",
   "execution_count": 0,
   "metadata": {
    "application/vnd.databricks.v1+cell": {
     "cellMetadata": {
      "byteLimit": 2048000,
      "rowLimit": 10000
     },
     "inputWidgets": {},
     "nuid": "0b799a54-1405-423b-a7d8-d6a78045fc1a",
     "showTitle": false,
     "tableResultSettingsMap": {},
     "title": ""
    }
   },
   "outputs": [],
   "source": [
    "# Caminho do Projeto\n",
    "path_projeto = \"/FileStore/Projeto_Analytics\"\n",
    "\n",
    "# Caminho Bruto\n",
    "path_raw = \"/FileStore/Projeto_Analytics/data/raw\"\n",
    "path_raw_listings = \"/FileStore/Projeto_Analytics/data/raw/listings_csv.gz\"\n",
    "path_raw_calendar = \"/FileStore/Projeto_Analytics/data/raw/calendar_csv.gz\"\n",
    "path_raw_reviews = \"/FileStore/Projeto_Analytics/data/raw/reviews_csv.gz\"\n",
    "\n",
    "# Caminho Bronze\n",
    "path_bronze = \"/FileStore/Projeto_Analytics/data/bronze/\"\n",
    "path_bronze_listings = \"/FileStore/Projeto_Analytics/data/bronze/listings\"\n",
    "path_bronze_calendar = \"/FileStore/Projeto_Analytics/data/bronze/calendar\"\n",
    "path_bronze_reviews = \"/FileStore/Projeto_Analytics/data/bronze/reviews\"\n",
    "\n",
    "# Caminho Silver\n",
    "path_silver = \"/FileStore/Projeto_Analytics/data/silver/\"\n",
    "path_silver_listings = \"/FileStore/Projeto_Analytics/data/silver/listings\"\n",
    "path_silver_calendar = \"/FileStore/Projeto_Analytics/data/silver/calendar\"\n",
    "path_silver_reviews = \"/FileStore/Projeto_Analytics/data/silver/reviews\"\n"
   ]
  },
  {
   "cell_type": "code",
   "execution_count": 0,
   "metadata": {
    "application/vnd.databricks.v1+cell": {
     "cellMetadata": {
      "byteLimit": 2048000,
      "rowLimit": 10000
     },
     "inputWidgets": {},
     "nuid": "9c9a184f-4eb2-4bb6-b484-6467f6f2b544",
     "showTitle": false,
     "tableResultSettingsMap": {},
     "title": ""
    }
   },
   "outputs": [],
   "source": [
    "%run\n",
    "./01_extrair_raw"
   ]
  },
  {
   "cell_type": "code",
   "execution_count": 0,
   "metadata": {
    "application/vnd.databricks.v1+cell": {
     "cellMetadata": {
      "byteLimit": 2048000,
      "rowLimit": 10000
     },
     "inputWidgets": {},
     "nuid": "bde74e8b-97c9-4864-90b0-b4fe2d3d1819",
     "showTitle": false,
     "tableResultSettingsMap": {},
     "title": ""
    }
   },
   "outputs": [],
   "source": [
    "%run\n",
    "./02_silver_calendar"
   ]
  },
  {
   "cell_type": "code",
   "execution_count": 0,
   "metadata": {
    "application/vnd.databricks.v1+cell": {
     "cellMetadata": {
      "byteLimit": 2048000,
      "rowLimit": 10000
     },
     "inputWidgets": {},
     "nuid": "81cc9e7b-3639-4455-a4b6-224accc34e59",
     "showTitle": false,
     "tableResultSettingsMap": {},
     "title": ""
    }
   },
   "outputs": [],
   "source": [
    "%run\n",
    "./02_silver_listings"
   ]
  },
  {
   "cell_type": "code",
   "execution_count": 0,
   "metadata": {
    "application/vnd.databricks.v1+cell": {
     "cellMetadata": {
      "byteLimit": 2048000,
      "rowLimit": 10000
     },
     "inputWidgets": {},
     "nuid": "dcc59df9-87d1-492c-9656-eee9589fcec9",
     "showTitle": false,
     "tableResultSettingsMap": {},
     "title": ""
    }
   },
   "outputs": [],
   "source": [
    "%run\n",
    "./02_silver_reviews"
   ]
  }
 ],
 "metadata": {
  "application/vnd.databricks.v1+notebook": {
   "dashboards": [],
   "environmentMetadata": null,
   "language": "python",
   "notebookMetadata": {
    "pythonIndentUnit": 4
   },
   "notebookName": "98_entrypoints",
   "widgets": {}
  }
 },
 "nbformat": 4,
 "nbformat_minor": 0
}
