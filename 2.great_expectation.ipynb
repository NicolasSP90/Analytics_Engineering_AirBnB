{
 "cells": [
  {
   "cell_type": "code",
   "execution_count": 19,
   "id": "36d3eb4e-8ae0-4ded-9bce-aee20845e985",
   "metadata": {},
   "outputs": [],
   "source": [
    "from pyspark.context import SparkContext\n",
    "from pyspark.sql import SparkSession\n",
    "from pyspark.sql import Row\n",
    "from sqlalchemy import create_engine\n",
    "#from delta import *\n",
    "import pyspark\n",
    "\n",
    "from pyspark.sql.types import DateType, IntegerType, LongType, FloatType, BooleanType\n",
    "\n",
    "from pyspark.sql.functions import col, sum\n",
    "\n",
    "from pyspark.sql.functions import regexp_replace\n",
    "\n",
    "import pandas as pd \n",
    "import json\n",
    "\n",
    "import great_expectations as gx\n",
    "\n",
    "#from delta import DeltaTable  # Necessário apenas se for usar operações específicas"
   ]
  },
  {
   "cell_type": "code",
   "execution_count": 2,
   "id": "e05ff26e-f836-4c9d-aac2-9ea9351fe762",
   "metadata": {},
   "outputs": [
    {
     "name": "stdout",
     "output_type": "stream",
     "text": [
      "1.2.2\n"
     ]
    }
   ],
   "source": [
    "context = gx.get_context()\n",
    "\n",
    "print(gx.__version__)"
   ]
  },
  {
   "cell_type": "markdown",
   "id": "3451199f-05d7-4c64-80d6-77b221e707ba",
   "metadata": {
    "jp-MarkdownHeadingCollapsed": true
   },
   "source": [
    "### 0. Inicia Sessão Spark"
   ]
  },
  {
   "cell_type": "code",
   "execution_count": 3,
   "id": "3613e581-7924-42fe-a062-60b1ccfb4375",
   "metadata": {},
   "outputs": [],
   "source": [
    "import pyspark\n",
    "from delta import *\n",
    "\n",
    "builder = pyspark.sql.SparkSession.builder.appName(\"MyApp\") \\\n",
    "    .config(\"spark.sql.extensions\", \"io.delta.sql.DeltaSparkSessionExtension\") \\\n",
    "    .config(\"spark.sql.catalog.spark_catalog\", \"org.apache.spark.sql.delta.catalog.DeltaCatalog\")\n",
    "\n",
    "spark = configure_spark_with_delta_pip(builder).getOrCreate()"
   ]
  },
  {
   "cell_type": "markdown",
   "id": "117cb110-cd17-489c-b814-c7885e376dc7",
   "metadata": {
    "jp-MarkdownHeadingCollapsed": true
   },
   "source": [
    "## 1. Great Expectation"
   ]
  },
  {
   "cell_type": "markdown",
   "id": "d9b1d72a-f2b1-4823-baa0-c12c3669b97d",
   "metadata": {
    "jp-MarkdownHeadingCollapsed": true
   },
   "source": [
    "### 1.1 Reviews"
   ]
  },
  {
   "cell_type": "code",
   "execution_count": 28,
   "id": "3c792f54-8d4b-4470-a5a2-9e3c26af7c73",
   "metadata": {},
   "outputs": [],
   "source": [
    "# Carregar dados Delta\n",
    "reviews = spark.read.format(\"delta\").load(\"deltalake/silver/silver_reviews\")"
   ]
  },
  {
   "cell_type": "code",
   "execution_count": 87,
   "id": "a950cdb1-b631-4a50-a45d-d05f8715dff3",
   "metadata": {},
   "outputs": [
    {
     "name": "stdout",
     "output_type": "stream",
     "text": [
      "+----------+------------------+----------+-----------+-------------+--------------------+\n",
      "|listing_id|                id|      date|reviewer_id|reviewer_name|            comments|\n",
      "+----------+------------------+----------+-----------+-------------+--------------------+\n",
      "|    854496|          95807013|2016-08-21|   64850524|      Ricardo| Localização nota 10|\n",
      "|  25728359|944196639692565570|2023-07-26|  453609373| Joanna Paula|Apartamento espaç...|\n",
      "|  38820649|         562094445|2019-11-10|  221445646|       Cibele|Hospitalidade inc...|\n",
      "|  45329462|561497635891415917|2022-02-13|  106063766|        Heric|Fiel ao anúncio. ...|\n",
      "|  52507271|910910423101689718|2023-06-10|  236708134|       Daniel|Tudo certo. O anf...|\n",
      "+----------+------------------+----------+-----------+-------------+--------------------+\n",
      "only showing top 5 rows\n",
      "\n"
     ]
    }
   ],
   "source": [
    "reviews.show(n=5)"
   ]
  },
  {
   "cell_type": "code",
   "execution_count": 89,
   "id": "78cbc18c-6524-4824-b701-0a4c8bfa82a4",
   "metadata": {},
   "outputs": [],
   "source": [
    "data_source = context.data_sources.add_spark(\"teste_spark\")"
   ]
  },
  {
   "cell_type": "code",
   "execution_count": 90,
   "id": "56e5f331-d57d-4bfc-b528-0eaeba0ad78b",
   "metadata": {},
   "outputs": [],
   "source": [
    "data_asset = data_source.add_dataframe_asset(name=\"spark dataframe asset\")"
   ]
  },
  {
   "cell_type": "code",
   "execution_count": 91,
   "id": "8698e01e-d13c-4a09-bf5c-270e30acbc1b",
   "metadata": {},
   "outputs": [],
   "source": [
    "batch_definition = data_asset.add_batch_definition_whole_dataframe(\"batch definition\")"
   ]
  },
  {
   "cell_type": "code",
   "execution_count": 92,
   "id": "a455c269-fe6b-4354-838f-f59cf8b64a13",
   "metadata": {},
   "outputs": [],
   "source": [
    "batch = batch_definition.get_batch(batch_parameters={\"dataframe\": reviews})"
   ]
  },
  {
   "cell_type": "code",
   "execution_count": 93,
   "id": "0c1ef325-b98a-46e6-9dc9-a88f50ecf294",
   "metadata": {},
   "outputs": [],
   "source": [
    "suite = gx.ExpectationSuite(name=\"suite_teste\")\n",
    "suite = context.suites.add(suite)"
   ]
  },
  {
   "cell_type": "code",
   "execution_count": 94,
   "id": "16481dfa-eb75-47d3-bb05-fb8eb1cf984b",
   "metadata": {},
   "outputs": [],
   "source": [
    "lista_col_data = [\"date\"]\n",
    "lista_col_int = [\"listing_id\",\"id\",\"reviewer_id\"]"
   ]
  },
  {
   "cell_type": "code",
   "execution_count": 95,
   "id": "6f37fbac-5449-46c5-8d84-2330eb810246",
   "metadata": {},
   "outputs": [],
   "source": [
    "for coluna in lista_col_data:\n",
    "  expectation = gx.expectations.ExpectColumnValuesToBeOfType(column=coluna, type_=\"DateType\")\n",
    "  suite.add_expectation(expectation)\n",
    "for coluna in lista_col_int:\n",
    "  expectation = gx.expectations.ExpectColumnValuesToBeOfType(column=coluna, type_=\"LongType\")\n",
    "  suite.add_expectation(expectation)"
   ]
  },
  {
   "cell_type": "code",
   "execution_count": 96,
   "id": "882a90d6-04eb-41a0-b641-d58bcf55f487",
   "metadata": {},
   "outputs": [],
   "source": [
    "#expectation = gx.expectations.ExpectColumnValuesToBeBetween(column=\"price\", min_value=0, strict_min=True)"
   ]
  },
  {
   "cell_type": "code",
   "execution_count": 97,
   "id": "e7efb7c2-48e2-4f23-8263-01f2044e8240",
   "metadata": {},
   "outputs": [],
   "source": [
    "validation_definition = gx.ValidationDefinition(data=batch_definition, suite=suite, name=\"validacao dados auto\")"
   ]
  },
  {
   "cell_type": "markdown",
   "id": "7d758bb6-b363-4e59-8ef1-7d80e92b6064",
   "metadata": {},
   "source": [
    "#### 1.1.1 Great Expectations"
   ]
  },
  {
   "cell_type": "code",
   "execution_count": 98,
   "id": "cbeaade1-cc44-45b8-91b4-defdecdf0197",
   "metadata": {
    "scrolled": true
   },
   "outputs": [
    {
     "data": {
      "application/vnd.jupyter.widget-view+json": {
       "model_id": "361631d388aa4779b78ea7a21875e631",
       "version_major": 2,
       "version_minor": 0
      },
      "text/plain": [
       "Calculating Metrics:   0%|          | 0/1 [00:00<?, ?it/s]"
      ]
     },
     "metadata": {},
     "output_type": "display_data"
    }
   ],
   "source": [
    "reviews_ge = validation_definition.run(batch_parameters={\"dataframe\":reviews})"
   ]
  },
  {
   "cell_type": "code",
   "execution_count": 99,
   "id": "2eadd6ae-cc3e-4957-aeaf-58ba3020c41d",
   "metadata": {},
   "outputs": [],
   "source": [
    "reviews_dict = reviews_ge.to_json_dict()"
   ]
  },
  {
   "cell_type": "code",
   "execution_count": 100,
   "id": "f99f30bc-0e9f-49db-9325-0a4234df32b4",
   "metadata": {},
   "outputs": [],
   "source": [
    "reviews_ge_df = pd.json_normalize(reviews_dict)\n",
    "reviews_ge_df = reviews_ge_df.explode('results')"
   ]
  },
  {
   "cell_type": "code",
   "execution_count": 101,
   "id": "3a8cee68-e914-42bd-9409-7feebd49c29b",
   "metadata": {},
   "outputs": [],
   "source": [
    "# Expandir os dicionários dentro de 'results' para colunas\n",
    "results_reviews_df = pd.json_normalize(df['results'])"
   ]
  },
  {
   "cell_type": "code",
   "execution_count": 104,
   "id": "51d24ba8-c25b-471a-8d72-bc48915ef886",
   "metadata": {},
   "outputs": [],
   "source": [
    "# Redefinir o índice dos DataFrames antes de concatená-los\n",
    "df_reset = reviews_ge_df.drop(columns=['results']).reset_index(drop=True)\n",
    "results_df_reset = results_reviews_df.reset_index(drop=True)\n",
    "\n",
    "# Concatenar os DataFrames\n",
    "reviews_final_df = pd.concat([df_reset, results_df_reset], axis=1)"
   ]
  },
  {
   "cell_type": "code",
   "execution_count": 105,
   "id": "8b73e655-349b-4703-be03-9a0e382daa14",
   "metadata": {},
   "outputs": [
    {
     "data": {
      "text/html": [
       "<div>\n",
       "<style scoped>\n",
       "    .dataframe tbody tr th:only-of-type {\n",
       "        vertical-align: middle;\n",
       "    }\n",
       "\n",
       "    .dataframe tbody tr th {\n",
       "        vertical-align: top;\n",
       "    }\n",
       "\n",
       "    .dataframe thead th {\n",
       "        text-align: right;\n",
       "    }\n",
       "</style>\n",
       "<table border=\"1\" class=\"dataframe\">\n",
       "  <thead>\n",
       "    <tr style=\"text-align: right;\">\n",
       "      <th></th>\n",
       "      <th>success</th>\n",
       "      <th>suite_name</th>\n",
       "      <th>id</th>\n",
       "      <th>statistics.evaluated_expectations</th>\n",
       "      <th>statistics.successful_expectations</th>\n",
       "      <th>statistics.unsuccessful_expectations</th>\n",
       "      <th>statistics.success_percent</th>\n",
       "      <th>meta.great_expectations_version</th>\n",
       "      <th>meta.batch_spec.batch_data</th>\n",
       "      <th>meta.batch_markers.ge_load_time</th>\n",
       "      <th>...</th>\n",
       "      <th>success</th>\n",
       "      <th>expectation_config.type</th>\n",
       "      <th>expectation_config.kwargs.batch_id</th>\n",
       "      <th>expectation_config.kwargs.column</th>\n",
       "      <th>expectation_config.kwargs.type_</th>\n",
       "      <th>expectation_config.id</th>\n",
       "      <th>result.observed_value</th>\n",
       "      <th>exception_info.raised_exception</th>\n",
       "      <th>exception_info.exception_traceback</th>\n",
       "      <th>exception_info.exception_message</th>\n",
       "    </tr>\n",
       "  </thead>\n",
       "  <tbody>\n",
       "    <tr>\n",
       "      <th>0</th>\n",
       "      <td>True</td>\n",
       "      <td>suite_teste</td>\n",
       "      <td>None</td>\n",
       "      <td>4</td>\n",
       "      <td>4</td>\n",
       "      <td>0</td>\n",
       "      <td>100.0</td>\n",
       "      <td>1.2.2</td>\n",
       "      <td>SparkDataFrame</td>\n",
       "      <td>20241111T201710.728421Z</td>\n",
       "      <td>...</td>\n",
       "      <td>True</td>\n",
       "      <td>expect_column_values_to_be_of_type</td>\n",
       "      <td>teste_spark-spark dataframe asset</td>\n",
       "      <td>date</td>\n",
       "      <td>DateType</td>\n",
       "      <td>55220df2-f2e7-4108-adc8-99433bc3613a</td>\n",
       "      <td>DateType</td>\n",
       "      <td>False</td>\n",
       "      <td>None</td>\n",
       "      <td>None</td>\n",
       "    </tr>\n",
       "    <tr>\n",
       "      <th>1</th>\n",
       "      <td>True</td>\n",
       "      <td>suite_teste</td>\n",
       "      <td>None</td>\n",
       "      <td>4</td>\n",
       "      <td>4</td>\n",
       "      <td>0</td>\n",
       "      <td>100.0</td>\n",
       "      <td>1.2.2</td>\n",
       "      <td>SparkDataFrame</td>\n",
       "      <td>20241111T201710.728421Z</td>\n",
       "      <td>...</td>\n",
       "      <td>True</td>\n",
       "      <td>expect_column_values_to_be_of_type</td>\n",
       "      <td>teste_spark-spark dataframe asset</td>\n",
       "      <td>listing_id</td>\n",
       "      <td>LongType</td>\n",
       "      <td>9eaca797-a0ea-47cd-95c3-fdb8845c16bc</td>\n",
       "      <td>LongType</td>\n",
       "      <td>False</td>\n",
       "      <td>None</td>\n",
       "      <td>None</td>\n",
       "    </tr>\n",
       "    <tr>\n",
       "      <th>2</th>\n",
       "      <td>True</td>\n",
       "      <td>suite_teste</td>\n",
       "      <td>None</td>\n",
       "      <td>4</td>\n",
       "      <td>4</td>\n",
       "      <td>0</td>\n",
       "      <td>100.0</td>\n",
       "      <td>1.2.2</td>\n",
       "      <td>SparkDataFrame</td>\n",
       "      <td>20241111T201710.728421Z</td>\n",
       "      <td>...</td>\n",
       "      <td>True</td>\n",
       "      <td>expect_column_values_to_be_of_type</td>\n",
       "      <td>teste_spark-spark dataframe asset</td>\n",
       "      <td>id</td>\n",
       "      <td>LongType</td>\n",
       "      <td>f43a0d54-ce39-4521-b49d-e18e7c8dec30</td>\n",
       "      <td>LongType</td>\n",
       "      <td>False</td>\n",
       "      <td>None</td>\n",
       "      <td>None</td>\n",
       "    </tr>\n",
       "    <tr>\n",
       "      <th>3</th>\n",
       "      <td>True</td>\n",
       "      <td>suite_teste</td>\n",
       "      <td>None</td>\n",
       "      <td>4</td>\n",
       "      <td>4</td>\n",
       "      <td>0</td>\n",
       "      <td>100.0</td>\n",
       "      <td>1.2.2</td>\n",
       "      <td>SparkDataFrame</td>\n",
       "      <td>20241111T201710.728421Z</td>\n",
       "      <td>...</td>\n",
       "      <td>True</td>\n",
       "      <td>expect_column_values_to_be_of_type</td>\n",
       "      <td>teste_spark-spark dataframe asset</td>\n",
       "      <td>reviewer_id</td>\n",
       "      <td>LongType</td>\n",
       "      <td>0d51b3e2-cba5-47c4-9b38-6267930dc90e</td>\n",
       "      <td>LongType</td>\n",
       "      <td>False</td>\n",
       "      <td>None</td>\n",
       "      <td>None</td>\n",
       "    </tr>\n",
       "  </tbody>\n",
       "</table>\n",
       "<p>4 rows × 27 columns</p>\n",
       "</div>"
      ],
      "text/plain": [
       "  success   suite_name    id  statistics.evaluated_expectations  \\\n",
       "0    True  suite_teste  None                                  4   \n",
       "1    True  suite_teste  None                                  4   \n",
       "2    True  suite_teste  None                                  4   \n",
       "3    True  suite_teste  None                                  4   \n",
       "\n",
       "   statistics.successful_expectations  statistics.unsuccessful_expectations  \\\n",
       "0                                   4                                     0   \n",
       "1                                   4                                     0   \n",
       "2                                   4                                     0   \n",
       "3                                   4                                     0   \n",
       "\n",
       "   statistics.success_percent meta.great_expectations_version  \\\n",
       "0                       100.0                           1.2.2   \n",
       "1                       100.0                           1.2.2   \n",
       "2                       100.0                           1.2.2   \n",
       "3                       100.0                           1.2.2   \n",
       "\n",
       "  meta.batch_spec.batch_data meta.batch_markers.ge_load_time  ... success  \\\n",
       "0             SparkDataFrame         20241111T201710.728421Z  ...    True   \n",
       "1             SparkDataFrame         20241111T201710.728421Z  ...    True   \n",
       "2             SparkDataFrame         20241111T201710.728421Z  ...    True   \n",
       "3             SparkDataFrame         20241111T201710.728421Z  ...    True   \n",
       "\n",
       "              expectation_config.type expectation_config.kwargs.batch_id  \\\n",
       "0  expect_column_values_to_be_of_type  teste_spark-spark dataframe asset   \n",
       "1  expect_column_values_to_be_of_type  teste_spark-spark dataframe asset   \n",
       "2  expect_column_values_to_be_of_type  teste_spark-spark dataframe asset   \n",
       "3  expect_column_values_to_be_of_type  teste_spark-spark dataframe asset   \n",
       "\n",
       "  expectation_config.kwargs.column expectation_config.kwargs.type_  \\\n",
       "0                             date                        DateType   \n",
       "1                       listing_id                        LongType   \n",
       "2                               id                        LongType   \n",
       "3                      reviewer_id                        LongType   \n",
       "\n",
       "                  expectation_config.id result.observed_value  \\\n",
       "0  55220df2-f2e7-4108-adc8-99433bc3613a              DateType   \n",
       "1  9eaca797-a0ea-47cd-95c3-fdb8845c16bc              LongType   \n",
       "2  f43a0d54-ce39-4521-b49d-e18e7c8dec30              LongType   \n",
       "3  0d51b3e2-cba5-47c4-9b38-6267930dc90e              LongType   \n",
       "\n",
       "   exception_info.raised_exception exception_info.exception_traceback  \\\n",
       "0                            False                               None   \n",
       "1                            False                               None   \n",
       "2                            False                               None   \n",
       "3                            False                               None   \n",
       "\n",
       "  exception_info.exception_message  \n",
       "0                             None  \n",
       "1                             None  \n",
       "2                             None  \n",
       "3                             None  \n",
       "\n",
       "[4 rows x 27 columns]"
      ]
     },
     "execution_count": 105,
     "metadata": {},
     "output_type": "execute_result"
    }
   ],
   "source": [
    "final_df"
   ]
  },
  {
   "cell_type": "markdown",
   "id": "b48ad849-5b1d-41ed-8286-dc340e9e3335",
   "metadata": {
    "jp-MarkdownHeadingCollapsed": true
   },
   "source": [
    "### 1.2 Calendar"
   ]
  },
  {
   "cell_type": "code",
   "execution_count": 27,
   "id": "0aa70155-3dde-4907-b595-4a298d745450",
   "metadata": {},
   "outputs": [],
   "source": [
    "# Carregar dados Delta\n",
    "calendar = spark.read.format(\"delta\").load(\"deltalake/silver/silver_calendar\")"
   ]
  },
  {
   "cell_type": "code",
   "execution_count": 108,
   "id": "f74b718c-9baf-41b1-8173-9d121a4a2f85",
   "metadata": {},
   "outputs": [
    {
     "name": "stdout",
     "output_type": "stream",
     "text": [
      "+----------+----------+---------+-----+--------------+--------------+--------------+\n",
      "|listing_id|      date|available|price|adjusted_price|minimum_nights|maximum_nights|\n",
      "+----------+----------+---------+-----+--------------+--------------+--------------+\n",
      "|    297908|2024-06-27|    false|250.0|          NULL|             2|          1125|\n",
      "|     17878|2024-06-28|    false|350.0|          NULL|             5|            28|\n",
      "|     17878|2024-06-29|    false|350.0|          NULL|             5|            28|\n",
      "|     17878|2024-06-30|    false|350.0|          NULL|             5|            28|\n",
      "|     17878|2024-07-01|    false|350.0|          NULL|             5|            28|\n",
      "+----------+----------+---------+-----+--------------+--------------+--------------+\n",
      "only showing top 5 rows\n",
      "\n"
     ]
    }
   ],
   "source": [
    "calendar.show(n=5)"
   ]
  },
  {
   "cell_type": "code",
   "execution_count": 89,
   "id": "44e21ebf-b6a5-44c2-aebd-9cb2d4eb049e",
   "metadata": {},
   "outputs": [],
   "source": [
    "#data_source = context.data_sources.add_spark(\"teste_spark\")"
   ]
  },
  {
   "cell_type": "code",
   "execution_count": 90,
   "id": "55ad4d88-ab26-4bf8-adad-3e2ee14922ba",
   "metadata": {},
   "outputs": [],
   "source": [
    "#data_asset = data_source.add_dataframe_asset(name=\"spark dataframe asset\")"
   ]
  },
  {
   "cell_type": "code",
   "execution_count": 91,
   "id": "661af244-5135-49e9-a793-a9edc398919d",
   "metadata": {},
   "outputs": [],
   "source": [
    "#batch_definition = data_asset.add_batch_definition_whole_dataframe(\"batch definition\")"
   ]
  },
  {
   "cell_type": "code",
   "execution_count": 109,
   "id": "0efcdc19-ac87-469c-8f67-47e0d08ffbff",
   "metadata": {},
   "outputs": [],
   "source": [
    "batch = batch_definition.get_batch(batch_parameters={\"dataframe\": calendar})"
   ]
  },
  {
   "cell_type": "code",
   "execution_count": 110,
   "id": "b66222bb-7b11-4e5d-8733-bb23bdebdb59",
   "metadata": {},
   "outputs": [],
   "source": [
    "suite = gx.ExpectationSuite(name=\"suite_teste_calendar\")\n",
    "suite = context.suites.add(suite)"
   ]
  },
  {
   "cell_type": "code",
   "execution_count": 111,
   "id": "eb13463b-27d4-4156-9cf2-8e4966862a7c",
   "metadata": {},
   "outputs": [],
   "source": [
    "lista_col_data = [\"date\"]\n",
    "lista_col_long_int = [\"listing_id\"]\n",
    "lista_col_float = [\"price\"]\n",
    "lista_col_bool = [\"available\"]\n",
    "lista_col_int = [\"adjusted_price\",\"minimum_nights\",\"maximum_nights\"]"
   ]
  },
  {
   "cell_type": "code",
   "execution_count": 112,
   "id": "1c77d32e-8523-48ec-a99e-ea5c9f8af143",
   "metadata": {},
   "outputs": [],
   "source": [
    "for coluna in lista_col_data:\n",
    "  expectation = gx.expectations.ExpectColumnValuesToBeOfType(column=coluna, type_=\"DateType\")\n",
    "  suite.add_expectation(expectation)\n",
    "for coluna in lista_col_long_int:\n",
    "  expectation = gx.expectations.ExpectColumnValuesToBeOfType(column=coluna, type_=\"LongType\")\n",
    "  suite.add_expectation(expectation)\n",
    "for coluna in lista_col_float:\n",
    "  expectation = gx.expectations.ExpectColumnValuesToBeOfType(column=coluna, type_=\"IntegerType\")\n",
    "  suite.add_expectation(expectation)\n",
    "for coluna in lista_col_bool:\n",
    "  expectation = gx.expectations.ExpectColumnValuesToBeOfType(column=coluna, type_=\"BooleanType\")\n",
    "  suite.add_expectation(expectation)\n",
    "for coluna in lista_col_int:\n",
    "  expectation = gx.expectations.ExpectColumnValuesToBeOfType(column=coluna, type_=\"IntegerType\")\n",
    "  suite.add_expectation(expectation)\n"
   ]
  },
  {
   "cell_type": "code",
   "execution_count": 96,
   "id": "0c8772a3-d4d3-437f-8479-d0ab9baef71e",
   "metadata": {},
   "outputs": [],
   "source": [
    "#expectation = gx.expectations.ExpectColumnValuesToBeBetween(column=\"price\", min_value=0, strict_min=True)"
   ]
  },
  {
   "cell_type": "code",
   "execution_count": 113,
   "id": "f662eacd-07d8-4184-aac3-cb2aa9b29fae",
   "metadata": {},
   "outputs": [],
   "source": [
    "validation_definition = gx.ValidationDefinition(data=batch_definition, suite=suite, name=\"validacao dados calendar\")"
   ]
  },
  {
   "cell_type": "markdown",
   "id": "a6787704-49d1-4bdc-9b4a-542df891435e",
   "metadata": {},
   "source": [
    "#### 1.2.1 Great Expectations"
   ]
  },
  {
   "cell_type": "code",
   "execution_count": 114,
   "id": "b522d910-36d2-47c6-8724-a91e327277b2",
   "metadata": {
    "scrolled": true
   },
   "outputs": [
    {
     "data": {
      "application/vnd.jupyter.widget-view+json": {
       "model_id": "f9e29de7c36d41418332eacc1f2d2817",
       "version_major": 2,
       "version_minor": 0
      },
      "text/plain": [
       "Calculating Metrics:   0%|          | 0/1 [00:00<?, ?it/s]"
      ]
     },
     "metadata": {},
     "output_type": "display_data"
    }
   ],
   "source": [
    "calendar_ge = validation_definition.run(batch_parameters={\"dataframe\":reviews})"
   ]
  },
  {
   "cell_type": "code",
   "execution_count": 116,
   "id": "07c3d44e-8cfc-49f7-b580-e60c3289a23f",
   "metadata": {},
   "outputs": [],
   "source": [
    "calendar_dict = calendar_ge.to_json_dict()"
   ]
  },
  {
   "cell_type": "code",
   "execution_count": 117,
   "id": "be944157-209a-4e17-af04-99dc183ade14",
   "metadata": {},
   "outputs": [],
   "source": [
    "calendar_ge_df = pd.json_normalize(calendar_dict)\n",
    "calendar_ge_df = calendar_ge_df.explode('results')"
   ]
  },
  {
   "cell_type": "code",
   "execution_count": 118,
   "id": "cfb84180-ee5d-4e5d-9c78-b946e1c6c8b3",
   "metadata": {},
   "outputs": [],
   "source": [
    "# Expandir os dicionários dentro de 'results' para colunas\n",
    "results_calendar_df = pd.json_normalize(calendar_ge_df['results'])"
   ]
  },
  {
   "cell_type": "code",
   "execution_count": 119,
   "id": "1f8f87d8-baf1-4001-9c57-7eda23eab154",
   "metadata": {},
   "outputs": [],
   "source": [
    "# Redefinir o índice dos DataFrames antes de concatená-los\n",
    "df_reset = calendar_ge_df.drop(columns=['results']).reset_index(drop=True)\n",
    "results_df_reset = results_calendar_df.reset_index(drop=True)\n",
    "\n",
    "# Concatenar os DataFrames\n",
    "calendar_final_df = pd.concat([df_reset, results_df_reset], axis=1)"
   ]
  },
  {
   "cell_type": "code",
   "execution_count": 120,
   "id": "8d6cc279-7d7c-4618-aebf-71790d1fbf18",
   "metadata": {},
   "outputs": [
    {
     "data": {
      "text/html": [
       "<div>\n",
       "<style scoped>\n",
       "    .dataframe tbody tr th:only-of-type {\n",
       "        vertical-align: middle;\n",
       "    }\n",
       "\n",
       "    .dataframe tbody tr th {\n",
       "        vertical-align: top;\n",
       "    }\n",
       "\n",
       "    .dataframe thead th {\n",
       "        text-align: right;\n",
       "    }\n",
       "</style>\n",
       "<table border=\"1\" class=\"dataframe\">\n",
       "  <thead>\n",
       "    <tr style=\"text-align: right;\">\n",
       "      <th></th>\n",
       "      <th>success</th>\n",
       "      <th>suite_name</th>\n",
       "      <th>id</th>\n",
       "      <th>statistics.evaluated_expectations</th>\n",
       "      <th>statistics.successful_expectations</th>\n",
       "      <th>statistics.unsuccessful_expectations</th>\n",
       "      <th>statistics.success_percent</th>\n",
       "      <th>meta.great_expectations_version</th>\n",
       "      <th>meta.batch_spec.batch_data</th>\n",
       "      <th>meta.batch_markers.ge_load_time</th>\n",
       "      <th>...</th>\n",
       "      <th>success</th>\n",
       "      <th>expectation_config.type</th>\n",
       "      <th>expectation_config.kwargs.batch_id</th>\n",
       "      <th>expectation_config.kwargs.column</th>\n",
       "      <th>expectation_config.kwargs.type_</th>\n",
       "      <th>expectation_config.id</th>\n",
       "      <th>result.observed_value</th>\n",
       "      <th>exception_info.raised_exception</th>\n",
       "      <th>exception_info.exception_traceback</th>\n",
       "      <th>exception_info.exception_message</th>\n",
       "    </tr>\n",
       "  </thead>\n",
       "  <tbody>\n",
       "    <tr>\n",
       "      <th>0</th>\n",
       "      <td>False</td>\n",
       "      <td>suite_teste_calendar</td>\n",
       "      <td>None</td>\n",
       "      <td>7</td>\n",
       "      <td>2</td>\n",
       "      <td>5</td>\n",
       "      <td>28.571429</td>\n",
       "      <td>1.2.2</td>\n",
       "      <td>SparkDataFrame</td>\n",
       "      <td>20241111T204059.098993Z</td>\n",
       "      <td>...</td>\n",
       "      <td>True</td>\n",
       "      <td>expect_column_values_to_be_of_type</td>\n",
       "      <td>teste_spark-spark dataframe asset</td>\n",
       "      <td>date</td>\n",
       "      <td>DateType</td>\n",
       "      <td>e70e48a4-312b-46a5-8559-967a517de5cd</td>\n",
       "      <td>DateType</td>\n",
       "      <td>False</td>\n",
       "      <td>None</td>\n",
       "      <td>None</td>\n",
       "    </tr>\n",
       "    <tr>\n",
       "      <th>1</th>\n",
       "      <td>False</td>\n",
       "      <td>suite_teste_calendar</td>\n",
       "      <td>None</td>\n",
       "      <td>7</td>\n",
       "      <td>2</td>\n",
       "      <td>5</td>\n",
       "      <td>28.571429</td>\n",
       "      <td>1.2.2</td>\n",
       "      <td>SparkDataFrame</td>\n",
       "      <td>20241111T204059.098993Z</td>\n",
       "      <td>...</td>\n",
       "      <td>True</td>\n",
       "      <td>expect_column_values_to_be_of_type</td>\n",
       "      <td>teste_spark-spark dataframe asset</td>\n",
       "      <td>listing_id</td>\n",
       "      <td>LongType</td>\n",
       "      <td>83d16f54-c771-4f19-a748-ee744af5e0a1</td>\n",
       "      <td>LongType</td>\n",
       "      <td>False</td>\n",
       "      <td>None</td>\n",
       "      <td>None</td>\n",
       "    </tr>\n",
       "    <tr>\n",
       "      <th>2</th>\n",
       "      <td>False</td>\n",
       "      <td>suite_teste_calendar</td>\n",
       "      <td>None</td>\n",
       "      <td>7</td>\n",
       "      <td>2</td>\n",
       "      <td>5</td>\n",
       "      <td>28.571429</td>\n",
       "      <td>1.2.2</td>\n",
       "      <td>SparkDataFrame</td>\n",
       "      <td>20241111T204059.098993Z</td>\n",
       "      <td>...</td>\n",
       "      <td>False</td>\n",
       "      <td>expect_column_values_to_be_of_type</td>\n",
       "      <td>teste_spark-spark dataframe asset</td>\n",
       "      <td>price</td>\n",
       "      <td>IntegerType</td>\n",
       "      <td>c109f34e-bbc3-4d05-b143-158592bcff59</td>\n",
       "      <td>NaN</td>\n",
       "      <td>True</td>\n",
       "      <td>Traceback (most recent call last):\\n  File \"/o...</td>\n",
       "      <td>list index out of range</td>\n",
       "    </tr>\n",
       "    <tr>\n",
       "      <th>3</th>\n",
       "      <td>False</td>\n",
       "      <td>suite_teste_calendar</td>\n",
       "      <td>None</td>\n",
       "      <td>7</td>\n",
       "      <td>2</td>\n",
       "      <td>5</td>\n",
       "      <td>28.571429</td>\n",
       "      <td>1.2.2</td>\n",
       "      <td>SparkDataFrame</td>\n",
       "      <td>20241111T204059.098993Z</td>\n",
       "      <td>...</td>\n",
       "      <td>False</td>\n",
       "      <td>expect_column_values_to_be_of_type</td>\n",
       "      <td>teste_spark-spark dataframe asset</td>\n",
       "      <td>available</td>\n",
       "      <td>BooleanType</td>\n",
       "      <td>14489ed9-2251-414c-812b-8d260587b1cf</td>\n",
       "      <td>NaN</td>\n",
       "      <td>True</td>\n",
       "      <td>Traceback (most recent call last):\\n  File \"/o...</td>\n",
       "      <td>list index out of range</td>\n",
       "    </tr>\n",
       "    <tr>\n",
       "      <th>4</th>\n",
       "      <td>False</td>\n",
       "      <td>suite_teste_calendar</td>\n",
       "      <td>None</td>\n",
       "      <td>7</td>\n",
       "      <td>2</td>\n",
       "      <td>5</td>\n",
       "      <td>28.571429</td>\n",
       "      <td>1.2.2</td>\n",
       "      <td>SparkDataFrame</td>\n",
       "      <td>20241111T204059.098993Z</td>\n",
       "      <td>...</td>\n",
       "      <td>False</td>\n",
       "      <td>expect_column_values_to_be_of_type</td>\n",
       "      <td>teste_spark-spark dataframe asset</td>\n",
       "      <td>adjusted_price</td>\n",
       "      <td>IntegerType</td>\n",
       "      <td>b425b757-721a-4462-b447-8854bf87c3cd</td>\n",
       "      <td>NaN</td>\n",
       "      <td>True</td>\n",
       "      <td>Traceback (most recent call last):\\n  File \"/o...</td>\n",
       "      <td>list index out of range</td>\n",
       "    </tr>\n",
       "    <tr>\n",
       "      <th>5</th>\n",
       "      <td>False</td>\n",
       "      <td>suite_teste_calendar</td>\n",
       "      <td>None</td>\n",
       "      <td>7</td>\n",
       "      <td>2</td>\n",
       "      <td>5</td>\n",
       "      <td>28.571429</td>\n",
       "      <td>1.2.2</td>\n",
       "      <td>SparkDataFrame</td>\n",
       "      <td>20241111T204059.098993Z</td>\n",
       "      <td>...</td>\n",
       "      <td>False</td>\n",
       "      <td>expect_column_values_to_be_of_type</td>\n",
       "      <td>teste_spark-spark dataframe asset</td>\n",
       "      <td>minimum_nights</td>\n",
       "      <td>IntegerType</td>\n",
       "      <td>60eebc16-ae1f-4f05-84dc-cf84e9e71da3</td>\n",
       "      <td>NaN</td>\n",
       "      <td>True</td>\n",
       "      <td>Traceback (most recent call last):\\n  File \"/o...</td>\n",
       "      <td>list index out of range</td>\n",
       "    </tr>\n",
       "    <tr>\n",
       "      <th>6</th>\n",
       "      <td>False</td>\n",
       "      <td>suite_teste_calendar</td>\n",
       "      <td>None</td>\n",
       "      <td>7</td>\n",
       "      <td>2</td>\n",
       "      <td>5</td>\n",
       "      <td>28.571429</td>\n",
       "      <td>1.2.2</td>\n",
       "      <td>SparkDataFrame</td>\n",
       "      <td>20241111T204059.098993Z</td>\n",
       "      <td>...</td>\n",
       "      <td>False</td>\n",
       "      <td>expect_column_values_to_be_of_type</td>\n",
       "      <td>teste_spark-spark dataframe asset</td>\n",
       "      <td>maximum_nights</td>\n",
       "      <td>IntegerType</td>\n",
       "      <td>70635cf1-da94-4970-9663-4bc498005cb5</td>\n",
       "      <td>NaN</td>\n",
       "      <td>True</td>\n",
       "      <td>Traceback (most recent call last):\\n  File \"/o...</td>\n",
       "      <td>list index out of range</td>\n",
       "    </tr>\n",
       "  </tbody>\n",
       "</table>\n",
       "<p>7 rows × 27 columns</p>\n",
       "</div>"
      ],
      "text/plain": [
       "  success            suite_name    id  statistics.evaluated_expectations  \\\n",
       "0   False  suite_teste_calendar  None                                  7   \n",
       "1   False  suite_teste_calendar  None                                  7   \n",
       "2   False  suite_teste_calendar  None                                  7   \n",
       "3   False  suite_teste_calendar  None                                  7   \n",
       "4   False  suite_teste_calendar  None                                  7   \n",
       "5   False  suite_teste_calendar  None                                  7   \n",
       "6   False  suite_teste_calendar  None                                  7   \n",
       "\n",
       "   statistics.successful_expectations  statistics.unsuccessful_expectations  \\\n",
       "0                                   2                                     5   \n",
       "1                                   2                                     5   \n",
       "2                                   2                                     5   \n",
       "3                                   2                                     5   \n",
       "4                                   2                                     5   \n",
       "5                                   2                                     5   \n",
       "6                                   2                                     5   \n",
       "\n",
       "   statistics.success_percent meta.great_expectations_version  \\\n",
       "0                   28.571429                           1.2.2   \n",
       "1                   28.571429                           1.2.2   \n",
       "2                   28.571429                           1.2.2   \n",
       "3                   28.571429                           1.2.2   \n",
       "4                   28.571429                           1.2.2   \n",
       "5                   28.571429                           1.2.2   \n",
       "6                   28.571429                           1.2.2   \n",
       "\n",
       "  meta.batch_spec.batch_data meta.batch_markers.ge_load_time  ... success  \\\n",
       "0             SparkDataFrame         20241111T204059.098993Z  ...    True   \n",
       "1             SparkDataFrame         20241111T204059.098993Z  ...    True   \n",
       "2             SparkDataFrame         20241111T204059.098993Z  ...   False   \n",
       "3             SparkDataFrame         20241111T204059.098993Z  ...   False   \n",
       "4             SparkDataFrame         20241111T204059.098993Z  ...   False   \n",
       "5             SparkDataFrame         20241111T204059.098993Z  ...   False   \n",
       "6             SparkDataFrame         20241111T204059.098993Z  ...   False   \n",
       "\n",
       "              expectation_config.type expectation_config.kwargs.batch_id  \\\n",
       "0  expect_column_values_to_be_of_type  teste_spark-spark dataframe asset   \n",
       "1  expect_column_values_to_be_of_type  teste_spark-spark dataframe asset   \n",
       "2  expect_column_values_to_be_of_type  teste_spark-spark dataframe asset   \n",
       "3  expect_column_values_to_be_of_type  teste_spark-spark dataframe asset   \n",
       "4  expect_column_values_to_be_of_type  teste_spark-spark dataframe asset   \n",
       "5  expect_column_values_to_be_of_type  teste_spark-spark dataframe asset   \n",
       "6  expect_column_values_to_be_of_type  teste_spark-spark dataframe asset   \n",
       "\n",
       "  expectation_config.kwargs.column expectation_config.kwargs.type_  \\\n",
       "0                             date                        DateType   \n",
       "1                       listing_id                        LongType   \n",
       "2                            price                     IntegerType   \n",
       "3                        available                     BooleanType   \n",
       "4                   adjusted_price                     IntegerType   \n",
       "5                   minimum_nights                     IntegerType   \n",
       "6                   maximum_nights                     IntegerType   \n",
       "\n",
       "                  expectation_config.id result.observed_value  \\\n",
       "0  e70e48a4-312b-46a5-8559-967a517de5cd              DateType   \n",
       "1  83d16f54-c771-4f19-a748-ee744af5e0a1              LongType   \n",
       "2  c109f34e-bbc3-4d05-b143-158592bcff59                   NaN   \n",
       "3  14489ed9-2251-414c-812b-8d260587b1cf                   NaN   \n",
       "4  b425b757-721a-4462-b447-8854bf87c3cd                   NaN   \n",
       "5  60eebc16-ae1f-4f05-84dc-cf84e9e71da3                   NaN   \n",
       "6  70635cf1-da94-4970-9663-4bc498005cb5                   NaN   \n",
       "\n",
       "   exception_info.raised_exception  \\\n",
       "0                            False   \n",
       "1                            False   \n",
       "2                             True   \n",
       "3                             True   \n",
       "4                             True   \n",
       "5                             True   \n",
       "6                             True   \n",
       "\n",
       "                  exception_info.exception_traceback  \\\n",
       "0                                               None   \n",
       "1                                               None   \n",
       "2  Traceback (most recent call last):\\n  File \"/o...   \n",
       "3  Traceback (most recent call last):\\n  File \"/o...   \n",
       "4  Traceback (most recent call last):\\n  File \"/o...   \n",
       "5  Traceback (most recent call last):\\n  File \"/o...   \n",
       "6  Traceback (most recent call last):\\n  File \"/o...   \n",
       "\n",
       "  exception_info.exception_message  \n",
       "0                             None  \n",
       "1                             None  \n",
       "2          list index out of range  \n",
       "3          list index out of range  \n",
       "4          list index out of range  \n",
       "5          list index out of range  \n",
       "6          list index out of range  \n",
       "\n",
       "[7 rows x 27 columns]"
      ]
     },
     "execution_count": 120,
     "metadata": {},
     "output_type": "execute_result"
    }
   ],
   "source": [
    "calendar_final_df"
   ]
  },
  {
   "cell_type": "code",
   "execution_count": null,
   "id": "bc06ce7f-cff9-4c91-8aea-2e5f3bbba10f",
   "metadata": {},
   "outputs": [],
   "source": []
  },
  {
   "cell_type": "code",
   "execution_count": null,
   "id": "793967c0-6122-49fc-8efc-28c079ef56aa",
   "metadata": {},
   "outputs": [],
   "source": []
  },
  {
   "cell_type": "markdown",
   "id": "ebc1b0c9-99f0-46e6-ba8e-a6a9147d1bed",
   "metadata": {
    "jp-MarkdownHeadingCollapsed": true
   },
   "source": [
    "### 1.3 Listings"
   ]
  },
  {
   "cell_type": "code",
   "execution_count": 4,
   "id": "49b44f12-d9cf-4c35-9458-4423ed1e9fdc",
   "metadata": {},
   "outputs": [],
   "source": [
    "# Carregar dados Delta\n",
    "listings = spark.read.format(\"delta\").load(\"deltalake/silver/silver_listings\")"
   ]
  },
  {
   "cell_type": "code",
   "execution_count": 5,
   "id": "bdbec390-6e50-40f6-86f9-d01d8b1387c3",
   "metadata": {},
   "outputs": [],
   "source": [
    "data_source = context.data_sources.add_spark(\"teste_spark\")"
   ]
  },
  {
   "cell_type": "code",
   "execution_count": 6,
   "id": "010d51e9-53d8-4653-9d06-f9ef97d50f8d",
   "metadata": {},
   "outputs": [],
   "source": [
    "data_asset = data_source.add_dataframe_asset(name=\"spark dataframe asset\")"
   ]
  },
  {
   "cell_type": "code",
   "execution_count": 7,
   "id": "9a6819b9-e9f7-42f4-9e09-12d259fa670e",
   "metadata": {},
   "outputs": [],
   "source": [
    "batch_definition = data_asset.add_batch_definition_whole_dataframe(\"batch definition\")"
   ]
  },
  {
   "cell_type": "code",
   "execution_count": 8,
   "id": "ea956513-7b3e-4025-84b1-e5cd6aa38561",
   "metadata": {},
   "outputs": [],
   "source": [
    "batch = batch_definition.get_batch(batch_parameters={\"dataframe\": listings})"
   ]
  },
  {
   "cell_type": "code",
   "execution_count": 9,
   "id": "10e15eca-4c31-44d0-aa08-51e89ad18f10",
   "metadata": {},
   "outputs": [],
   "source": [
    "suite = gx.ExpectationSuite(name=\"suite_teste_listings\")\n",
    "suite = context.suites.add(suite)"
   ]
  },
  {
   "cell_type": "code",
   "execution_count": 10,
   "id": "f800652a-dd62-4f11-a806-f1db5df1988a",
   "metadata": {},
   "outputs": [],
   "source": [
    "#listings.columns"
   ]
  },
  {
   "cell_type": "code",
   "execution_count": 11,
   "id": "d4e9ff20-d8d7-4177-b5f2-a05fe074b3aa",
   "metadata": {},
   "outputs": [
    {
     "data": {
      "text/plain": [
       "ExpectColumnPairValuesAToBeGreaterThanB(id='93d0fdf7-5502-4133-8f46-9b5aa3da62e0', meta=None, notes=None, result_format=<ResultFormat.BASIC: 'BASIC'>, description=None, catch_exceptions=True, rendered_content=None, windows=None, batch_id=None, column_A='maximum_nights', column_B='minimum_nights', mostly=1, row_condition=None, condition_parser=None, or_equal=False, ignore_row_if='both_values_are_missing')"
      ]
     },
     "execution_count": 11,
     "metadata": {},
     "output_type": "execute_result"
    }
   ],
   "source": [
    "expectation = gx.expectations.ExpectColumnPairValuesAToBeGreaterThanB(\n",
    "    column_A=\"maximum_nights\",\n",
    "    column_B=\"minimum_nights\",\n",
    "    or_equal=False\n",
    ")\n",
    "suite.add_expectation(expectation)"
   ]
  },
  {
   "cell_type": "code",
   "execution_count": 12,
   "id": "2c02d5ad-a044-45a0-892b-d2a1e411305d",
   "metadata": {},
   "outputs": [],
   "source": [
    "lista_number_min_zero = ['bathrooms','accommodates','beds']\n",
    "for coluna in lista_number_min_zero:\n",
    "    expectation = gx.expectations.ExpectColumnValuesToBeBetween(\n",
    "        column=coluna,\n",
    "        min_value=0,\n",
    "        max_value=20\n",
    "    )\n",
    "    suite.add_expectation(expectation)"
   ]
  },
  {
   "cell_type": "code",
   "execution_count": 13,
   "id": "5c549904-55d8-4046-804a-baeabbe223d9",
   "metadata": {},
   "outputs": [],
   "source": [
    "#expectation = gx.expectations.ExpectColumnValuesToBeBetween(column=\"price\", min_value=0, strict_min=True)"
   ]
  },
  {
   "cell_type": "code",
   "execution_count": 14,
   "id": "a911e4b4-fe65-4b7b-a1d0-3961e5ebdbd2",
   "metadata": {},
   "outputs": [],
   "source": [
    "validation_definition = gx.ValidationDefinition(data=batch_definition, suite=suite, name=\"validacao dados listings\")"
   ]
  },
  {
   "cell_type": "markdown",
   "id": "77685f4f-6bf1-4c7d-8ba4-f17e8cefc02a",
   "metadata": {
    "jp-MarkdownHeadingCollapsed": true
   },
   "source": [
    "#### 1.3.1 Great Expectations"
   ]
  },
  {
   "cell_type": "code",
   "execution_count": 16,
   "id": "a6770b6a-44f2-4fac-81d8-3aba4e364f50",
   "metadata": {
    "scrolled": true
   },
   "outputs": [
    {
     "data": {
      "application/vnd.jupyter.widget-view+json": {
       "model_id": "432caa2e8c9a4f3bb6642191bac7766b",
       "version_major": 2,
       "version_minor": 0
      },
      "text/plain": [
       "Calculating Metrics:   0%|          | 0/37 [00:00<?, ?it/s]"
      ]
     },
     "metadata": {},
     "output_type": "display_data"
    }
   ],
   "source": [
    "listings_ge = validation_definition.run(batch_parameters={\"dataframe\":listings})"
   ]
  },
  {
   "cell_type": "code",
   "execution_count": 21,
   "id": "b803bde5-e791-489d-a283-165e590af973",
   "metadata": {},
   "outputs": [],
   "source": [
    "listings_dict = listings_ge.to_json_dict()"
   ]
  },
  {
   "cell_type": "code",
   "execution_count": 22,
   "id": "59468966-ea6d-466c-8e93-cd9f79183e77",
   "metadata": {},
   "outputs": [],
   "source": [
    "listings_ge_df = pd.json_normalize(listings_dict)\n",
    "listings_ge_df = listings_ge_df.explode('results')"
   ]
  },
  {
   "cell_type": "code",
   "execution_count": 23,
   "id": "4bbe81e7-a150-433c-a408-b00bc6c27f47",
   "metadata": {},
   "outputs": [],
   "source": [
    "# Expandir os dicionários dentro de 'results' para colunas\n",
    "results_listings_df = pd.json_normalize(listings_ge_df['results'])"
   ]
  },
  {
   "cell_type": "code",
   "execution_count": 24,
   "id": "5c67d232-4438-4e7f-a69f-9fe3b4cdcb76",
   "metadata": {},
   "outputs": [],
   "source": [
    "# Redefinir o índice dos DataFrames antes de concatená-los\n",
    "df_reset = listings_ge_df.drop(columns=['results']).reset_index(drop=True)\n",
    "results_df_reset = results_listings_df.reset_index(drop=True)\n",
    "\n",
    "# Concatenar os DataFrames\n",
    "listings_final_df = pd.concat([df_reset, results_df_reset], axis=1)"
   ]
  },
  {
   "cell_type": "code",
   "execution_count": 25,
   "id": "b4bbf28f-577c-49c3-93ef-87ccf5c6dcba",
   "metadata": {},
   "outputs": [
    {
     "data": {
      "text/html": [
       "<div>\n",
       "<style scoped>\n",
       "    .dataframe tbody tr th:only-of-type {\n",
       "        vertical-align: middle;\n",
       "    }\n",
       "\n",
       "    .dataframe tbody tr th {\n",
       "        vertical-align: top;\n",
       "    }\n",
       "\n",
       "    .dataframe thead th {\n",
       "        text-align: right;\n",
       "    }\n",
       "</style>\n",
       "<table border=\"1\" class=\"dataframe\">\n",
       "  <thead>\n",
       "    <tr style=\"text-align: right;\">\n",
       "      <th></th>\n",
       "      <th>success</th>\n",
       "      <th>suite_name</th>\n",
       "      <th>id</th>\n",
       "      <th>statistics.evaluated_expectations</th>\n",
       "      <th>statistics.successful_expectations</th>\n",
       "      <th>statistics.unsuccessful_expectations</th>\n",
       "      <th>statistics.success_percent</th>\n",
       "      <th>meta.great_expectations_version</th>\n",
       "      <th>meta.batch_spec.batch_data</th>\n",
       "      <th>meta.batch_markers.ge_load_time</th>\n",
       "      <th>...</th>\n",
       "      <th>result.missing_percent</th>\n",
       "      <th>result.unexpected_percent_total</th>\n",
       "      <th>result.unexpected_percent_nonmissing</th>\n",
       "      <th>result.partial_unexpected_counts</th>\n",
       "      <th>exception_info.raised_exception</th>\n",
       "      <th>exception_info.exception_traceback</th>\n",
       "      <th>exception_info.exception_message</th>\n",
       "      <th>expectation_config.kwargs.column</th>\n",
       "      <th>expectation_config.kwargs.min_value</th>\n",
       "      <th>expectation_config.kwargs.max_value</th>\n",
       "    </tr>\n",
       "  </thead>\n",
       "  <tbody>\n",
       "    <tr>\n",
       "      <th>0</th>\n",
       "      <td>False</td>\n",
       "      <td>suite_teste_listings</td>\n",
       "      <td>None</td>\n",
       "      <td>4</td>\n",
       "      <td>1</td>\n",
       "      <td>3</td>\n",
       "      <td>25.0</td>\n",
       "      <td>1.2.2</td>\n",
       "      <td>SparkDataFrame</td>\n",
       "      <td>20241111T210745.436714Z</td>\n",
       "      <td>...</td>\n",
       "      <td>0.000000</td>\n",
       "      <td>0.626010</td>\n",
       "      <td>0.626010</td>\n",
       "      <td>[{'value': [7, 7], 'count': 5}, {'value': [365...</td>\n",
       "      <td>False</td>\n",
       "      <td>None</td>\n",
       "      <td>None</td>\n",
       "      <td>NaN</td>\n",
       "      <td>NaN</td>\n",
       "      <td>NaN</td>\n",
       "    </tr>\n",
       "    <tr>\n",
       "      <th>1</th>\n",
       "      <td>False</td>\n",
       "      <td>suite_teste_listings</td>\n",
       "      <td>None</td>\n",
       "      <td>4</td>\n",
       "      <td>1</td>\n",
       "      <td>3</td>\n",
       "      <td>25.0</td>\n",
       "      <td>1.2.2</td>\n",
       "      <td>SparkDataFrame</td>\n",
       "      <td>20241111T210745.436714Z</td>\n",
       "      <td>...</td>\n",
       "      <td>2.423263</td>\n",
       "      <td>0.002885</td>\n",
       "      <td>0.002956</td>\n",
       "      <td>[{'value': 29, 'count': 1}]</td>\n",
       "      <td>False</td>\n",
       "      <td>None</td>\n",
       "      <td>None</td>\n",
       "      <td>bathrooms</td>\n",
       "      <td>0.0</td>\n",
       "      <td>20.0</td>\n",
       "    </tr>\n",
       "    <tr>\n",
       "      <th>2</th>\n",
       "      <td>False</td>\n",
       "      <td>suite_teste_listings</td>\n",
       "      <td>None</td>\n",
       "      <td>4</td>\n",
       "      <td>1</td>\n",
       "      <td>3</td>\n",
       "      <td>25.0</td>\n",
       "      <td>1.2.2</td>\n",
       "      <td>SparkDataFrame</td>\n",
       "      <td>20241111T210745.436714Z</td>\n",
       "      <td>...</td>\n",
       "      <td>0.000000</td>\n",
       "      <td>0.000000</td>\n",
       "      <td>0.000000</td>\n",
       "      <td>[]</td>\n",
       "      <td>False</td>\n",
       "      <td>None</td>\n",
       "      <td>None</td>\n",
       "      <td>accommodates</td>\n",
       "      <td>0.0</td>\n",
       "      <td>20.0</td>\n",
       "    </tr>\n",
       "    <tr>\n",
       "      <th>3</th>\n",
       "      <td>False</td>\n",
       "      <td>suite_teste_listings</td>\n",
       "      <td>None</td>\n",
       "      <td>4</td>\n",
       "      <td>1</td>\n",
       "      <td>3</td>\n",
       "      <td>25.0</td>\n",
       "      <td>1.2.2</td>\n",
       "      <td>SparkDataFrame</td>\n",
       "      <td>20241111T210745.436714Z</td>\n",
       "      <td>...</td>\n",
       "      <td>2.429033</td>\n",
       "      <td>0.100969</td>\n",
       "      <td>0.103483</td>\n",
       "      <td>[{'value': 23, 'count': 3}, {'value': 26, 'cou...</td>\n",
       "      <td>False</td>\n",
       "      <td>None</td>\n",
       "      <td>None</td>\n",
       "      <td>beds</td>\n",
       "      <td>0.0</td>\n",
       "      <td>20.0</td>\n",
       "    </tr>\n",
       "  </tbody>\n",
       "</table>\n",
       "<p>4 rows × 39 columns</p>\n",
       "</div>"
      ],
      "text/plain": [
       "   success            suite_name    id  statistics.evaluated_expectations  \\\n",
       "0    False  suite_teste_listings  None                                  4   \n",
       "1    False  suite_teste_listings  None                                  4   \n",
       "2    False  suite_teste_listings  None                                  4   \n",
       "3    False  suite_teste_listings  None                                  4   \n",
       "\n",
       "   statistics.successful_expectations  statistics.unsuccessful_expectations  \\\n",
       "0                                   1                                     3   \n",
       "1                                   1                                     3   \n",
       "2                                   1                                     3   \n",
       "3                                   1                                     3   \n",
       "\n",
       "   statistics.success_percent meta.great_expectations_version  \\\n",
       "0                        25.0                           1.2.2   \n",
       "1                        25.0                           1.2.2   \n",
       "2                        25.0                           1.2.2   \n",
       "3                        25.0                           1.2.2   \n",
       "\n",
       "  meta.batch_spec.batch_data meta.batch_markers.ge_load_time  ...  \\\n",
       "0             SparkDataFrame         20241111T210745.436714Z  ...   \n",
       "1             SparkDataFrame         20241111T210745.436714Z  ...   \n",
       "2             SparkDataFrame         20241111T210745.436714Z  ...   \n",
       "3             SparkDataFrame         20241111T210745.436714Z  ...   \n",
       "\n",
       "  result.missing_percent result.unexpected_percent_total  \\\n",
       "0               0.000000                        0.626010   \n",
       "1               2.423263                        0.002885   \n",
       "2               0.000000                        0.000000   \n",
       "3               2.429033                        0.100969   \n",
       "\n",
       "  result.unexpected_percent_nonmissing  \\\n",
       "0                             0.626010   \n",
       "1                             0.002956   \n",
       "2                             0.000000   \n",
       "3                             0.103483   \n",
       "\n",
       "                    result.partial_unexpected_counts  \\\n",
       "0  [{'value': [7, 7], 'count': 5}, {'value': [365...   \n",
       "1                        [{'value': 29, 'count': 1}]   \n",
       "2                                                 []   \n",
       "3  [{'value': 23, 'count': 3}, {'value': 26, 'cou...   \n",
       "\n",
       "  exception_info.raised_exception exception_info.exception_traceback  \\\n",
       "0                           False                               None   \n",
       "1                           False                               None   \n",
       "2                           False                               None   \n",
       "3                           False                               None   \n",
       "\n",
       "  exception_info.exception_message  expectation_config.kwargs.column  \\\n",
       "0                             None                               NaN   \n",
       "1                             None                         bathrooms   \n",
       "2                             None                      accommodates   \n",
       "3                             None                              beds   \n",
       "\n",
       "  expectation_config.kwargs.min_value expectation_config.kwargs.max_value  \n",
       "0                                 NaN                                 NaN  \n",
       "1                                 0.0                                20.0  \n",
       "2                                 0.0                                20.0  \n",
       "3                                 0.0                                20.0  \n",
       "\n",
       "[4 rows x 39 columns]"
      ]
     },
     "execution_count": 25,
     "metadata": {},
     "output_type": "execute_result"
    }
   ],
   "source": [
    "listings_final_df"
   ]
  },
  {
   "cell_type": "code",
   "execution_count": 26,
   "id": "a76fa76e-ef7b-4727-90c1-70add51035f2",
   "metadata": {
    "scrolled": true
   },
   "outputs": [],
   "source": [
    "#df.select(\"*\").toPandas()"
   ]
  },
  {
   "cell_type": "markdown",
   "id": "2c6a4e28-0a6a-4cb8-ac13-91eb9dcc43b2",
   "metadata": {},
   "source": [
    "# 2. SQL para camada GOLD"
   ]
  },
  {
   "cell_type": "markdown",
   "id": "12aa7a95-4fcf-4df8-aea4-a21a792f3320",
   "metadata": {},
   "source": [
    "## 2.1 Reviews"
   ]
  },
  {
   "cell_type": "code",
   "execution_count": 31,
   "id": "6dfdd48e-8421-4a86-bf9d-3bb58ba94b71",
   "metadata": {},
   "outputs": [],
   "source": [
    "reviews_silver = spark.read.format(\"delta\").load(\"deltalake/silver/silver_reviews/\")\n",
    "\n",
    "# Registrar o DataFrame como uma tabela temporária para usar SQL\n",
    "reviews_silver.createOrReplaceTempView(\"silver_reviews_table\")"
   ]
  },
  {
   "cell_type": "code",
   "execution_count": 32,
   "id": "8cacb466-278b-4cfb-b6b3-6f61952bc1c9",
   "metadata": {},
   "outputs": [],
   "source": [
    "# SQL \n",
    "query = \"\"\"\n",
    "SELECT \n",
    "    *\n",
    "FROM silver_reviews_table\n",
    "WHERE listing_id = 1280058  -- Filtro de exemplo\n",
    "\"\"\""
   ]
  },
  {
   "cell_type": "code",
   "execution_count": 34,
   "id": "b9e014bf-4fda-4025-9140-acad2d37fd87",
   "metadata": {},
   "outputs": [],
   "source": [
    "# Executar a query SQL e armazenar o resultado em um DataFrame\n",
    "gold_df = spark.sql(query)"
   ]
  },
  {
   "cell_type": "code",
   "execution_count": 35,
   "id": "7a843860-f79d-455f-8a72-e0148f80a3df",
   "metadata": {},
   "outputs": [],
   "source": [
    "# Passo 3: Salvar o resultado em formato Delta na camada gold\n",
    "gold_df.write.format(\"delta\").mode(\"overwrite\").save(\"deltalake/gold/gold_reviews/\")"
   ]
  },
  {
   "cell_type": "code",
   "execution_count": 76,
   "id": "f8f42fdd-9734-4bbe-94e2-acb0e9ce8393",
   "metadata": {},
   "outputs": [],
   "source": [
    "teste = spark.read.format(\"delta\").load(\"deltalake/gold/gold_reviews/\")"
   ]
  },
  {
   "cell_type": "code",
   "execution_count": 77,
   "id": "0cf075f5-2b6f-486c-a839-5056dbb62a65",
   "metadata": {
    "scrolled": true
   },
   "outputs": [
    {
     "name": "stdout",
     "output_type": "stream",
     "text": [
      "+----------+-------------------+----------+-----------+--------------------+--------------------+\n",
      "|listing_id|                 id|      date|reviewer_id|       reviewer_name|            comments|\n",
      "+----------+-------------------+----------+-----------+--------------------+--------------------+\n",
      "|   1280058|          195213424|2017-09-18|   60674508|            Caroline|A localização é ó...|\n",
      "|   1280058|          407526648|2019-02-02|  239367709|            Giovanna|Apartamento incrí...|\n",
      "|   1280058|          231287303|2018-01-31|  100685150|            Fernando|El departamento e...|\n",
      "|   1280058| 557130762134654314|2022-02-07|  396432495|               Bruno|Apartamento sensa...|\n",
      "|   1280058|           19765713|2014-09-18|   11898253|          Juan Pablo|Lindo apartamento...|\n",
      "|   1280058| 496255180049167643|2021-11-15|  231940891|         Maria Júlia|O apartamento é p...|\n",
      "|   1280058|           25986716|2015-02-01|   12534709|            Macarena|We have just arri...|\n",
      "|   1280058|           52575133|2015-10-31|   40460239|               Rajni|My husband and I ...|\n",
      "|   1280058|1023189206944482151|2023-11-12|  295293034|            Caroline|O local era extre...|\n",
      "|   1280058|          351074728|2018-11-21|  142441641|Thamires E Jefferson|    Um bom anfitrião|\n",
      "|   1280058|          299209818|2018-07-30|   45894085|                John|Very good locatio...|\n",
      "|   1280058|           10416260|2014-02-18|    8199836|               Nisha|My family and I r...|\n",
      "|   1280058|          309018541|2018-08-17|  201899902|            Graciela|Exelente ubicacio...|\n",
      "|   1280058|          130800474|2017-02-08|   84343012|               Ivana|Muy lindo departa...|\n",
      "|   1280058|           16430961|2014-07-27|   18118008|                Joao|Foi boa relação c...|\n",
      "|   1280058|            7826988|2013-10-05|    7752803|              Amanda|The apartment was...|\n",
      "|   1280058|          257518546|2018-04-26|   73633985|             Candace|Great location on...|\n",
      "|   1280058|          151623194|2017-05-13|   86840579|            Caroline|O apartamento é e...|\n",
      "|   1280058|          609199750|2020-02-22|  322777858|              Hannah|Perfect apartment...|\n",
      "|   1280058|          306325205|2018-08-12|  135366567|              Gisela|Ótimo apt , camas...|\n",
      "+----------+-------------------+----------+-----------+--------------------+--------------------+\n",
      "only showing top 20 rows\n",
      "\n"
     ]
    }
   ],
   "source": [
    "teste.show()"
   ]
  },
  {
   "cell_type": "code",
   "execution_count": 78,
   "id": "9416e312-7698-4ca2-a057-9eb7dfeb95c3",
   "metadata": {
    "scrolled": true
   },
   "outputs": [
    {
     "data": {
      "text/plain": [
       "404"
      ]
     },
     "execution_count": 78,
     "metadata": {},
     "output_type": "execute_result"
    }
   ],
   "source": [
    "teste.count()"
   ]
  },
  {
   "cell_type": "markdown",
   "id": "5015c7a6-6a9c-41af-8670-8d623a35ab0f",
   "metadata": {},
   "source": [
    "## 2.2 Calendar"
   ]
  },
  {
   "cell_type": "code",
   "execution_count": 43,
   "id": "9b7d087c-6125-4cbf-b1d9-ecd1fdd76908",
   "metadata": {},
   "outputs": [],
   "source": [
    "calendar_silver = spark.read.format(\"delta\") \\\n",
    "                        .load(\"deltalake/silver/silver_calendar/\") \\\n",
    "\n",
    "# Registrar o DataFrame como uma tabela temporária para usar SQL\n",
    "calendar_silver.createOrReplaceTempView(\"silver_calendar_table\")"
   ]
  },
  {
   "cell_type": "code",
   "execution_count": 45,
   "id": "5d20060b-b32e-4d4a-b250-46deb817a379",
   "metadata": {},
   "outputs": [
    {
     "name": "stdout",
     "output_type": "stream",
     "text": [
      "+----------+----------+---------+-----+--------------+--------------+--------------+\n",
      "|listing_id|      date|available|price|adjusted_price|minimum_nights|maximum_nights|\n",
      "+----------+----------+---------+-----+--------------+--------------+--------------+\n",
      "|    297908|2024-06-27|    false|250.0|          NULL|             2|          1125|\n",
      "|     17878|2024-06-28|    false|350.0|          NULL|             5|            28|\n",
      "|     17878|2024-06-29|    false|350.0|          NULL|             5|            28|\n",
      "|     17878|2024-06-30|    false|350.0|          NULL|             5|            28|\n",
      "|     17878|2024-07-01|    false|350.0|          NULL|             5|            28|\n",
      "+----------+----------+---------+-----+--------------+--------------+--------------+\n",
      "only showing top 5 rows\n",
      "\n"
     ]
    }
   ],
   "source": [
    "calendar_silver.show(n=5)"
   ]
  },
  {
   "cell_type": "code",
   "execution_count": 51,
   "id": "a3581a16-3d63-46c3-bc16-95e240c31bf0",
   "metadata": {},
   "outputs": [],
   "source": [
    "# SQL \n",
    "query = \"\"\"\n",
    "SELECT \n",
    "    listing_id, date, price, minimum_nights, maximum_nights\n",
    "FROM silver_calendar_table\n",
    "WHERE date > '2024-05-01' and available=True\n",
    "\"\"\""
   ]
  },
  {
   "cell_type": "code",
   "execution_count": 52,
   "id": "8191b15a-c759-4e4e-83ee-491eaf897d55",
   "metadata": {},
   "outputs": [],
   "source": [
    "# Executar a query SQL e armazenar o resultado em um DataFrame\n",
    "gold_df = spark.sql(query)"
   ]
  },
  {
   "cell_type": "code",
   "execution_count": 53,
   "id": "846055e8-a375-40f6-b4b7-cc75a1dbcc28",
   "metadata": {},
   "outputs": [
    {
     "name": "stdout",
     "output_type": "stream",
     "text": [
      "+----------+----------+-----+--------------+--------------+\n",
      "|listing_id|      date|price|minimum_nights|maximum_nights|\n",
      "+----------+----------+-----+--------------+--------------+\n",
      "|     17878|2024-07-10|350.0|             5|            28|\n",
      "|     17878|2024-07-11|350.0|             5|            28|\n",
      "|     17878|2024-07-12|350.0|             5|            28|\n",
      "|     17878|2024-07-13|350.0|             5|            28|\n",
      "|     17878|2024-07-14|350.0|             5|            28|\n",
      "+----------+----------+-----+--------------+--------------+\n",
      "only showing top 5 rows\n",
      "\n"
     ]
    }
   ],
   "source": [
    "gold_df.show(n=5)"
   ]
  },
  {
   "cell_type": "code",
   "execution_count": 54,
   "id": "8402a4ea-948f-41b0-a86c-f68e0936d352",
   "metadata": {},
   "outputs": [
    {
     "data": {
      "text/plain": [
       "7045924"
      ]
     },
     "execution_count": 54,
     "metadata": {},
     "output_type": "execute_result"
    }
   ],
   "source": [
    "gold_df.count()"
   ]
  },
  {
   "cell_type": "code",
   "execution_count": 55,
   "id": "4d1266c8-1ac2-490f-9756-3afdffb36f26",
   "metadata": {},
   "outputs": [],
   "source": [
    "# Passo 3: Salvar o resultado em formato Delta na camada gold\n",
    "gold_df.write.format(\"delta\").mode(\"overwrite\").save(\"deltalake/gold/gold_calendar/\")"
   ]
  },
  {
   "cell_type": "code",
   "execution_count": 56,
   "id": "8ef479d5-a92c-4810-a088-5253f9a4aba1",
   "metadata": {},
   "outputs": [],
   "source": [
    "teste = spark.read.format(\"delta\").load(\"deltalake/gold/gold_calendar/\")"
   ]
  },
  {
   "cell_type": "code",
   "execution_count": 57,
   "id": "ddf2d9af-c15a-4d74-b0ce-d22f1073c1b7",
   "metadata": {},
   "outputs": [
    {
     "name": "stdout",
     "output_type": "stream",
     "text": [
      "+----------+----------+-----+--------------+--------------+\n",
      "|listing_id|      date|price|minimum_nights|maximum_nights|\n",
      "+----------+----------+-----+--------------+--------------+\n",
      "|     17878|2024-07-10|350.0|             5|            28|\n",
      "|     17878|2024-07-11|350.0|             5|            28|\n",
      "|     17878|2024-07-12|350.0|             5|            28|\n",
      "|     17878|2024-07-13|350.0|             5|            28|\n",
      "|     17878|2024-07-14|350.0|             5|            28|\n",
      "|     17878|2024-07-15|350.0|             5|            28|\n",
      "|     17878|2024-08-01|350.0|             5|            28|\n",
      "|     17878|2024-08-02|350.0|             5|            28|\n",
      "|     17878|2024-08-03|350.0|             5|            28|\n",
      "|     17878|2024-08-04|350.0|             5|            28|\n",
      "|     17878|2024-08-05|350.0|             5|            28|\n",
      "|     17878|2024-08-06|350.0|             5|            28|\n",
      "|     17878|2024-08-07|350.0|             5|            28|\n",
      "|     17878|2024-08-08|350.0|             5|            28|\n",
      "|     17878|2024-08-09|350.0|             5|            28|\n",
      "|     17878|2024-08-10|350.0|             5|            28|\n",
      "|     17878|2024-08-11|350.0|             5|            28|\n",
      "|     17878|2024-08-12|350.0|             5|            28|\n",
      "|     17878|2024-08-13|350.0|             5|            28|\n",
      "|     17878|2024-08-14|350.0|             5|            28|\n",
      "+----------+----------+-----+--------------+--------------+\n",
      "only showing top 20 rows\n",
      "\n"
     ]
    }
   ],
   "source": [
    "teste.show()"
   ]
  },
  {
   "cell_type": "code",
   "execution_count": 58,
   "id": "8e50b174-d328-48ad-b2eb-bc22272030a8",
   "metadata": {},
   "outputs": [
    {
     "data": {
      "text/plain": [
       "7045924"
      ]
     },
     "execution_count": 58,
     "metadata": {},
     "output_type": "execute_result"
    }
   ],
   "source": [
    "teste.count()"
   ]
  },
  {
   "cell_type": "markdown",
   "id": "870133cb-fc87-4ae0-bdc8-dc85155eb668",
   "metadata": {},
   "source": [
    "## 2.3 Listings"
   ]
  },
  {
   "cell_type": "code",
   "execution_count": 28,
   "id": "d6aa241b-1d80-4c9c-9921-250ef1332640",
   "metadata": {},
   "outputs": [],
   "source": [
    "#listing = drop neighbourhood_group_cleansed,license"
   ]
  },
  {
   "cell_type": "code",
   "execution_count": 59,
   "id": "84904297-9bf9-40db-b744-bf3589e365dc",
   "metadata": {},
   "outputs": [],
   "source": [
    "listings_silver = spark.read.format(\"delta\") \\\n",
    "                        .load(\"deltalake/silver/silver_listings/\") \\\n",
    "\n",
    "# Registrar o DataFrame como uma tabela temporária para usar SQL\n",
    "listings_silver.createOrReplaceTempView(\"silver_listings_silver_table\")"
   ]
  },
  {
   "cell_type": "code",
   "execution_count": 60,
   "id": "28dbcb2f-454c-4480-bfd7-d21819c9c4af",
   "metadata": {},
   "outputs": [
    {
     "name": "stdout",
     "output_type": "stream",
     "text": [
      "-RECORD 0------------------------------------------------------------\n",
      " id                                           | 96478                \n",
      " listing_url                                  | https://www.airbn... \n",
      " scrape_id                                    | 20240627045056       \n",
      " last_scraped                                 | 2024-06-28           \n",
      " source                                       | city scrape          \n",
      " name                                         | APARTAMENT IN BOT... \n",
      " description                                  | LINDO APARTAMENTO... \n",
      " neighborhood_overview                        | bRes,resturantes,... \n",
      " picture_url                                  | https://a0.muscac... \n",
      " host_id                                      | 530471               \n",
      " host_url                                     | https://www.airbn... \n",
      " host_name                                    | Hugo                 \n",
      " host_since                                   | 2011-04-23           \n",
      " host_location                                | Rio de Janeiro, B... \n",
      " host_about                                   | Sou Hugo estrange... \n",
      " host_response_time                           | within an hour       \n",
      " host_response_rate                           | 100.0                \n",
      " host_acceptance_rate                         | 0.0                  \n",
      " host_is_superhost                            | false                \n",
      " host_thumbnail_url                           | https://a0.muscac... \n",
      " host_picture_url                             | https://a0.muscac... \n",
      " host_neighbourhood                           | Botafogo             \n",
      " host_listings_count                          | 2                    \n",
      " host_total_listings_count                    | 4                    \n",
      " host_verifications                           | ['phone']            \n",
      " host_has_profile_pic                         | true                 \n",
      " host_identity_verified                       | true                 \n",
      " neighbourhood                                | Rio de Janeiro, B... \n",
      " neighbourhood_cleansed                       | Botafogo             \n",
      " neighbourhood_group_cleansed                 | NULL                 \n",
      " latitude                                     | -22.94656            \n",
      " longitude                                    | -43.18176            \n",
      " property_type                                | Private room in r... \n",
      " room_type                                    | Private room         \n",
      " accommodates                                 | 4                    \n",
      " bathrooms                                    | 1                    \n",
      " bathrooms_text                               | 1 bath               \n",
      " bedrooms                                     | 1                    \n",
      " beds                                         | 1                    \n",
      " amenities                                    | [\"Kitchen\", \"Smok... \n",
      " price                                        | 280.0                \n",
      " minimum_nights                               | 3                    \n",
      " maximum_nights                               | 730                  \n",
      " minimum_minimum_nights                       | 3                    \n",
      " maximum_minimum_nights                       | 3                    \n",
      " minimum_maximum_nights                       | 730                  \n",
      " maximum_maximum_nights                       | 730                  \n",
      " minimum_nights_avg_ntm                       | 3.0                  \n",
      " maximum_nights_avg_ntm                       | 730.0                \n",
      " calendar_updated                             | NULL                 \n",
      " has_availability                             | true                 \n",
      " availability_30                              | 30                   \n",
      " availability_60                              | 60                   \n",
      " availability_90                              | 86                   \n",
      " availability_365                             | 344                  \n",
      " calendar_last_scraped                        | 2024-06-28           \n",
      " number_of_reviews                            | 0                    \n",
      " number_of_reviews_ltm                        | 0                    \n",
      " number_of_reviews_l30d                       | 0                    \n",
      " first_review                                 | NULL                 \n",
      " last_review                                  | NULL                 \n",
      " review_scores_rating                         | NULL                 \n",
      " review_scores_accuracy                       | NULL                 \n",
      " review_scores_cleanliness                    | NULL                 \n",
      " review_scores_checkin                        | NULL                 \n",
      " review_scores_communication                  | NULL                 \n",
      " review_scores_location                       | NULL                 \n",
      " review_scores_value                          | NULL                 \n",
      " license                                      | NULL                 \n",
      " instant_bookable                             | false                \n",
      " calculated_host_listings_count               | 1                    \n",
      " calculated_host_listings_count_entire_homes  | 0                    \n",
      " calculated_host_listings_count_private_rooms | 1                    \n",
      " calculated_host_listings_count_shared_rooms  | 0                    \n",
      " reviews_per_month                            | NULL                 \n",
      "only showing top 1 row\n",
      "\n"
     ]
    }
   ],
   "source": [
    "listings_silver.show(n=1, vertical=True)"
   ]
  },
  {
   "cell_type": "code",
   "execution_count": 77,
   "id": "79b1b1a2-b0aa-448c-8478-a6e7c421602c",
   "metadata": {},
   "outputs": [],
   "source": [
    "# SQL \n",
    "query = \"\"\"\n",
    "SELECT \n",
    "    id, name, host_response_rate, property_type, review_scores_rating\n",
    "FROM silver_listings_silver_table\n",
    "WHERE review_scores_rating > 2.5\n",
    "\"\"\""
   ]
  },
  {
   "cell_type": "code",
   "execution_count": 78,
   "id": "50d964bc-e140-4b98-a0e8-7093e9de342d",
   "metadata": {},
   "outputs": [],
   "source": [
    "# Executar a query SQL e armazenar o resultado em um DataFrame\n",
    "gold_df = spark.sql(query)"
   ]
  },
  {
   "cell_type": "code",
   "execution_count": 79,
   "id": "bde25caa-67e8-4811-a715-d9a468d95e2f",
   "metadata": {},
   "outputs": [
    {
     "name": "stdout",
     "output_type": "stream",
     "text": [
      "+--------+--------------------+------------------+--------------------+--------------------+\n",
      "|      id|                name|host_response_rate|       property_type|review_scores_rating|\n",
      "+--------+--------------------+------------------+--------------------+--------------------+\n",
      "|  107469|Quarto confortáve...|             100.0|Private room in home|                 5.0|\n",
      "| 1912695|Oceanfront pentho...|             100.0|  Entire rental unit|                4.58|\n",
      "| 4582104|Apartment 300 met...|             100.0|  Entire rental unit|                4.65|\n",
      "| 4997179|Descobrindo praia...|             100.0|  Entire rental unit|                4.94|\n",
      "| 5251487|Flat incrível sui...|             100.0|Entire serviced a...|                4.92|\n",
      "| 5606630|Apartamento 3 qua...|              64.0|  Entire rental unit|                4.77|\n",
      "| 7053762|Apartamento Next ...|             100.0|  Entire rental unit|                 4.7|\n",
      "| 8444563|Ótima Suite Hotel...|             100.0|        Entire place|                4.63|\n",
      "| 9859545|Ipanema,  207 Apt...|             100.0|        Entire condo|                 4.6|\n",
      "|10030515|Vista total Mar P...|              NULL|  Entire rental unit|                 3.5|\n",
      "|13053290|COPACABANA, COBER...|             100.0|  Entire rental unit|                4.89|\n",
      "|13966796|Apartment in Copa...|             100.0|        Entire condo|                4.76|\n",
      "|16239478|Beautiful one bed...|             100.0|  Entire rental unit|                4.89|\n",
      "|16301344| Belo e Aconchegante|             100.0|  Entire rental unit|                4.67|\n",
      "|16380529|Sua casa em Copac...|              NULL|  Entire rental unit|                4.88|\n",
      "|16722517|Quarto confortáve...|              NULL|Private room in r...|                 5.0|\n",
      "|17254547|Quarto inteiro a ...|              NULL|Private room in r...|                 5.0|\n",
      "|19206796|Cozy studio Lapa/...|              90.0|  Entire rental unit|                4.95|\n",
      "|20470065|Barra Parque Olím...|             100.0|  Entire rental unit|                4.84|\n",
      "|22649499|    Parque da Tijuca|             100.0|  Entire rental unit|                 5.0|\n",
      "+--------+--------------------+------------------+--------------------+--------------------+\n",
      "only showing top 20 rows\n",
      "\n"
     ]
    }
   ],
   "source": [
    "gold_df.show()"
   ]
  },
  {
   "cell_type": "code",
   "execution_count": 80,
   "id": "29411f85-84f3-4d59-9526-6f340e57bac5",
   "metadata": {},
   "outputs": [],
   "source": [
    "# Passo 3: Salvar o resultado em formato Delta na camada gold\n",
    "gold_df.write.format(\"delta\").mode(\"overwrite\").save(\"deltalake/gold/gold_listings/\")"
   ]
  },
  {
   "cell_type": "code",
   "execution_count": 81,
   "id": "532ab098-8793-4a8c-9e02-7647fb3eec96",
   "metadata": {},
   "outputs": [],
   "source": [
    "teste = spark.read.format(\"delta\").load(\"deltalake/gold/gold_listings/\")"
   ]
  },
  {
   "cell_type": "code",
   "execution_count": 82,
   "id": "e459f2fd-3b22-46e3-b956-ec5dbc943683",
   "metadata": {},
   "outputs": [
    {
     "data": {
      "text/plain": [
       "26098"
      ]
     },
     "execution_count": 82,
     "metadata": {},
     "output_type": "execute_result"
    }
   ],
   "source": [
    "teste.count()"
   ]
  },
  {
   "cell_type": "code",
   "execution_count": null,
   "id": "adeaf09f-42b7-44cd-9f68-5c0e1396fc11",
   "metadata": {},
   "outputs": [],
   "source": []
  }
 ],
 "metadata": {
  "kernelspec": {
   "display_name": "Python 3 (ipykernel)",
   "language": "python",
   "name": "python3"
  },
  "language_info": {
   "codemirror_mode": {
    "name": "ipython",
    "version": 3
   },
   "file_extension": ".py",
   "mimetype": "text/x-python",
   "name": "python",
   "nbconvert_exporter": "python",
   "pygments_lexer": "ipython3",
   "version": "3.11.6"
  }
 },
 "nbformat": 4,
 "nbformat_minor": 5
}
