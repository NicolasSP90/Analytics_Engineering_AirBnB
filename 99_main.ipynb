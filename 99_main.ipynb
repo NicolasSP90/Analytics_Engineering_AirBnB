{
 "cells": [
  {
   "cell_type": "code",
   "execution_count": 0,
   "metadata": {
    "application/vnd.databricks.v1+cell": {
     "cellMetadata": {
      "byteLimit": 2048000,
      "rowLimit": 10000
     },
     "inputWidgets": {},
     "nuid": "65b8e41d-d17a-46bb-ac72-4442ec078f42",
     "showTitle": false,
     "tableResultSettingsMap": {},
     "title": ""
    }
   },
   "outputs": [
    {
     "output_type": "stream",
     "name": "stdout",
     "output_type": "stream",
     "text": [
      "Collecting great_expectations\n  Obtaining dependency information for great_expectations from https://files.pythonhosted.org/packages/04/2c/e01bf8bfab363e064eea8709afe2298275e5d7b5e582ab141f9093919d4e/great_expectations-1.2.2-py3-none-any.whl.metadata\n  Using cached great_expectations-1.2.2-py3-none-any.whl.metadata (8.5 kB)\nCollecting altair<5.0.0,>=4.2.1 (from great_expectations)\n  Obtaining dependency information for altair<5.0.0,>=4.2.1 from https://files.pythonhosted.org/packages/18/62/47452306e84d4d2e67f9c559380aeb230f5e6ca84fafb428dd36b96a99ba/altair-4.2.2-py3-none-any.whl.metadata\n  Using cached altair-4.2.2-py3-none-any.whl.metadata (13 kB)\nRequirement already satisfied: cryptography>=3.2 in /databricks/python3/lib/python3.11/site-packages (from great_expectations) (41.0.3)\nCollecting jinja2>=2.10 (from great_expectations)\n  Obtaining dependency information for jinja2>=2.10 from https://files.pythonhosted.org/packages/31/80/3a54838c3fb461f6fec263ebf3a3a41771bd05190238de3486aae8540c36/jinja2-3.1.4-py3-none-any.whl.metadata\n  Using cached jinja2-3.1.4-py3-none-any.whl.metadata (2.6 kB)\nCollecting jsonschema>=2.5.1 (from great_expectations)\n  Obtaining dependency information for jsonschema>=2.5.1 from https://files.pythonhosted.org/packages/69/4a/4f9dbeb84e8850557c02365a0eee0649abe5eb1d84af92a25731c6c0f922/jsonschema-4.23.0-py3-none-any.whl.metadata\n  Using cached jsonschema-4.23.0-py3-none-any.whl.metadata (7.9 kB)\nCollecting marshmallow<4.0.0,>=3.7.1 (from great_expectations)\n  Obtaining dependency information for marshmallow<4.0.0,>=3.7.1 from https://files.pythonhosted.org/packages/ac/a7/a78ff54e67ef92a3d12126b98eb98ab8abab3de4a8c46d240c87e514d6bb/marshmallow-3.23.1-py3-none-any.whl.metadata\n  Using cached marshmallow-3.23.1-py3-none-any.whl.metadata (7.5 kB)\nCollecting mistune>=0.8.4 (from great_expectations)\n  Obtaining dependency information for mistune>=0.8.4 from https://files.pythonhosted.org/packages/f0/74/c95adcdf032956d9ef6c89a9b8a5152bf73915f8c633f3e3d88d06bd699c/mistune-3.0.2-py3-none-any.whl.metadata\n  Using cached mistune-3.0.2-py3-none-any.whl.metadata (1.7 kB)\nRequirement already satisfied: packaging in /databricks/python3/lib/python3.11/site-packages (from great_expectations) (23.2)\nCollecting posthog<3,>=2.1.0 (from great_expectations)\n  Obtaining dependency information for posthog<3,>=2.1.0 from https://files.pythonhosted.org/packages/83/e8/3acf15477d7f1b434435305749afd3fcf783e28160f751c242de2eadff62/posthog-2.5.0-py2.py3-none-any.whl.metadata\n  Using cached posthog-2.5.0-py2.py3-none-any.whl.metadata (2.0 kB)\nCollecting pydantic>=1.10.7 (from great_expectations)\n  Obtaining dependency information for pydantic>=1.10.7 from https://files.pythonhosted.org/packages/df/e4/ba44652d562cbf0bf320e0f3810206149c8a4e99cdbf66da82e97ab53a15/pydantic-2.9.2-py3-none-any.whl.metadata\n  Using cached pydantic-2.9.2-py3-none-any.whl.metadata (149 kB)\nRequirement already satisfied: pyparsing>=2.4 in /databricks/python3/lib/python3.11/site-packages (from great_expectations) (3.0.9)\nRequirement already satisfied: python-dateutil>=2.8.1 in /databricks/python3/lib/python3.11/site-packages (from great_expectations) (2.8.2)\nRequirement already satisfied: requests>=2.20 in /databricks/python3/lib/python3.11/site-packages (from great_expectations) (2.31.0)\nCollecting ruamel.yaml>=0.16 (from great_expectations)\n  Obtaining dependency information for ruamel.yaml>=0.16 from https://files.pythonhosted.org/packages/73/67/8ece580cc363331d9a53055130f86b096bf16e38156e33b1d3014fffda6b/ruamel.yaml-0.18.6-py3-none-any.whl.metadata\n  Using cached ruamel.yaml-0.18.6-py3-none-any.whl.metadata (23 kB)\nRequirement already satisfied: scipy>=1.6.0 in /databricks/python3/lib/python3.11/site-packages (from great_expectations) (1.11.1)\nCollecting tqdm>=4.59.0 (from great_expectations)\n  Obtaining dependency information for tqdm>=4.59.0 from https://files.pythonhosted.org/packages/2b/78/57043611a16c655c8350b4c01b8d6abfb38cc2acb475238b62c2146186d7/tqdm-4.67.0-py3-none-any.whl.metadata\n  Using cached tqdm-4.67.0-py3-none-any.whl.metadata (57 kB)\nRequirement already satisfied: typing-extensions>=4.1.0 in /databricks/python3/lib/python3.11/site-packages (from great_expectations) (4.10.0)\nCollecting tzlocal>=1.2 (from great_expectations)\n  Obtaining dependency information for tzlocal>=1.2 from https://files.pythonhosted.org/packages/97/3f/c4c51c55ff8487f2e6d0e618dba917e3c3ee2caae6cf0fbb59c9b1876f2e/tzlocal-5.2-py3-none-any.whl.metadata\n  Using cached tzlocal-5.2-py3-none-any.whl.metadata (7.8 kB)\nRequirement already satisfied: numpy>=1.22.4 in /databricks/python3/lib/python3.11/site-packages (from great_expectations) (1.23.5)\nRequirement already satisfied: pandas<2.2,>=1.3.0 in /databricks/python3/lib/python3.11/site-packages (from great_expectations) (1.5.3)\nRequirement already satisfied: entrypoints in /databricks/python3/lib/python3.11/site-packages (from altair<5.0.0,>=4.2.1->great_expectations) (0.4)\nCollecting toolz (from altair<5.0.0,>=4.2.1->great_expectations)\n  Obtaining dependency information for toolz from https://files.pythonhosted.org/packages/03/98/eb27cc78ad3af8e302c9d8ff4977f5026676e130d28dd7578132a457170c/toolz-1.0.0-py3-none-any.whl.metadata\n  Using cached toolz-1.0.0-py3-none-any.whl.metadata (5.1 kB)\nRequirement already satisfied: cffi>=1.12 in /databricks/python3/lib/python3.11/site-packages (from cryptography>=3.2->great_expectations) (1.15.1)\nCollecting MarkupSafe>=2.0 (from jinja2>=2.10->great_expectations)\n  Obtaining dependency information for MarkupSafe>=2.0 from https://files.pythonhosted.org/packages/f1/a4/aefb044a2cd8d7334c8a47d3fb2c9f328ac48cb349468cc31c20b539305f/MarkupSafe-3.0.2-cp311-cp311-manylinux_2_17_x86_64.manylinux2014_x86_64.whl.metadata\n  Using cached MarkupSafe-3.0.2-cp311-cp311-manylinux_2_17_x86_64.manylinux2014_x86_64.whl.metadata (4.0 kB)\nCollecting attrs>=22.2.0 (from jsonschema>=2.5.1->great_expectations)\n  Obtaining dependency information for attrs>=22.2.0 from https://files.pythonhosted.org/packages/6a/21/5b6702a7f963e95456c0de2d495f67bf5fd62840ac655dc451586d23d39a/attrs-24.2.0-py3-none-any.whl.metadata\n  Using cached attrs-24.2.0-py3-none-any.whl.metadata (11 kB)\nCollecting jsonschema-specifications>=2023.03.6 (from jsonschema>=2.5.1->great_expectations)\n  Obtaining dependency information for jsonschema-specifications>=2023.03.6 from https://files.pythonhosted.org/packages/d1/0f/8910b19ac0670a0f80ce1008e5e751c4a57e14d2c4c13a482aa6079fa9d6/jsonschema_specifications-2024.10.1-py3-none-any.whl.metadata\n  Using cached jsonschema_specifications-2024.10.1-py3-none-any.whl.metadata (3.0 kB)\nCollecting referencing>=0.28.4 (from jsonschema>=2.5.1->great_expectations)\n  Obtaining dependency information for referencing>=0.28.4 from https://files.pythonhosted.org/packages/b7/59/2056f61236782a2c86b33906c025d4f4a0b17be0161b63b70fd9e8775d36/referencing-0.35.1-py3-none-any.whl.metadata\n  Using cached referencing-0.35.1-py3-none-any.whl.metadata (2.8 kB)\nCollecting rpds-py>=0.7.1 (from jsonschema>=2.5.1->great_expectations)\n  Obtaining dependency information for rpds-py>=0.7.1 from https://files.pythonhosted.org/packages/e1/fd/f1fd7e77fef8e5a442ce7fd80ba957730877515fe18d7195f646408a60ce/rpds_py-0.21.0-cp311-cp311-manylinux_2_17_x86_64.manylinux2014_x86_64.whl.metadata\n  Using cached rpds_py-0.21.0-cp311-cp311-manylinux_2_17_x86_64.manylinux2014_x86_64.whl.metadata (4.2 kB)\nRequirement already satisfied: pytz>=2020.1 in /databricks/python3/lib/python3.11/site-packages (from pandas<2.2,>=1.3.0->great_expectations) (2022.7)\nRequirement already satisfied: six>=1.5 in /usr/lib/python3/dist-packages (from posthog<3,>=2.1.0->great_expectations) (1.16.0)\nCollecting monotonic>=1.5 (from posthog<3,>=2.1.0->great_expectations)\n  Obtaining dependency information for monotonic>=1.5 from https://files.pythonhosted.org/packages/9a/67/7e8406a29b6c45be7af7740456f7f37025f0506ae2e05fb9009a53946860/monotonic-1.6-py2.py3-none-any.whl.metadata\n  Using cached monotonic-1.6-py2.py3-none-any.whl.metadata (1.5 kB)\nCollecting backoff>=1.10.0 (from posthog<3,>=2.1.0->great_expectations)\n  Obtaining dependency information for backoff>=1.10.0 from https://files.pythonhosted.org/packages/df/73/b6e24bd22e6720ca8ee9a85a0c4a2971af8497d8f3193fa05390cbd46e09/backoff-2.2.1-py3-none-any.whl.metadata\n  Using cached backoff-2.2.1-py3-none-any.whl.metadata (14 kB)\nCollecting annotated-types>=0.6.0 (from pydantic>=1.10.7->great_expectations)\n  Obtaining dependency information for annotated-types>=0.6.0 from https://files.pythonhosted.org/packages/78/b6/6307fbef88d9b5ee7421e68d78a9f162e0da4900bc5f5793f6d3d0e34fb8/annotated_types-0.7.0-py3-none-any.whl.metadata\n  Using cached annotated_types-0.7.0-py3-none-any.whl.metadata (15 kB)\nCollecting pydantic-core==2.23.4 (from pydantic>=1.10.7->great_expectations)\n  Obtaining dependency information for pydantic-core==2.23.4 from https://files.pythonhosted.org/packages/44/31/a3899b5ce02c4316865e390107f145089876dff7e1dfc770a231d836aed8/pydantic_core-2.23.4-cp311-cp311-manylinux_2_17_x86_64.manylinux2014_x86_64.whl.metadata\n  Using cached pydantic_core-2.23.4-cp311-cp311-manylinux_2_17_x86_64.manylinux2014_x86_64.whl.metadata (6.6 kB)\nRequirement already satisfied: charset-normalizer<4,>=2 in /databricks/python3/lib/python3.11/site-packages (from requests>=2.20->great_expectations) (2.0.4)\nRequirement already satisfied: idna<4,>=2.5 in /databricks/python3/lib/python3.11/site-packages (from requests>=2.20->great_expectations) (3.4)\nRequirement already satisfied: urllib3<3,>=1.21.1 in /databricks/python3/lib/python3.11/site-packages (from requests>=2.20->great_expectations) (1.26.16)\nRequirement already satisfied: certifi>=2017.4.17 in /databricks/python3/lib/python3.11/site-packages (from requests>=2.20->great_expectations) (2023.7.22)\nCollecting ruamel.yaml.clib>=0.2.7 (from ruamel.yaml>=0.16->great_expectations)\n  Obtaining dependency information for ruamel.yaml.clib>=0.2.7 from https://files.pythonhosted.org/packages/68/6e/264c50ce2a31473a9fdbf4fa66ca9b2b17c7455b31ef585462343818bd6c/ruamel.yaml.clib-0.2.12-cp311-cp311-manylinux_2_17_x86_64.manylinux2014_x86_64.whl.metadata\n  Using cached ruamel.yaml.clib-0.2.12-cp311-cp311-manylinux_2_17_x86_64.manylinux2014_x86_64.whl.metadata (2.7 kB)\nRequirement already satisfied: pycparser in /databricks/python3/lib/python3.11/site-packages (from cffi>=1.12->cryptography>=3.2->great_expectations) (2.21)\nUsing cached great_expectations-1.2.2-py3-none-any.whl (5.0 MB)\nUsing cached altair-4.2.2-py3-none-any.whl (813 kB)\nUsing cached jinja2-3.1.4-py3-none-any.whl (133 kB)\nUsing cached jsonschema-4.23.0-py3-none-any.whl (88 kB)\nUsing cached marshmallow-3.23.1-py3-none-any.whl (49 kB)\nUsing cached mistune-3.0.2-py3-none-any.whl (47 kB)\nUsing cached posthog-2.5.0-py2.py3-none-any.whl (36 kB)\nUsing cached pydantic-2.9.2-py3-none-any.whl (434 kB)\nUsing cached pydantic_core-2.23.4-cp311-cp311-manylinux_2_17_x86_64.manylinux2014_x86_64.whl (2.1 MB)\nUsing cached ruamel.yaml-0.18.6-py3-none-any.whl (117 kB)\nUsing cached tqdm-4.67.0-py3-none-any.whl (78 kB)\nUsing cached tzlocal-5.2-py3-none-any.whl (17 kB)\nUsing cached annotated_types-0.7.0-py3-none-any.whl (13 kB)\nUsing cached attrs-24.2.0-py3-none-any.whl (63 kB)\nUsing cached backoff-2.2.1-py3-none-any.whl (15 kB)\nUsing cached jsonschema_specifications-2024.10.1-py3-none-any.whl (18 kB)\nUsing cached MarkupSafe-3.0.2-cp311-cp311-manylinux_2_17_x86_64.manylinux2014_x86_64.whl (23 kB)\nUsing cached monotonic-1.6-py2.py3-none-any.whl (8.2 kB)\nUsing cached referencing-0.35.1-py3-none-any.whl (26 kB)\nUsing cached rpds_py-0.21.0-cp311-cp311-manylinux_2_17_x86_64.manylinux2014_x86_64.whl (360 kB)\nUsing cached ruamel.yaml.clib-0.2.12-cp311-cp311-manylinux_2_17_x86_64.manylinux2014_x86_64.whl (739 kB)\nUsing cached toolz-1.0.0-py3-none-any.whl (56 kB)\nInstalling collected packages: monotonic, tzlocal, tqdm, toolz, ruamel.yaml.clib, rpds-py, pydantic-core, mistune, marshmallow, MarkupSafe, backoff, attrs, annotated-types, ruamel.yaml, referencing, pydantic, posthog, jinja2, jsonschema-specifications, jsonschema, altair, great_expectations\n  Attempting uninstall: pydantic\n    Found existing installation: pydantic 1.10.6\n    Not uninstalling pydantic at /databricks/python3/lib/python3.11/site-packages, outside environment /local_disk0/.ephemeral_nfs/envs/pythonEnv-22fd42b7-d3c2-414c-878d-207c15f1e507\n    Can't uninstall 'pydantic'. No files were found to uninstall.\nSuccessfully installed MarkupSafe-3.0.2 altair-4.2.2 annotated-types-0.7.0 attrs-24.2.0 backoff-2.2.1 great_expectations-1.2.2 jinja2-3.1.4 jsonschema-4.23.0 jsonschema-specifications-2024.10.1 marshmallow-3.23.1 mistune-3.0.2 monotonic-1.6 posthog-2.5.0 pydantic-2.9.2 pydantic-core-2.23.4 referencing-0.35.1 rpds-py-0.21.0 ruamel.yaml-0.18.6 ruamel.yaml.clib-0.2.12 toolz-1.0.0 tqdm-4.67.0 tzlocal-5.2\n\u001B[43mNote: you may need to restart the kernel using %restart_python or dbutils.library.restartPython() to use updated packages.\u001B[0m\n"
     ]
    }
   ],
   "source": [
    "%run\n",
    "./98_entrypoints"
   ]
  },
  {
   "cell_type": "markdown",
   "metadata": {
    "application/vnd.databricks.v1+cell": {
     "cellMetadata": {},
     "inputWidgets": {},
     "nuid": "fd1aad30-0bfe-49f2-9055-9c217652a5a1",
     "showTitle": false,
     "tableResultSettingsMap": {},
     "title": ""
    }
   },
   "source": [
    "# Extraindo dados Brutos"
   ]
  },
  {
   "cell_type": "code",
   "execution_count": 0,
   "metadata": {
    "application/vnd.databricks.v1+cell": {
     "cellMetadata": {
      "byteLimit": 2048000,
      "rowLimit": 10000
     },
     "inputWidgets": {},
     "nuid": "a82464c1-b7f7-4534-be8d-0a37ed6f41a8",
     "showTitle": false,
     "tableResultSettingsMap": {},
     "title": ""
    }
   },
   "outputs": [],
   "source": [
    "raw_files = [path_raw_listings, path_raw_calendar, path_raw_reviews]\n",
    "bronze_files = [path_bronze_listings, path_bronze_calendar, path_bronze_reviews]\n",
    "\n",
    "for i in range(len(raw_files)):\n",
    "  to_bronze(raw_files[i], bronze_files[i])"
   ]
  },
  {
   "cell_type": "markdown",
   "metadata": {
    "application/vnd.databricks.v1+cell": {
     "cellMetadata": {},
     "inputWidgets": {},
     "nuid": "e73f2976-bd53-4848-9c13-eab8fca6c703",
     "showTitle": false,
     "tableResultSettingsMap": {},
     "title": ""
    }
   },
   "source": [
    "# Salvando Calendar na Camada Silver"
   ]
  },
  {
   "cell_type": "code",
   "execution_count": 0,
   "metadata": {
    "application/vnd.databricks.v1+cell": {
     "cellMetadata": {
      "byteLimit": 2048000,
      "rowLimit": 10000
     },
     "inputWidgets": {},
     "nuid": "b5d4fe80-2f0e-4664-87ba-d8e553065c40",
     "showTitle": false,
     "tableResultSettingsMap": {},
     "title": ""
    }
   },
   "outputs": [],
   "source": [
    "to_silver_calendar(path_bronze_calendar, path_silver_calendar)"
   ]
  },
  {
   "cell_type": "markdown",
   "metadata": {
    "application/vnd.databricks.v1+cell": {
     "cellMetadata": {},
     "inputWidgets": {},
     "nuid": "5708ca68-97bf-4972-847b-168262e5f30e",
     "showTitle": false,
     "tableResultSettingsMap": {},
     "title": ""
    }
   },
   "source": [
    "# Salvando Listings na Camada Silver"
   ]
  },
  {
   "cell_type": "code",
   "execution_count": 0,
   "metadata": {
    "application/vnd.databricks.v1+cell": {
     "cellMetadata": {
      "byteLimit": 2048000,
      "rowLimit": 10000
     },
     "inputWidgets": {},
     "nuid": "4d3a6bbb-3b24-4641-ad8b-f1c99b2916d0",
     "showTitle": false,
     "tableResultSettingsMap": {},
     "title": ""
    }
   },
   "outputs": [],
   "source": [
    "to_silver_listings(path_bronze_listings, path_silver_listings)"
   ]
  },
  {
   "cell_type": "markdown",
   "metadata": {
    "application/vnd.databricks.v1+cell": {
     "cellMetadata": {},
     "inputWidgets": {},
     "nuid": "7ba849ef-743d-48d3-bd92-47d5b3954fa7",
     "showTitle": false,
     "tableResultSettingsMap": {},
     "title": ""
    }
   },
   "source": [
    "# Salvando Reviews na Camada Silver"
   ]
  },
  {
   "cell_type": "code",
   "execution_count": 0,
   "metadata": {
    "application/vnd.databricks.v1+cell": {
     "cellMetadata": {
      "byteLimit": 2048000,
      "rowLimit": 10000
     },
     "inputWidgets": {},
     "nuid": "4b657b99-9d79-46cf-a225-655932e272ed",
     "showTitle": false,
     "tableResultSettingsMap": {},
     "title": ""
    }
   },
   "outputs": [],
   "source": [
    "to_silver_reviews(path_bronze_reviews, path_silver_reviews)"
   ]
  }
 ],
 "metadata": {
  "application/vnd.databricks.v1+notebook": {
   "dashboards": [],
   "environmentMetadata": null,
   "language": "python",
   "notebookMetadata": {
    "pythonIndentUnit": 4
   },
   "notebookName": "99_main",
   "widgets": {}
  }
 },
 "nbformat": 4,
 "nbformat_minor": 0
}
