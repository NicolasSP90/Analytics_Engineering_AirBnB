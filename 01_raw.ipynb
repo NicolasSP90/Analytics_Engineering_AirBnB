{
 "cells": [
  {
   "cell_type": "code",
   "execution_count": 0,
   "metadata": {
    "application/vnd.databricks.v1+cell": {
     "cellMetadata": {},
     "inputWidgets": {},
     "nuid": "b48bc63c-cd51-4913-ae6e-b48ee81d3c98",
     "showTitle": false,
     "tableResultSettingsMap": {},
     "title": ""
    }
   },
   "outputs": [],
   "source": [
    "# get_data = \"https://insideairbnb.com/get-the-data/\"\n"
   ]
  },
  {
   "cell_type": "code",
   "execution_count": 0,
   "metadata": {
    "application/vnd.databricks.v1+cell": {
     "cellMetadata": {
      "byteLimit": 2048000,
      "rowLimit": 10000
     },
     "inputWidgets": {},
     "nuid": "8db110e3-c2b6-4fb3-9605-f7af9cdbb759",
     "showTitle": false,
     "tableResultSettingsMap": {},
     "title": ""
    }
   },
   "outputs": [
    {
     "output_type": "execute_result",
     "data": {
      "text/plain": [
       "[FileInfo(path='dbfs:/FileStore/Projeto_Analytics/data/raw/calendar_csv.gz', name='calendar_csv.gz', size=33229501, modificationTime=1730681160000),\n",
       " FileInfo(path='dbfs:/FileStore/Projeto_Analytics/data/raw/listings_csv.gz', name='listings_csv.gz', size=18200635, modificationTime=1730681165000),\n",
       " FileInfo(path='dbfs:/FileStore/Projeto_Analytics/data/raw/reviews_csv.gz', name='reviews_csv.gz', size=86504369, modificationTime=1730681172000)]"
      ]
     },
     "execution_count": 13,
     "metadata": {},
     "output_type": "execute_result"
    }
   ],
   "source": [
    "# dbutils.fs.ls(path_raw)"
   ]
  },
  {
   "cell_type": "code",
   "execution_count": 0,
   "metadata": {
    "application/vnd.databricks.v1+cell": {
     "cellMetadata": {
      "byteLimit": 2048000,
      "rowLimit": 10000
     },
     "inputWidgets": {},
     "nuid": "d3f3d171-1c63-4eeb-a4c7-507dec771096",
     "showTitle": false,
     "tableResultSettingsMap": {},
     "title": ""
    }
   },
   "outputs": [
    {
     "output_type": "execute_result",
     "data": {
      "text/plain": [
       "'calendar_csv.gz'"
      ]
     },
     "execution_count": 15,
     "metadata": {},
     "output_type": "execute_result"
    }
   ],
   "source": [
    "# dbutils.fs.ls(path_raw)[0].name"
   ]
  },
  {
   "cell_type": "code",
   "execution_count": 0,
   "metadata": {
    "application/vnd.databricks.v1+cell": {
     "cellMetadata": {},
     "inputWidgets": {},
     "nuid": "9c6b2211-fdd9-4aa0-aee6-b7a97ddfc6c8",
     "showTitle": false,
     "tableResultSettingsMap": {},
     "title": ""
    }
   },
   "outputs": [],
   "source": [
    "def to_raw(get_raw, path_to_raw, file_name):\n",
    "\n",
    "    new_data = (spark.read.\n",
    "                option(\"multiline\", \"true\").\n",
    "                option(\"quote\", '\"').\n",
    "                option(\"escape\", '\"').\n",
    "                csv(get_raw, header=True))\n",
    "    \n",
    "    for i in dbutils.ls(path_to_raw):\n",
    "        if len(i) > 0:\n",
    "            if file_name in i.name:\n",
    "                current_data = (spark.read.\n",
    "                                option(\"multiline\", \"true\").\n",
    "                                option(\"quote\", '\"').\n",
    "                                option(\"escape\", '\"').\n",
    "                                csv(path_to_raw, header=True))\n",
    "                \n",
    "                current_data = current_data.unionByName(new_data)\n",
    "\n",
    "                current_data = current_data.dropDuplicates()\n",
    "\n",
    "        else:\n",
    "            current_data = new_data.dropDuplicates()\n",
    "\n",
    "    (current_data.write.mode(\"overwrite\")\n",
    "                       .option(\"header\", \"true\")\n",
    "                       .option(\"compression\", \"gzip\")\n",
    "                       .csv(path_to_raw))"
   ]
  }
 ],
 "metadata": {
  "application/vnd.databricks.v1+notebook": {
   "dashboards": [],
   "environmentMetadata": null,
   "language": "python",
   "notebookMetadata": {
    "pythonIndentUnit": 4
   },
   "notebookName": "01_raw",
   "widgets": {}
  }
 },
 "nbformat": 4,
 "nbformat_minor": 0
}
