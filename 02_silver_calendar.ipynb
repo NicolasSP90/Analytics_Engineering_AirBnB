{
 "cells": [
  {
   "cell_type": "code",
   "execution_count": 0,
   "metadata": {
    "application/vnd.databricks.v1+cell": {
     "cellMetadata": {},
     "inputWidgets": {},
     "nuid": "9ae384bc-b70b-4fff-8c9b-755ab64b25dc",
     "showTitle": false,
     "tableResultSettingsMap": {},
     "title": ""
    }
   },
   "outputs": [],
   "source": [
    "def to_silver_calendar(path_bronze_calendar, path_silver_calendar):\n",
    "    df_calendar = spark.read.parquet(path_bronze_calendar)\n",
    "\n",
    "    df_calendar = (df_calendar\n",
    "                   .withColumn(\"listing_id\", col(\"listing_id\").cast(LongType()))\n",
    "                   .withColumn(\"date\", to_date(\"date\", \"yyyy-MM-dd\"))\n",
    "                   .withColumn(\"available\", \n",
    "                               when(col(\"available\") == \"t\", True).\n",
    "                               when(col(\"available\") == \"f\", False).\n",
    "                               otherwise(None))\n",
    "                   .withColumn(\"price\", regexp_replace(col(\"price\"), \"\\\\$\", \"\"))\n",
    "                   .withColumn(\"price\", regexp_replace(col(\"price\"), \",\", \"\"))\n",
    "                   .withColumn(\"price\", col(\"price\").cast(\"float\"))\n",
    "                   .withColumn(\"minimum_nights\", col(\"minimum_nights\").cast(\"integer\"))\n",
    "                   .withColumn(\"maximum_nights\", col(\"maximum_nights\").cast(\"integer\")))\n",
    "    \n",
    "    df_calendar.write.mode(\"overwrite\").parquet(path_silver_calendar)"
   ]
  }
 ],
 "metadata": {
  "application/vnd.databricks.v1+notebook": {
   "dashboards": [],
   "environmentMetadata": null,
   "language": "python",
   "notebookMetadata": {
    "pythonIndentUnit": 4
   },
   "notebookName": "02_silver_calendar",
   "widgets": {}
  }
 },
 "nbformat": 4,
 "nbformat_minor": 0
}
