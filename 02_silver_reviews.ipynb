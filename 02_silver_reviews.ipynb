{
 "cells": [
  {
   "cell_type": "code",
   "execution_count": 0,
   "metadata": {
    "application/vnd.databricks.v1+cell": {
     "cellMetadata": {},
     "inputWidgets": {},
     "nuid": "ba0cd89d-3407-40f0-b873-1216fdd4c7bd",
     "showTitle": false,
     "tableResultSettingsMap": {},
     "title": ""
    }
   },
   "outputs": [],
   "source": [
    "def to_silver_reviews(path_bronze_reviews, path_silver_reviews):\n",
    "    df_reviews = spark.read.parquet(path_bronze_reviews)\n",
    "    df_reviews = df_reviews.drop(\"adjusted_price\")\n",
    "    \n",
    "    df_reviews = (df_reviews\n",
    "                  .withColumn(\"listing_id\", col(\"listing_id\").cast(LongType()))\n",
    "                  .withColumn(\"id\", col(\"id\").cast(LongType()))\n",
    "                  .withColumn(\"date\", to_timestamp(\"date\", \"yyyy-MM-dd\"))\n",
    "                  .withColumn(\"reviewer_id\", col(\"reviewer_id\").cast(LongType())))\n",
    "    \n",
    "    df_calendar.write.mode(\"overwrite\").parquet(path_silver_reviews)\n"
   ]
  }
 ],
 "metadata": {
  "application/vnd.databricks.v1+notebook": {
   "dashboards": [],
   "environmentMetadata": null,
   "language": "python",
   "notebookMetadata": {
    "pythonIndentUnit": 4
   },
   "notebookName": "02_silver_reviews",
   "widgets": {}
  }
 },
 "nbformat": 4,
 "nbformat_minor": 0
}
