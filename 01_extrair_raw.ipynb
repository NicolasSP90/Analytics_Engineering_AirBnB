{
 "cells": [
  {
   "cell_type": "code",
   "execution_count": 0,
   "metadata": {
    "application/vnd.databricks.v1+cell": {
     "cellMetadata": {},
     "inputWidgets": {},
     "nuid": "9c6b2211-fdd9-4aa0-aee6-b7a97ddfc6c8",
     "showTitle": false,
     "tableResultSettingsMap": {},
     "title": ""
    }
   },
   "outputs": [],
   "source": [
    "def to_bronze(from_raw, path_to_bronze):\n",
    "    \"\"\"\n",
    "    A partir do caminho do arquivo raw em CSV, cria um dataframe.\n",
    "    Remove as linhas duplicadas do dataframe.\n",
    "    Salva na camada Bronze.\n",
    "    \"\"\"\n",
    "\n",
    "    dataframe = (spark.read.\n",
    "                 option(\"multiline\", \"true\").\n",
    "                 option(\"quote\", '\"').\n",
    "                 option(\"escape\", '\"').\n",
    "                 csv(from_raw, header=True))\n",
    "    dataframe = dataframe.dropDuplicates()\n",
    "    dataframe.write.mode(\"overwrite\").parquet(path_to_bronze)"
   ]
  }
 ],
 "metadata": {
  "application/vnd.databricks.v1+notebook": {
   "dashboards": [],
   "environmentMetadata": null,
   "language": "python",
   "notebookMetadata": {
    "pythonIndentUnit": 4
   },
   "notebookName": "01_extrair_raw",
   "widgets": {}
  }
 },
 "nbformat": 4,
 "nbformat_minor": 0
}
