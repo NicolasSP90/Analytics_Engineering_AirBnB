{
 "cells": [
  {
   "cell_type": "code",
   "execution_count": 0,
   "metadata": {
    "application/vnd.databricks.v1+cell": {
     "cellMetadata": {
      "byteLimit": 2048000,
      "rowLimit": 10000
     },
     "inputWidgets": {},
     "nuid": "a8341373-08a9-4d68-b8dd-21bd4e99c3e1",
     "showTitle": false,
     "tableResultSettingsMap": {},
     "title": ""
    }
   },
   "outputs": [],
   "source": [
    "# Receita média mensal por bairro e tipo de propriedade\n",
    "\n",
    "def gold_monthly_income_neighbourhood_property(db_name):\n",
    "    gold = spark.sql(f\"\"\"\n",
    "                     SELECT \n",
    "                        L.neighbourhood, \n",
    "                        L.property_type, \n",
    "                        DATE_fORMAT(C.date, 'yyyy-MM') AS month,\n",
    "                        AVG(C.price) as avg_price,\n",
    "                        COUNT(CASE WHEN C.available = False THEN 1 END) AS total_reservations\n",
    "                     \n",
    "                     FROM projeto_ae.silver_listings AS L JOIN projeto_ae.silver_calendar AS C ON L.id = C.listing_id\n",
    "                     \n",
    "                     GROUP BY L.neighbourhood, L.property_type, month\n",
    "                     \n",
    "                     ORDER BY L.neighbourhood, L.property_type, month;\n",
    "                     \n",
    "                     \"\"\")\n",
    "    \n",
    "    gold.write.mode(\"overwrite\").saveAsTable(f\"{db_name}.gold_monthly_income_neighbourhood_property\")\n"
   ]
  },
  {
   "cell_type": "code",
   "execution_count": 0,
   "metadata": {
    "application/vnd.databricks.v1+cell": {
     "cellMetadata": {},
     "inputWidgets": {},
     "nuid": "4d48b9fd-a709-4ab4-8c4f-408958b8da9a",
     "showTitle": false,
     "tableResultSettingsMap": {},
     "title": ""
    }
   },
   "outputs": [],
   "source": [
    "# Relação entre a quantidade de reviews e a taxa de ocupação de um imóvel\n",
    "\n",
    "def gold_reviews_occupancy(db_name):\n",
    "\n",
    "   gold = spark.sql(f\"\"\"\n",
    "                     SELECT\n",
    "                        C.listing_id,\n",
    "                        COUNT(R.id) AS total_reviews,\n",
    "                        ROUND((COUNT(CASE WHEN C.available = False THEN 1 END) / COUNT(*)) * 100, 2) AS occupancy_rate\n",
    "                     \n",
    "                     FROM projeto_ae.silver_calendar AS C JOIN projeto_ae.silver_reviews AS R ON C.listing_id = R.listing_id\n",
    "                     \n",
    "                     GROUP BY C.listing_id\n",
    "                     \n",
    "                     ORDER BY C.listing_id\n",
    "                  \n",
    "                  \"\"\")\n",
    "\n",
    "   gold.write.mode(\"overwrite\").saveAsTable(f\"{db_name}.gold_reviews_occupancy\")"
   ]
  },
  {
   "cell_type": "code",
   "execution_count": 0,
   "metadata": {
    "application/vnd.databricks.v1+cell": {
     "cellMetadata": {},
     "inputWidgets": {},
     "nuid": "fb5e363f-1863-4b8c-a72f-447d13f23be1",
     "showTitle": false,
     "tableResultSettingsMap": {},
     "title": ""
    }
   },
   "outputs": [],
   "source": [
    "# Bairros com maior número de superhosts e como a taxa de ocupação deles se compara com a de outros hosts\n",
    "\n",
    "def gold_neighbourhood_superhost(db_name):\n",
    "    gold = spark.sql(f\"\"\"\n",
    "                    SELECT \n",
    "                        L.neighbourhood,\n",
    "                        L.host_is_superhost,\n",
    "                        COUNT(DISTINCT L.id) AS superhost_count,\n",
    "                        ROUND((COUNT(CASE WHEN C.available = False THEN 1 END) / COUNT(*)) * 100, 2) AS avg_occupancy_rate\n",
    "                     \n",
    "                    FROM projeto_ae.silver_listings AS L JOIN projeto_ae.silver_calendar AS C ON L.id = C.listing_id\n",
    "                    \n",
    "                    GROUP BY L.neighbourhood, L.host_is_superhost\n",
    "                    \n",
    "                    ORDER BY L.neighbourhood, L.host_is_superhost\n",
    "                    \n",
    "                    \"\"\")\n",
    "\n",
    "    gold.write.mode(\"overwrite\").saveAsTable(f\"{db_name}.gold_neighbourhood_superhost\")"
   ]
  },
  {
   "cell_type": "code",
   "execution_count": 0,
   "metadata": {
    "application/vnd.databricks.v1+cell": {
     "cellMetadata": {},
     "inputWidgets": {},
     "nuid": "51fd88c0-fde4-47dc-9aaf-3b6eea8fce97",
     "showTitle": false,
     "tableResultSettingsMap": {},
     "title": ""
    }
   },
   "outputs": [],
   "source": [
    "# Nota média dos imóveis por bairro e tipo de acomodação\n",
    "\n",
    "def gold_neighbourhood_roomtype_review_scores(db_name):\n",
    "    gold = spark.sql(f\"\"\"\n",
    "                    SELECT \n",
    "                        L.neighbourhood,\n",
    "                        L.room_type,\n",
    "                        AVG(L.review_scores_rating) AS avg_review_score\n",
    "                    \n",
    "                    FROM projeto_ae.silver_listings AS L JOIN projeto_ae.silver_reviews AS R ON L.id = R.listing_id\n",
    "                    \n",
    "                    GROUP BY L.neighbourhood, L.room_type\n",
    "                    \n",
    "                    ORDER BY L.neighbourhood, L.room_type\n",
    "                    \n",
    "                    \"\"\")\n",
    "\n",
    "    gold.write.mode(\"overwrite\").saveAsTable(f\"{db_name}.gold_neighbourhood_roomtype_review_scores\")"
   ]
  },
  {
   "cell_type": "code",
   "execution_count": 0,
   "metadata": {
    "application/vnd.databricks.v1+cell": {
     "cellMetadata": {},
     "inputWidgets": {},
     "nuid": "c2d72bd3-14cc-439c-95c3-300c5cc7bbc1",
     "showTitle": false,
     "tableResultSettingsMap": {},
     "title": ""
    }
   },
   "outputs": [],
   "source": [
    "# Impacto da quantidade de comodidades na quantidade de reviews e ocupação dos imóveis\n",
    "\n",
    "def gold_amenities_occupancy_reviews(db_name):\n",
    "    gold = spark.sql(f\"\"\"\n",
    "                    SELECT \n",
    "                        size(split(L.amenities, ',')) AS amenities_count,\n",
    "                        COUNT(DISTINCT R.id) AS total_reviews,\n",
    "                        ROUND((COUNT(CASE WHEN C.available = False THEN 1 END) / COUNT(*)) * 100, 2) AS avg_occupancy_rate\n",
    "                    \n",
    "                    FROM projeto_ae.silver_listings AS L \n",
    "                        JOIN projeto_ae.silver_calendar AS C ON L.id = C.listing_id \n",
    "                        JOIN projeto_ae.silver_reviews AS R ON L.id = R.listing_id\n",
    "                    \n",
    "                    GROUP BY amenities_count\n",
    "                    \n",
    "                    ORDER BY amenities_count\n",
    "                    \n",
    "                    \"\"\")\n",
    "\n",
    "    gold.write.mode(\"overwrite\").saveAsTable(f\"{db_name}.gold_amenities_occupancy_reviews\")\n"
   ]
  }
 ],
 "metadata": {
  "application/vnd.databricks.v1+notebook": {
   "dashboards": [],
   "environmentMetadata": null,
   "language": "python",
   "notebookMetadata": {
    "pythonIndentUnit": 4
   },
   "notebookName": "05_gold",
   "widgets": {}
  }
 },
 "nbformat": 4,
 "nbformat_minor": 0
}
