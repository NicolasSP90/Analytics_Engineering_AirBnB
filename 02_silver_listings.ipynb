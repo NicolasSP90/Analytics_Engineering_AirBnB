{
 "cells": [
  {
   "cell_type": "code",
   "execution_count": 0,
   "metadata": {
    "application/vnd.databricks.v1+cell": {
     "cellMetadata": {},
     "inputWidgets": {},
     "nuid": "d94e81bd-a0e3-4620-8ecb-81de8535670a",
     "showTitle": false,
     "tableResultSettingsMap": {},
     "title": ""
    }
   },
   "outputs": [],
   "source": [
    "def to_silver_listings(path_bronze_listings, path_silver_listings):\n",
    "    \n",
    "\n",
    "    tratar_antes = [\"host_response_rate\", \"host_acceptance_rate\", \"price\"]\n",
    "\n",
    "    numericos_int = [\"host_id\", \"host_response_rate\", \"host_listings_count\", \"host_total_listings_count\", \n",
    "                    \"accommodates\", \"bedrooms\", \"beds\", \"minimum_nights\", \"maximum_nights\", \"minimum_minimum_nights\", \n",
    "                    \"maximum_minimum_nights\", \"minimum_maximum_nights\", \"maximum_maximum_nights\", \"availability_30\", \n",
    "                    \"availability_60\", \"availability_90\", \"availability_365\", \"number_of_reviews\", \"number_of_reviews_ltm\", \n",
    "                    \"number_of_reviews_l30d\", \"calculated_host_listings_count\", \"calculated_host_listings_count_entire_homes\", \n",
    "                    \"calculated_host_listings_count_private_rooms\", \"calculated_host_listings_count_shared_rooms\"]\n",
    "\n",
    "    numericos_float = [\"latitude\", \"longitude\", \"bathrooms\", \"price\", \"minimum_nights_avg_ntm\", \"maximum_nights_avg_ntm\", \n",
    "                    \"review_scores_rating\", \"review_scores_accuracy\", \"review_scores_cleanliness\", \"review_scores_checkin\", \n",
    "                    \"review_scores_communication\", \"review_scores_location\", \"review_scores_value\", \"reviews_per_month\"]\n",
    "\n",
    "    numericos_long = [\"id\", \"scrape_id\"]\n",
    "\n",
    "    colunas_data = [\"last_scraped\", \"host_since\", \"calendar_last_scraped\", \"first_review\", \"last_review\"]\n",
    "\n",
    "    booleanos = [\"host_is_superhost\", \"host_has_profile_pic\", \"host_identity_verified\", \"has_availability\", \"instant_bookable\"]\n",
    "\n",
    "    listas = [\"host_verifications\", \"amenities\"]\n",
    "\n",
    "    df_listings = spark.read.parquet(path_bronze_listings)\n",
    "\n",
    "    # Removendo caracteres\n",
    "    for i in tratar_antes:\n",
    "        df_listings = (df_listings\n",
    "                       .withColumn(i, regexp_replace(col(i), \"\\\\$\", \"\"))\n",
    "                       .withColumn(i, regexp_replace(col(i), \",\", \"\"))\n",
    "                       .withColumn(i, regexp_replace(col(i), \" \", \"\"))\n",
    "                       .withColumn(i, regexp_replace(col(i), \"\\\\%\", \"\"))\n",
    "                       )\n",
    "        \n",
    "    # Tratamento colunas Integer\n",
    "    for i in numericos_int:\n",
    "        df_listings = df_listings.withColumn(i, col(i).cast(IntegerType()))\n",
    "\n",
    "    # Transformar em Float\n",
    "    for i in numericos_float:\n",
    "        df_listings = df_listings.withColumn(i, col(i).cast(FloatType()))\n",
    "\n",
    "    # Transformar em LongType\n",
    "    for i in numericos_long:\n",
    "        df_listings = df_listings.withColumn(i, col(i).cast(LongType()))\n",
    "\n",
    "    # Transformar em Data\n",
    "    for i in colunas_data:\n",
    "        df_listings = df_listings.withColumn(i, to_date(i, \"yyyy-MM-dd\"))\n",
    "\n",
    "    # Transformar em Booleanos\n",
    "    for i in booleanos:\n",
    "        df_listings = (df_listings.withColumn(i, \n",
    "                                              when(col(i) == \"t\", True).\n",
    "                                              when(col(i) == \"f\", False).\n",
    "                                              otherwise(None)\n",
    "                                              ))\n",
    "    \n",
    "    for i in df_listings.columns:\n",
    "        df_listings = (df_listings.withColumn(i, when(col(i) == \"N/A\", None).otherwise(col(i))))\n",
    "    \n",
    "    df_listings.write.mode(\"overwrite\").parquet(path_silver_listings)"
   ]
  }
 ],
 "metadata": {
  "application/vnd.databricks.v1+notebook": {
   "dashboards": [],
   "environmentMetadata": null,
   "language": "python",
   "notebookMetadata": {
    "pythonIndentUnit": 4
   },
   "notebookName": "02_silver_listings",
   "widgets": {}
  }
 },
 "nbformat": 4,
 "nbformat_minor": 0
}
