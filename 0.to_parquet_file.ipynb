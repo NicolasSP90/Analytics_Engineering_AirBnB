{
 "cells": [
  {
   "cell_type": "code",
   "execution_count": 1,
   "id": "8d018fed-0c1f-40d4-bc48-8ea9218c8eea",
   "metadata": {},
   "outputs": [],
   "source": [
    "from pyspark.context import SparkContext\n",
    "from pyspark.sql import SparkSession\n",
    "from pyspark.sql import Row\n",
    "from sqlalchemy import create_engine"
   ]
  },
  {
   "cell_type": "markdown",
   "id": "7221b03e-da46-4d40-946b-ee285c6cd973",
   "metadata": {},
   "source": [
    "### 0. Inicia Sessão Spark"
   ]
  },
  {
   "cell_type": "code",
   "execution_count": 64,
   "id": "0f255b80-a488-4752-9cba-2b8477736c96",
   "metadata": {},
   "outputs": [],
   "source": [
    "spark.stop()"
   ]
  },
  {
   "cell_type": "code",
   "execution_count": 65,
   "id": "1085fdd7-3e15-4910-b0d7-a5b7b5b4ad59",
   "metadata": {},
   "outputs": [
    {
     "data": {
      "text/html": [
       "\n",
       "            <div>\n",
       "                <p><b>SparkSession - in-memory</b></p>\n",
       "                \n",
       "        <div>\n",
       "            <p><b>SparkContext</b></p>\n",
       "\n",
       "            <p><a href=\"http://78e1bc477097:4041\">Spark UI</a></p>\n",
       "\n",
       "            <dl>\n",
       "              <dt>Version</dt>\n",
       "                <dd><code>v3.5.0</code></dd>\n",
       "              <dt>Master</dt>\n",
       "                <dd><code>local[*]</code></dd>\n",
       "              <dt>AppName</dt>\n",
       "                <dd><code>MyApp</code></dd>\n",
       "            </dl>\n",
       "        </div>\n",
       "        \n",
       "            </div>\n",
       "        "
      ],
      "text/plain": [
       "<pyspark.sql.session.SparkSession at 0x77795f40cd90>"
      ]
     },
     "execution_count": 65,
     "metadata": {},
     "output_type": "execute_result"
    }
   ],
   "source": [
    "# Cria uma Spark Session\n",
    "spark = SparkSession.builder \\\n",
    "    .appName(\"MyApp\") \\\n",
    "    .getOrCreate()\n",
    "\n",
    "# Exibe informações sobre a sessão para confirmar que está ativa\n",
    "spark\n",
    "\n",
    "# spark = SparkSession.builder \\\n",
    "#     .appName(\"MyApp\") \\\n",
    "#     .config(\"spark.executor.memory\", \"2g\") \\\n",
    "#     .config(\"spark.driver.memory\", \"2g\") \\\n",
    "#     .config(\"spark.sql.shuffle.partitions\", \"200\") \\\n",
    "#     .getOrCreate()\n"
   ]
  },
  {
   "cell_type": "code",
   "execution_count": 66,
   "id": "da7fe5e2-e5e9-4b2b-b48b-ea52ccb7b2b2",
   "metadata": {},
   "outputs": [],
   "source": [
    "# Defina os detalhes da conexão\n",
    "#engine = create_engine(\"postgresql://user:password@db:5432/mydatabase\")"
   ]
  },
  {
   "cell_type": "markdown",
   "id": "0cba7f3a-631e-4eee-a2aa-f7a2b1493dc2",
   "metadata": {},
   "source": [
    "## 1. Ler os arquivos gz"
   ]
  },
  {
   "cell_type": "markdown",
   "id": "e86d954d-8d4f-44cf-86c9-7e9876bcbd56",
   "metadata": {
    "jp-MarkdownHeadingCollapsed": true
   },
   "source": [
    "### 1.1 Listings data"
   ]
  },
  {
   "cell_type": "code",
   "execution_count": 123,
   "id": "3f7c2fc6-05b2-47e5-a1dc-b1af6da9d7de",
   "metadata": {},
   "outputs": [],
   "source": [
    "raw_listings = spark.read \\\n",
    "    .option(\"header\", True) \\\n",
    "    .option(\"delimiter\", \",\") \\\n",
    "    .option(\"quote\", '\"') \\\n",
    "    .option(\"escape\", '\"') \\\n",
    "    .option(\"multiLine\", True) \\\n",
    "    .option(\"mode\", \"PERMISSIVE\") \\\n",
    "    .option(\"encoding\", \"UTF-8\") \\\n",
    "    .csv(\"raw/listings.csv.gz\")"
   ]
  },
  {
   "cell_type": "code",
   "execution_count": 124,
   "id": "59b6a78f-44aa-4aae-a7b5-50712d6f5b54",
   "metadata": {},
   "outputs": [
    {
     "name": "stdout",
     "output_type": "stream",
     "text": [
      "+------+--------------------+--------------------+-----------------+\n",
      "|    id|                name|         description|reviews_per_month|\n",
      "+------+--------------------+--------------------+-----------------+\n",
      "| 17878|Very Nice 2Br in ...|Please note that ...|             1.88|\n",
      "| 25026|Beautiful Modern ...|**Fully renovated...|             1.70|\n",
      "|220377|Suíte Casal (banh...|The apartment is ...|             0.03|\n",
      "| 35764|COPACABANA SEA BR...|Our newly renovat...|             2.85|\n",
      "|223073|Modern Loft 1 • I...|READ THE FREQUENT...|             3.04|\n",
      "|230989|Nice Flat in Copa...|Very nice studio,...|             1.05|\n",
      "|231105|            10 Suíte|Verano Stay - Rio...|             0.90|\n",
      "| 48305|Bright 6bed Penth...|Enter Bossa Nova'...|             1.10|\n",
      "|231497|Nice big studio i...|This is a big stu...|             0.57|\n",
      "|231516|Apartment on Copa...|Special location ...|             0.19|\n",
      "| 48901|Large /equipped 4...|Spacious 4 bedroo...|             0.28|\n",
      "|236991|PRAIA DE COPACABA...|Cozy, spacious, b...|             0.71|\n",
      "|238802|Beautiful Three B...|Great and bright ...|             0.76|\n",
      "| 49179|Djalma Ocean View...|Beautiful 12th Fl...|             1.16|\n",
      "|239531|Bedroom and sea v...|Varanda with a se...|             0.77|\n",
      "|247052|Christ the Redeem...|Exceptionally coz...|             NULL|\n",
      "|248756|Copacabana 1 bloc...|Two bedroom apart...|             1.07|\n",
      "| 50759|Casanova Residenc...|A cinematographyc...|             0.07|\n",
      "| 51703|Ocean view, block...|Oh....i love to h...|             1.86|\n",
      "|249323|Designer beachfro...|Designer style di...|             1.01|\n",
      "+------+--------------------+--------------------+-----------------+\n",
      "only showing top 20 rows\n",
      "\n"
     ]
    }
   ],
   "source": [
    "raw_listings.select('id','name','description','reviews_per_month').show()#vertical=True)"
   ]
  },
  {
   "cell_type": "code",
   "execution_count": 126,
   "id": "8365c1aa-70c6-4c75-baaf-5462a22c4fd5",
   "metadata": {
    "scrolled": true
   },
   "outputs": [
    {
     "name": "stdout",
     "output_type": "stream",
     "text": [
      "root\n",
      " |-- id: string (nullable = true)\n",
      " |-- listing_url: string (nullable = true)\n",
      " |-- scrape_id: string (nullable = true)\n",
      " |-- last_scraped: string (nullable = true)\n",
      " |-- source: string (nullable = true)\n",
      " |-- name: string (nullable = true)\n",
      " |-- description: string (nullable = true)\n",
      " |-- neighborhood_overview: string (nullable = true)\n",
      " |-- picture_url: string (nullable = true)\n",
      " |-- host_id: string (nullable = true)\n",
      " |-- host_url: string (nullable = true)\n",
      " |-- host_name: string (nullable = true)\n",
      " |-- host_since: string (nullable = true)\n",
      " |-- host_location: string (nullable = true)\n",
      " |-- host_about: string (nullable = true)\n",
      " |-- host_response_time: string (nullable = true)\n",
      " |-- host_response_rate: string (nullable = true)\n",
      " |-- host_acceptance_rate: string (nullable = true)\n",
      " |-- host_is_superhost: string (nullable = true)\n",
      " |-- host_thumbnail_url: string (nullable = true)\n",
      " |-- host_picture_url: string (nullable = true)\n",
      " |-- host_neighbourhood: string (nullable = true)\n",
      " |-- host_listings_count: string (nullable = true)\n",
      " |-- host_total_listings_count: string (nullable = true)\n",
      " |-- host_verifications: string (nullable = true)\n",
      " |-- host_has_profile_pic: string (nullable = true)\n",
      " |-- host_identity_verified: string (nullable = true)\n",
      " |-- neighbourhood: string (nullable = true)\n",
      " |-- neighbourhood_cleansed: string (nullable = true)\n",
      " |-- neighbourhood_group_cleansed: string (nullable = true)\n",
      " |-- latitude: string (nullable = true)\n",
      " |-- longitude: string (nullable = true)\n",
      " |-- property_type: string (nullable = true)\n",
      " |-- room_type: string (nullable = true)\n",
      " |-- accommodates: string (nullable = true)\n",
      " |-- bathrooms: string (nullable = true)\n",
      " |-- bathrooms_text: string (nullable = true)\n",
      " |-- bedrooms: string (nullable = true)\n",
      " |-- beds: string (nullable = true)\n",
      " |-- amenities: string (nullable = true)\n",
      " |-- price: string (nullable = true)\n",
      " |-- minimum_nights: string (nullable = true)\n",
      " |-- maximum_nights: string (nullable = true)\n",
      " |-- minimum_minimum_nights: string (nullable = true)\n",
      " |-- maximum_minimum_nights: string (nullable = true)\n",
      " |-- minimum_maximum_nights: string (nullable = true)\n",
      " |-- maximum_maximum_nights: string (nullable = true)\n",
      " |-- minimum_nights_avg_ntm: string (nullable = true)\n",
      " |-- maximum_nights_avg_ntm: string (nullable = true)\n",
      " |-- calendar_updated: string (nullable = true)\n",
      " |-- has_availability: string (nullable = true)\n",
      " |-- availability_30: string (nullable = true)\n",
      " |-- availability_60: string (nullable = true)\n",
      " |-- availability_90: string (nullable = true)\n",
      " |-- availability_365: string (nullable = true)\n",
      " |-- calendar_last_scraped: string (nullable = true)\n",
      " |-- number_of_reviews: string (nullable = true)\n",
      " |-- number_of_reviews_ltm: string (nullable = true)\n",
      " |-- number_of_reviews_l30d: string (nullable = true)\n",
      " |-- first_review: string (nullable = true)\n",
      " |-- last_review: string (nullable = true)\n",
      " |-- review_scores_rating: string (nullable = true)\n",
      " |-- review_scores_accuracy: string (nullable = true)\n",
      " |-- review_scores_cleanliness: string (nullable = true)\n",
      " |-- review_scores_checkin: string (nullable = true)\n",
      " |-- review_scores_communication: string (nullable = true)\n",
      " |-- review_scores_location: string (nullable = true)\n",
      " |-- review_scores_value: string (nullable = true)\n",
      " |-- license: string (nullable = true)\n",
      " |-- instant_bookable: string (nullable = true)\n",
      " |-- calculated_host_listings_count: string (nullable = true)\n",
      " |-- calculated_host_listings_count_entire_homes: string (nullable = true)\n",
      " |-- calculated_host_listings_count_private_rooms: string (nullable = true)\n",
      " |-- calculated_host_listings_count_shared_rooms: string (nullable = true)\n",
      " |-- reviews_per_month: string (nullable = true)\n",
      "\n"
     ]
    }
   ],
   "source": [
    "#print(raw_listings.summary())\n",
    "#raw_listings.describe()\n",
    "raw_listings.printSchema()"
   ]
  },
  {
   "cell_type": "code",
   "execution_count": 127,
   "id": "f7c4a83a-e6df-49e2-9fb0-59a3ed62793d",
   "metadata": {},
   "outputs": [
    {
     "data": {
      "text/plain": [
       "34664"
      ]
     },
     "execution_count": 127,
     "metadata": {},
     "output_type": "execute_result"
    }
   ],
   "source": [
    "raw_listings.count()"
   ]
  },
  {
   "cell_type": "code",
   "execution_count": 128,
   "id": "cd449e47-e4bb-43aa-8a1c-fc721b189d41",
   "metadata": {},
   "outputs": [
    {
     "name": "stdout",
     "output_type": "stream",
     "text": [
      "Número de linhas duplicadas: 0\n"
     ]
    }
   ],
   "source": [
    "# Conta o número de linhas no DataFrame original\n",
    "total_rows = raw_listings.count()\n",
    "\n",
    "# Conta o número de linhas únicas\n",
    "unique_rows = raw_listings.dropDuplicates().count()\n",
    "\n",
    "# Calcula o número de linhas duplicadas\n",
    "duplicate_count = total_rows - unique_rows\n",
    "print(f\"Número de linhas duplicadas: {duplicate_count}\")"
   ]
  },
  {
   "cell_type": "code",
   "execution_count": 129,
   "id": "fa0943ab-59b4-4ece-a299-d26a952ea21a",
   "metadata": {},
   "outputs": [],
   "source": [
    "raw_listings_nodupk = raw_listings.dropDuplicates()"
   ]
  },
  {
   "cell_type": "code",
   "execution_count": 130,
   "id": "7034dbc8-b6ad-4fa0-a594-065d1241e524",
   "metadata": {},
   "outputs": [
    {
     "data": {
      "text/plain": [
       "34664"
      ]
     },
     "execution_count": 130,
     "metadata": {},
     "output_type": "execute_result"
    }
   ],
   "source": [
    "raw_listings_nodupk.count()"
   ]
  },
  {
   "cell_type": "code",
   "execution_count": 131,
   "id": "dd07628e-29ba-4fc2-8b5d-05d2677e8a1f",
   "metadata": {},
   "outputs": [],
   "source": [
    "raw_listings_nodupk.write.parquet(\"bronze/bronze_listings\", mode=\"overwrite\")"
   ]
  },
  {
   "cell_type": "markdown",
   "id": "947b28fd-3871-43c3-8688-47ee1f26c85e",
   "metadata": {
    "jp-MarkdownHeadingCollapsed": true
   },
   "source": [
    "### 1.2 Reviews data"
   ]
  },
  {
   "cell_type": "code",
   "execution_count": 135,
   "id": "3d591139-512c-44ca-83b8-7b648f17d28b",
   "metadata": {},
   "outputs": [],
   "source": [
    "# Carregue o arquivo CSV comprimido diretamente\n",
    "#raw_reviews = spark.read.csv(\"raw/reviews.csv.gz\", header=True, inferSchema=True)\n",
    "\n",
    "raw_reviews = spark.read \\\n",
    "    .option(\"header\", True) \\\n",
    "    .option(\"delimiter\", \",\") \\\n",
    "    .option(\"quote\", '\"') \\\n",
    "    .option(\"escape\", '\"') \\\n",
    "    .option(\"multiLine\", True) \\\n",
    "    .option(\"mode\", \"PERMISSIVE\") \\\n",
    "    .option(\"encoding\", \"UTF-8\") \\\n",
    "    .csv(\"raw/reviews.csv.gz\")"
   ]
  },
  {
   "cell_type": "code",
   "execution_count": 136,
   "id": "669cbb80-8c5d-4b97-a48d-c346de34de2c",
   "metadata": {
    "scrolled": true
   },
   "outputs": [
    {
     "name": "stdout",
     "output_type": "stream",
     "text": [
      "root\n",
      " |-- listing_id: string (nullable = true)\n",
      " |-- id: string (nullable = true)\n",
      " |-- date: string (nullable = true)\n",
      " |-- reviewer_id: string (nullable = true)\n",
      " |-- reviewer_name: string (nullable = true)\n",
      " |-- comments: string (nullable = true)\n",
      "\n"
     ]
    }
   ],
   "source": [
    "raw_reviews.printSchema()"
   ]
  },
  {
   "cell_type": "code",
   "execution_count": 137,
   "id": "117c6006-46ea-44d3-a223-be31e948fca1",
   "metadata": {},
   "outputs": [
    {
     "name": "stdout",
     "output_type": "stream",
     "text": [
      "+----------+-------------------+----------+-----------+-------------+--------------------+\n",
      "|listing_id|                 id|      date|reviewer_id|reviewer_name|            comments|\n",
      "+----------+-------------------+----------+-----------+-------------+--------------------+\n",
      "|     17878|              64852|2010-07-15|     135370|          Tia|This apartment is...|\n",
      "|     17878|              76744|2010-08-11|      10206|         Mimi|we had a really g...|\n",
      "|     17878|              91074|2010-09-06|      80253|          Jan|Staying in Max ap...|\n",
      "|     17878|             137528|2010-11-12|     230449|        Orene|In general very g...|\n",
      "|     17878|             147594|2010-12-01|     219338|        David|The apt was nice ...|\n",
      "|     17878|             152368|2010-12-12|     266847|         Armi|At Copacabana apa...|\n",
      "|     17878|             155565|2010-12-19|     243287|     Jonathan|A great apartment...|\n",
      "|     17878|             179219|2011-02-07|     172558|         Anna|Apartment is exac...|\n",
      "|     17878|             186447|2011-02-22|     353604|         Remy|Great apartment, ...|\n",
      "|    220377|             704349|2011-11-08|    1271126|        Brian|Staying at Tacian...|\n",
      "|    220377|             875049|2012-01-21|    1578661|       Amauri|Foi uma experiênc...|\n",
      "|    220377|             979376|2012-03-07|     369312|         Petr|Taciana is superb...|\n",
      "|    220377|          142096912|2017-04-06|    8501984|      Marilyn|Nossa experiência...|\n",
      "|    220377|1122452741612760649|2024-03-28|   74325704|       Kayque|Taciana me fez se...|\n",
      "|     17878|             191020|2011-03-01|     122909|        Cliff|Max was very orga...|\n",
      "|     17878|             204123|2011-03-20|     435996|        Arfan|Amazing location,...|\n",
      "|     17878|             213346|2011-03-30|     446854|       Sandra|Appartement très ...|\n",
      "|     17878|             224651|2011-04-12|     463052|        Renee|I loved Rio and t...|\n",
      "|     17878|             300823|2011-06-06|     623829|        Josie|Lovely apartment,...|\n",
      "|     17878|             308683|2011-06-11|     534220|       Charan|Super comfortable...|\n",
      "+----------+-------------------+----------+-----------+-------------+--------------------+\n",
      "only showing top 20 rows\n",
      "\n"
     ]
    }
   ],
   "source": [
    "raw_reviews.show()"
   ]
  },
  {
   "cell_type": "code",
   "execution_count": 138,
   "id": "dcf40faf-3fa4-43a4-ae29-24ffd21a2e92",
   "metadata": {},
   "outputs": [
    {
     "data": {
      "text/plain": [
       "773134"
      ]
     },
     "execution_count": 138,
     "metadata": {},
     "output_type": "execute_result"
    }
   ],
   "source": [
    "raw_reviews.count()"
   ]
  },
  {
   "cell_type": "code",
   "execution_count": 139,
   "id": "da95e468-958a-441f-a815-619e4d44b9e5",
   "metadata": {},
   "outputs": [
    {
     "name": "stdout",
     "output_type": "stream",
     "text": [
      "Número de linhas duplicadas: 0\n"
     ]
    }
   ],
   "source": [
    "# Conta o número de linhas no DataFrame original\n",
    "total_rows = raw_reviews.count()\n",
    "\n",
    "# Conta o número de linhas únicas\n",
    "unique_rows = raw_reviews.dropDuplicates().count()\n",
    "\n",
    "# Calcula o número de linhas duplicadas\n",
    "duplicate_count = total_rows - unique_rows\n",
    "print(f\"Número de linhas duplicadas: {duplicate_count}\")"
   ]
  },
  {
   "cell_type": "code",
   "execution_count": 140,
   "id": "0cf70ef2-ceef-40ea-ad17-352e6213a629",
   "metadata": {},
   "outputs": [],
   "source": [
    "raw_reviews_nodupk = raw_reviews.dropDuplicates()"
   ]
  },
  {
   "cell_type": "code",
   "execution_count": 141,
   "id": "5c492ef7-2eca-4419-aad9-0bcff7f1171d",
   "metadata": {},
   "outputs": [
    {
     "data": {
      "text/plain": [
       "773134"
      ]
     },
     "execution_count": 141,
     "metadata": {},
     "output_type": "execute_result"
    }
   ],
   "source": [
    "raw_reviews_nodupk.count()"
   ]
  },
  {
   "cell_type": "code",
   "execution_count": 142,
   "id": "dde3097d-b3cd-4718-b3cb-49c3c7955877",
   "metadata": {},
   "outputs": [],
   "source": [
    "raw_reviews_nodupk.write.parquet(\"bronze/bronze_reviews\", mode=\"overwrite\")"
   ]
  },
  {
   "cell_type": "markdown",
   "id": "cdcf1d7d-1c6e-4edd-894d-4c3468a76e78",
   "metadata": {},
   "source": [
    "### 1.3 Calendar data"
   ]
  },
  {
   "cell_type": "code",
   "execution_count": 143,
   "id": "5aead84f-7e03-4955-8c1a-2abb9aa31cfb",
   "metadata": {},
   "outputs": [],
   "source": [
    "# Carregue o arquivo CSV comprimido diretamente\n",
    "raw_calendar = spark.read.csv(\"output/raw/calendar.csv.gz\", header=True, inferSchema=True)"
   ]
  },
  {
   "cell_type": "code",
   "execution_count": 144,
   "id": "e2e70e02-a4e4-4c76-a11d-a8fe9687a65d",
   "metadata": {},
   "outputs": [
    {
     "name": "stdout",
     "output_type": "stream",
     "text": [
      "+----------+----------+---------+-------+--------------+--------------+--------------+\n",
      "|listing_id|      date|available|  price|adjusted_price|minimum_nights|maximum_nights|\n",
      "+----------+----------+---------+-------+--------------+--------------+--------------+\n",
      "|    297908|2024-06-27|        f|$250.00|          NULL|             2|          1125|\n",
      "|     17878|2024-06-28|        f|$350.00|          NULL|             5|            28|\n",
      "|     17878|2024-06-29|        f|$350.00|          NULL|             5|            28|\n",
      "|     17878|2024-06-30|        f|$350.00|          NULL|             5|            28|\n",
      "|     17878|2024-07-01|        f|$350.00|          NULL|             5|            28|\n",
      "|     17878|2024-07-02|        f|$350.00|          NULL|             5|            28|\n",
      "|     17878|2024-07-03|        f|$350.00|          NULL|             5|            28|\n",
      "|     17878|2024-07-04|        f|$350.00|          NULL|             5|            28|\n",
      "|     17878|2024-07-05|        f|$350.00|          NULL|             5|            28|\n",
      "|     17878|2024-07-06|        f|$350.00|          NULL|             5|            28|\n",
      "|     17878|2024-07-07|        f|$350.00|          NULL|             5|            28|\n",
      "|     17878|2024-07-08|        f|$350.00|          NULL|             5|            28|\n",
      "|     17878|2024-07-09|        f|$350.00|          NULL|             5|            28|\n",
      "|     17878|2024-07-10|        t|$350.00|          NULL|             5|            28|\n",
      "|     17878|2024-07-11|        t|$350.00|          NULL|             5|            28|\n",
      "|     17878|2024-07-12|        t|$350.00|          NULL|             5|            28|\n",
      "|     17878|2024-07-13|        t|$350.00|          NULL|             5|            28|\n",
      "|     17878|2024-07-14|        t|$350.00|          NULL|             5|            28|\n",
      "|     17878|2024-07-15|        t|$350.00|          NULL|             5|            28|\n",
      "|     17878|2024-07-16|        f|$350.00|          NULL|             5|            28|\n",
      "+----------+----------+---------+-------+--------------+--------------+--------------+\n",
      "only showing top 20 rows\n",
      "\n"
     ]
    }
   ],
   "source": [
    "raw_calendar.show()"
   ]
  },
  {
   "cell_type": "code",
   "execution_count": 145,
   "id": "3f4e3e1f-132c-4b54-b466-b928e16ed87b",
   "metadata": {
    "scrolled": true
   },
   "outputs": [
    {
     "name": "stdout",
     "output_type": "stream",
     "text": [
      "root\n",
      " |-- listing_id: long (nullable = true)\n",
      " |-- date: date (nullable = true)\n",
      " |-- available: string (nullable = true)\n",
      " |-- price: string (nullable = true)\n",
      " |-- adjusted_price: string (nullable = true)\n",
      " |-- minimum_nights: integer (nullable = true)\n",
      " |-- maximum_nights: integer (nullable = true)\n",
      "\n"
     ]
    }
   ],
   "source": [
    "raw_calendar.printSchema()"
   ]
  },
  {
   "cell_type": "code",
   "execution_count": 146,
   "id": "7533b75a-4a6c-4893-9857-fd189ab919b4",
   "metadata": {},
   "outputs": [
    {
     "data": {
      "text/plain": [
       "12652371"
      ]
     },
     "execution_count": 146,
     "metadata": {},
     "output_type": "execute_result"
    }
   ],
   "source": [
    "raw_calendar.count()"
   ]
  },
  {
   "cell_type": "code",
   "execution_count": 147,
   "id": "b6f8f7b5-b8dd-40e4-a090-3be672933988",
   "metadata": {},
   "outputs": [
    {
     "name": "stdout",
     "output_type": "stream",
     "text": [
      "Número de linhas duplicadas: 0\n"
     ]
    }
   ],
   "source": [
    "# Conta o número de linhas no DataFrame original\n",
    "total_rows = raw_calendar.count()\n",
    "\n",
    "# Conta o número de linhas únicas\n",
    "unique_rows = raw_calendar.dropDuplicates().count()\n",
    "\n",
    "# Calcula o número de linhas duplicadas\n",
    "duplicate_count = total_rows - unique_rows\n",
    "print(f\"Número de linhas duplicadas: {duplicate_count}\")"
   ]
  },
  {
   "cell_type": "code",
   "execution_count": 148,
   "id": "9e71ebb7-26d1-4632-beb5-d9c00167b7e6",
   "metadata": {},
   "outputs": [],
   "source": [
    "#raw_calendar_nodupk = raw_calendar.dropDuplicates()\n",
    "#raw_calendar_nodupk.count()"
   ]
  },
  {
   "cell_type": "code",
   "execution_count": 149,
   "id": "b708a770-67ea-4e0e-a696-e869e79f610d",
   "metadata": {},
   "outputs": [],
   "source": [
    "raw_calendar.write.parquet(\"bronze/bronze_calendar\", mode=\"overwrite\")"
   ]
  },
  {
   "cell_type": "code",
   "execution_count": 150,
   "id": "8419be3c-bea9-4d87-b3b8-484957a0b2e5",
   "metadata": {},
   "outputs": [],
   "source": [
    "spark.stop()"
   ]
  },
  {
   "cell_type": "code",
   "execution_count": 151,
   "id": "be7f1cc0-d5c0-4138-b31f-b173d6190860",
   "metadata": {},
   "outputs": [],
   "source": [
    "# Verifica se há uma sessão ativa\n",
    "active_session = SparkSession.getActiveSession()\n",
    "if active_session:\n",
    "    active_session.stop()"
   ]
  },
  {
   "cell_type": "code",
   "execution_count": 40,
   "id": "f829369f-06f1-4609-b691-ca6a0dadbb08",
   "metadata": {},
   "outputs": [],
   "source": [
    "# Suba os dados para o PostgreSQL\n",
    "#df_pandas_listings.to_sql(\"listings\", engine, if_exists=\"replace\", index=False)"
   ]
  }
 ],
 "metadata": {
  "kernelspec": {
   "display_name": "Python 3 (ipykernel)",
   "language": "python",
   "name": "python3"
  },
  "language_info": {
   "codemirror_mode": {
    "name": "ipython",
    "version": 3
   },
   "file_extension": ".py",
   "mimetype": "text/x-python",
   "name": "python",
   "nbconvert_exporter": "python",
   "pygments_lexer": "ipython3",
   "version": "3.11.6"
  }
 },
 "nbformat": 4,
 "nbformat_minor": 5
}
