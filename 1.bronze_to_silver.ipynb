{
 "cells": [
  {
   "cell_type": "code",
   "execution_count": 1,
   "id": "663f31d8-3814-400b-98aa-9775aabf27c4",
   "metadata": {},
   "outputs": [],
   "source": [
    "from pyspark.context import SparkContext\n",
    "from pyspark.sql import SparkSession\n",
    "from pyspark.sql import Row\n",
    "from sqlalchemy import create_engine\n",
    "#from delta import *\n",
    "import pyspark\n",
    "\n",
    "from pyspark.sql.types import DateType, IntegerType, LongType, FloatType, BooleanType\n",
    "\n",
    "from pyspark.sql.functions import col, sum\n",
    "\n",
    "from pyspark.sql.functions import regexp_replace\n",
    "\n",
    "#from delta import DeltaTable  # Necessário apenas se for usar operações específicas"
   ]
  },
  {
   "cell_type": "markdown",
   "id": "834d18c5-3a3f-45df-985c-95a98c2bccc8",
   "metadata": {},
   "source": [
    "### 0. Inicia Sessão Spark"
   ]
  },
  {
   "cell_type": "code",
   "execution_count": 3,
   "id": "63d611a9-f797-49df-b8fb-9b9d0c3dc216",
   "metadata": {},
   "outputs": [],
   "source": [
    "import pyspark\n",
    "from delta import *\n",
    "\n",
    "builder = pyspark.sql.SparkSession.builder.appName(\"MyApp\") \\\n",
    "    .config(\"spark.sql.extensions\", \"io.delta.sql.DeltaSparkSessionExtension\") \\\n",
    "    .config(\"spark.sql.catalog.spark_catalog\", \"org.apache.spark.sql.delta.catalog.DeltaCatalog\")\n",
    "\n",
    "spark = configure_spark_with_delta_pip(builder).getOrCreate()"
   ]
  },
  {
   "cell_type": "code",
   "execution_count": 4,
   "id": "be589dcd-2e5a-4892-bae2-921f07e691b0",
   "metadata": {},
   "outputs": [
    {
     "name": "stdout",
     "output_type": "stream",
     "text": [
      "3.5.0\n"
     ]
    }
   ],
   "source": [
    "print(spark.version)"
   ]
  },
  {
   "cell_type": "markdown",
   "id": "9690d4fd-786c-4d07-9778-4980f3b2b4af",
   "metadata": {},
   "source": [
    "### 1. Ler do parquet"
   ]
  },
  {
   "cell_type": "markdown",
   "id": "fccc4cde-1f0e-4dd0-8f23-3cf85fc237ab",
   "metadata": {
    "jp-MarkdownHeadingCollapsed": true
   },
   "source": [
    "#### 1.1 Reviews"
   ]
  },
  {
   "cell_type": "code",
   "execution_count": 4,
   "id": "5783f65c-c180-450d-881e-67bcc9b389c5",
   "metadata": {
    "scrolled": true
   },
   "outputs": [],
   "source": [
    "reviews_parquet = spark.read.parquet('datawarehouse/bronze/bronze_reviews/')"
   ]
  },
  {
   "cell_type": "code",
   "execution_count": 5,
   "id": "bdd104a8-37dc-4878-a347-63431565fd82",
   "metadata": {},
   "outputs": [
    {
     "data": {
      "text/plain": [
       "773134"
      ]
     },
     "execution_count": 5,
     "metadata": {},
     "output_type": "execute_result"
    }
   ],
   "source": [
    "reviews_parquet.count()"
   ]
  },
  {
   "cell_type": "code",
   "execution_count": 6,
   "id": "90c4f8cf-f150-47ac-855a-d3ebe4831f72",
   "metadata": {},
   "outputs": [
    {
     "name": "stdout",
     "output_type": "stream",
     "text": [
      "root\n",
      " |-- listing_id: string (nullable = true)\n",
      " |-- id: string (nullable = true)\n",
      " |-- date: string (nullable = true)\n",
      " |-- reviewer_id: string (nullable = true)\n",
      " |-- reviewer_name: string (nullable = true)\n",
      " |-- comments: string (nullable = true)\n",
      "\n"
     ]
    }
   ],
   "source": [
    "reviews_parquet.printSchema()"
   ]
  },
  {
   "cell_type": "code",
   "execution_count": 7,
   "id": "5cba948f-9c8a-4ea3-a20e-00da527622b8",
   "metadata": {},
   "outputs": [
    {
     "name": "stdout",
     "output_type": "stream",
     "text": [
      "+----------+------------------+----------+-----------+-------------+--------------------+\n",
      "|listing_id|                id|      date|reviewer_id|reviewer_name|            comments|\n",
      "+----------+------------------+----------+-----------+-------------+--------------------+\n",
      "|     17878|         135000108|2017-03-02|   11601165|         Luis|Very nice apartme...|\n",
      "|    238802|902182527354705841|2023-05-29|  485370553|       Camila|Excelente todo. M...|\n",
      "|     25026|546355719674637771|2022-01-23|  102090531|      Stéfani|Estadia perfeita!...|\n",
      "+----------+------------------+----------+-----------+-------------+--------------------+\n",
      "only showing top 3 rows\n",
      "\n"
     ]
    }
   ],
   "source": [
    "reviews_parquet.show(3)"
   ]
  },
  {
   "cell_type": "code",
   "execution_count": 8,
   "id": "db5608a2-7e22-4b45-a7f1-f61b023f6a76",
   "metadata": {},
   "outputs": [],
   "source": [
    "# Lista das colunas que você quer converter\n",
    "colunas = [\"listing_id\", \"id\", \"reviewer_id\"]\n",
    "\n",
    "for coluna in colunas:\n",
    "    reviews_parquet = reviews_parquet.withColumn(coluna, reviews_parquet[coluna].cast(LongType()))"
   ]
  },
  {
   "cell_type": "code",
   "execution_count": 9,
   "id": "6dd054d5-2f61-4de7-b3df-61ccc27cf6ea",
   "metadata": {},
   "outputs": [],
   "source": [
    "# Converte a coluna \"coluna_data\" para o tipo de data\n",
    "reviews_parquet = reviews_parquet.withColumn(\"date\", reviews_parquet[\"date\"].cast(DateType()))"
   ]
  },
  {
   "cell_type": "code",
   "execution_count": 10,
   "id": "7d2deafe-1bd7-4267-bec1-0343060229eb",
   "metadata": {},
   "outputs": [
    {
     "name": "stdout",
     "output_type": "stream",
     "text": [
      "root\n",
      " |-- listing_id: long (nullable = true)\n",
      " |-- id: long (nullable = true)\n",
      " |-- date: date (nullable = true)\n",
      " |-- reviewer_id: long (nullable = true)\n",
      " |-- reviewer_name: string (nullable = true)\n",
      " |-- comments: string (nullable = true)\n",
      "\n"
     ]
    }
   ],
   "source": [
    "# Verifica o esquema para confirmar a conversão\n",
    "reviews_parquet.printSchema()  # Confirma o esquema atualizado"
   ]
  },
  {
   "cell_type": "code",
   "execution_count": 11,
   "id": "84ebf233-0c2d-44bf-8b41-eaa3bcc64916",
   "metadata": {},
   "outputs": [
    {
     "name": "stdout",
     "output_type": "stream",
     "text": [
      "+----------+-----+\n",
      "|listing_id|count|\n",
      "+----------+-----+\n",
      "|   1280058|  404|\n",
      "|   3079210|  346|\n",
      "|  14912877|  178|\n",
      "|  19359961|   69|\n",
      "|  23899787|  152|\n",
      "+----------+-----+\n",
      "only showing top 5 rows\n",
      "\n"
     ]
    }
   ],
   "source": [
    "# Conta a frequência de cada valor na coluna \"coluna_exemplo\"\n",
    "reviews_parquet.groupBy(\"listing_id\").count().show(n=5)"
   ]
  },
  {
   "cell_type": "code",
   "execution_count": 12,
   "id": "6c763c1c-368c-4865-be0f-615662945b64",
   "metadata": {},
   "outputs": [
    {
     "name": "stdout",
     "output_type": "stream",
     "text": [
      "-RECORD 0------------\n",
      " listing_id    | 0   \n",
      " id            | 0   \n",
      " date          | 0   \n",
      " reviewer_id   | 0   \n",
      " reviewer_name | 0   \n",
      " comments      | 0   \n",
      "\n"
     ]
    }
   ],
   "source": [
    "null_counts = reviews_parquet.select([sum(col(c).isNull().cast(\"int\")).alias(c) for c in reviews_parquet.columns])\n",
    "null_counts.show(vertical=True)"
   ]
  },
  {
   "cell_type": "code",
   "execution_count": 13,
   "id": "4da0fd64-5a1a-4cdb-8de6-c618e4e70408",
   "metadata": {},
   "outputs": [
    {
     "data": {
      "text/plain": [
       "0"
      ]
     },
     "execution_count": 13,
     "metadata": {},
     "output_type": "execute_result"
    }
   ],
   "source": [
    "# Contabiliza linhas duplicadas\n",
    "reviews_parquet.groupBy(reviews_parquet.columns).count().filter(\"count > 1\").count()"
   ]
  },
  {
   "cell_type": "code",
   "execution_count": 14,
   "id": "be4b6d5d-d043-449a-b051-1a613c62b414",
   "metadata": {},
   "outputs": [
    {
     "data": {
      "text/plain": [
       "773134"
      ]
     },
     "execution_count": 14,
     "metadata": {},
     "output_type": "execute_result"
    }
   ],
   "source": [
    "# Contabiliza linhas distintas, sem contar as duplicadas\n",
    "reviews_parquet.distinct().count()"
   ]
  },
  {
   "cell_type": "code",
   "execution_count": 15,
   "id": "5d85d964-9084-4bb5-b73d-901ba8746dba",
   "metadata": {},
   "outputs": [],
   "source": [
    "reviews_parquet = reviews_parquet.distinct()"
   ]
  },
  {
   "cell_type": "code",
   "execution_count": 16,
   "id": "e355e22c-bc29-44b2-975e-7c77b64abf43",
   "metadata": {},
   "outputs": [
    {
     "name": "stdout",
     "output_type": "stream",
     "text": [
      "Número de valores únicos: 26218\n"
     ]
    }
   ],
   "source": [
    "# Conta os valores únicos na coluna \"coluna_exemplo\"\n",
    "num_valores_unicos = reviews_parquet.select(\"listing_id\").distinct().count()\n",
    "print(f\"Número de valores únicos: {num_valores_unicos}\")"
   ]
  },
  {
   "cell_type": "code",
   "execution_count": 17,
   "id": "5ebd9d39-91b1-4675-a033-8da4d49062f4",
   "metadata": {},
   "outputs": [
    {
     "name": "stdout",
     "output_type": "stream",
     "text": [
      "Número de valores únicos: 773134\n"
     ]
    }
   ],
   "source": [
    "# Conta os valores únicos na coluna \"coluna_exemplo\"\n",
    "num_valores_unicos = reviews_parquet.select(\"id\").distinct().count()\n",
    "print(f\"Número de valores únicos: {num_valores_unicos}\")"
   ]
  },
  {
   "cell_type": "code",
   "execution_count": 18,
   "id": "057eed55-9b3f-494e-ab03-d158f3e7fb92",
   "metadata": {},
   "outputs": [
    {
     "name": "stdout",
     "output_type": "stream",
     "text": [
      "Número de valores únicos: 616044\n"
     ]
    }
   ],
   "source": [
    "# Conta os valores únicos na coluna \"coluna_exemplo\"\n",
    "num_valores_unicos = reviews_parquet.select(\"reviewer_id\").distinct().count()\n",
    "print(f\"Número de valores únicos: {num_valores_unicos}\")"
   ]
  },
  {
   "cell_type": "code",
   "execution_count": 19,
   "id": "8f07151c-0f0b-4262-97a9-8df8674d302a",
   "metadata": {},
   "outputs": [
    {
     "data": {
      "text/plain": [
       "773134"
      ]
     },
     "execution_count": 19,
     "metadata": {},
     "output_type": "execute_result"
    }
   ],
   "source": [
    "reviews_parquet.count()"
   ]
  },
  {
   "cell_type": "code",
   "execution_count": 20,
   "id": "c18ce0e5-bc73-44a4-9a13-87ba77bbfef4",
   "metadata": {},
   "outputs": [],
   "source": [
    "# Passar para a camada Silver\n",
    "reviews_parquet.write.parquet(\"datawarehouse/silver/silver_reviews\", mode=\"overwrite\")"
   ]
  },
  {
   "cell_type": "code",
   "execution_count": 22,
   "id": "424110c2-dd18-4882-aa5a-52ae15aa64f0",
   "metadata": {},
   "outputs": [],
   "source": [
    "# Salvar dados como Delta Lake\n",
    "reviews_parquet.write.format(\"delta\").mode(\"overwrite\").save(\"deltalake/silver/silver_reviews\")\n",
    "\n",
    "# Carregar dados Delta\n",
    "#df_delta = spark.read.format(\"delta\").load(\"/path/to/delta_table\")"
   ]
  },
  {
   "cell_type": "markdown",
   "id": "cb2b869e-0067-4fae-a628-ae4ccd3830c0",
   "metadata": {},
   "source": [
    "#### 1.2 Listings"
   ]
  },
  {
   "cell_type": "code",
   "execution_count": 26,
   "id": "b4710f2e-18d0-4fb5-8bff-0e18f469943f",
   "metadata": {},
   "outputs": [],
   "source": [
    "listings = spark.read.parquet('datawarehouse/bronze/bronze_listings/')"
   ]
  },
  {
   "cell_type": "code",
   "execution_count": 27,
   "id": "7ab8ea2b-e65d-4171-913b-9e265feba07f",
   "metadata": {},
   "outputs": [
    {
     "name": "stdout",
     "output_type": "stream",
     "text": [
      "-RECORD 0---------------------------------------------\n",
      " id                                           | 0     \n",
      " listing_url                                  | 0     \n",
      " scrape_id                                    | 0     \n",
      " last_scraped                                 | 0     \n",
      " source                                       | 0     \n",
      " name                                         | 0     \n",
      " description                                  | 1163  \n",
      " neighborhood_overview                        | 17648 \n",
      " picture_url                                  | 0     \n",
      " host_id                                      | 0     \n",
      " host_url                                     | 0     \n",
      " host_name                                    | 0     \n",
      " host_since                                   | 0     \n",
      " host_location                                | 6795  \n",
      " host_about                                   | 18111 \n",
      " host_response_time                           | 0     \n",
      " host_response_rate                           | 0     \n",
      " host_acceptance_rate                         | 0     \n",
      " host_is_superhost                            | 868   \n",
      " host_thumbnail_url                           | 0     \n",
      " host_picture_url                             | 0     \n",
      " host_neighbourhood                           | 5885  \n",
      " host_listings_count                          | 0     \n",
      " host_total_listings_count                    | 0     \n",
      " host_verifications                           | 0     \n",
      " host_has_profile_pic                         | 0     \n",
      " host_identity_verified                       | 0     \n",
      " neighbourhood                                | 17648 \n",
      " neighbourhood_cleansed                       | 0     \n",
      " neighbourhood_group_cleansed                 | 34664 \n",
      " latitude                                     | 0     \n",
      " longitude                                    | 0     \n",
      " property_type                                | 0     \n",
      " room_type                                    | 0     \n",
      " accommodates                                 | 0     \n",
      " bathrooms                                    | 840   \n",
      " bathrooms_text                               | 41    \n",
      " bedrooms                                     | 138   \n",
      " beds                                         | 842   \n",
      " amenities                                    | 0     \n",
      " price                                        | 972   \n",
      " minimum_nights                               | 0     \n",
      " maximum_nights                               | 0     \n",
      " minimum_minimum_nights                       | 0     \n",
      " maximum_minimum_nights                       | 0     \n",
      " minimum_maximum_nights                       | 0     \n",
      " maximum_maximum_nights                       | 0     \n",
      " minimum_nights_avg_ntm                       | 0     \n",
      " maximum_nights_avg_ntm                       | 0     \n",
      " calendar_updated                             | 34664 \n",
      " has_availability                             | 337   \n",
      " availability_30                              | 0     \n",
      " availability_60                              | 0     \n",
      " availability_90                              | 0     \n",
      " availability_365                             | 0     \n",
      " calendar_last_scraped                        | 0     \n",
      " number_of_reviews                            | 0     \n",
      " number_of_reviews_ltm                        | 0     \n",
      " number_of_reviews_l30d                       | 0     \n",
      " first_review                                 | 8446  \n",
      " last_review                                  | 8446  \n",
      " review_scores_rating                         | 8446  \n",
      " review_scores_accuracy                       | 8455  \n",
      " review_scores_cleanliness                    | 8455  \n",
      " review_scores_checkin                        | 8455  \n",
      " review_scores_communication                  | 8455  \n",
      " review_scores_location                       | 8455  \n",
      " review_scores_value                          | 8457  \n",
      " license                                      | 34664 \n",
      " instant_bookable                             | 0     \n",
      " calculated_host_listings_count               | 0     \n",
      " calculated_host_listings_count_entire_homes  | 0     \n",
      " calculated_host_listings_count_private_rooms | 0     \n",
      " calculated_host_listings_count_shared_rooms  | 0     \n",
      " reviews_per_month                            | 8446  \n",
      "\n"
     ]
    }
   ],
   "source": [
    "# Conta os valores nulos em cada coluna\n",
    "null_counts = listings.select([sum(col(c).isNull().cast(\"int\")).alias(c) for c in listings.columns])\n",
    "null_counts.show(vertical=True)"
   ]
  },
  {
   "cell_type": "code",
   "execution_count": 28,
   "id": "e9c1336a-f279-4a40-b4bb-ef144ccab7c4",
   "metadata": {},
   "outputs": [
    {
     "data": {
      "text/plain": [
       "34664"
      ]
     },
     "execution_count": 28,
     "metadata": {},
     "output_type": "execute_result"
    }
   ],
   "source": [
    "listings.count()"
   ]
  },
  {
   "cell_type": "code",
   "execution_count": 29,
   "id": "db7dcb24-f0fe-4a32-a686-36c5f41ea6a3",
   "metadata": {},
   "outputs": [],
   "source": [
    "# Remove o caractere \"$\" e converte para float\n",
    "listings = listings.withColumn(\"price\", regexp_replace(\"price\", \"\\\\$\", \"\").cast(FloatType()))\n",
    "listings = listings.withColumn(\"host_response_rate\", regexp_replace(\"host_response_rate\", \"\\\\%\", \"\").cast(FloatType()))\n",
    "listings = listings.withColumn(\"host_acceptance_rate\", regexp_replace(\"host_acceptance_rate\", \"\\\\%\", \"\").cast(FloatType()))"
   ]
  },
  {
   "cell_type": "code",
   "execution_count": 30,
   "id": "30c57073-da4a-4b90-9772-8eaa0b53332f",
   "metadata": {},
   "outputs": [],
   "source": [
    "# Lista das colunas que você quer converter\n",
    "\n",
    "colunas = [\"id\",\"scrape_id\", \"host_id\"]              \n",
    "     \n",
    "for coluna in colunas:\n",
    "    listings = listings.withColumn(coluna, listings[coluna].cast(LongType()))\n",
    "\n",
    "\n",
    "colunas = [\"minimum_nights\",\"maximum_nights\",\"minimum_minimum_nights\",\n",
    "          \"maximum_minimum_nights\",\"minimum_maximum_nights\",\"maximum_maximum_nights\",\n",
    "          \"availability_30\", \"availability_60\", \"availability_90\", \"availability_365\",\n",
    "           \"accommodates\", \"calculated_host_listings_count\", \"calculated_host_listings_count_entire_homes\",\n",
    "           \"calculated_host_listings_count_private_rooms\", \"calculated_host_listings_count_shared_rooms\",\n",
    "           \"number_of_reviews\", \"number_of_reviews_ltm\", \"number_of_reviews_l30d\", \n",
    "           \"host_listings_count\", \"host_total_listings_count\", \"bathrooms\", \"bedrooms\", \"beds\"]              \n",
    "     \n",
    "for coluna in colunas:\n",
    "    listings = listings.withColumn(coluna, listings[coluna].cast(IntegerType()))\n",
    "\n",
    "\n",
    "# Lista das colunas que você quer converter\n",
    "colunas = [\"has_availability\", \"host_is_superhost\", \"host_has_profile_pic\",\"host_identity_verified\",\n",
    "          \"instant_bookable\"]\n",
    "\n",
    "for coluna in colunas:\n",
    "    listings = listings.withColumn(coluna, listings[coluna].cast(BooleanType()))\n",
    "\n",
    "\n",
    "# Lista das colunas que você quer converter\n",
    "colunas = [\"last_scraped\", \"host_since\", \"calendar_last_scraped\"]\n",
    "\n",
    "for coluna in colunas:\n",
    "    listings = listings.withColumn(coluna, listings[coluna].cast(DateType()))\n",
    "\n",
    "# Lista das colunas que você quer converter\n",
    "colunas = [\"minimum_nights_avg_ntm\", \"maximum_nights_avg_ntm\", \"latitude\", \"longitude\"]\n",
    "\n",
    "for coluna in colunas:\n",
    "    listings = listings.withColumn(coluna, listings[coluna].cast(FloatType()))"
   ]
  },
  {
   "cell_type": "code",
   "execution_count": 31,
   "id": "6c98a5c6-39d0-417d-bc38-6e349b09b2e9",
   "metadata": {},
   "outputs": [
    {
     "name": "stdout",
     "output_type": "stream",
     "text": [
      "+-----------------+-----+\n",
      "|host_is_superhost|count|\n",
      "+-----------------+-----+\n",
      "|            false|23534|\n",
      "|             true|10262|\n",
      "|             NULL|  868|\n",
      "+-----------------+-----+\n",
      "\n"
     ]
    }
   ],
   "source": [
    "# Conta a frequência de cada valor na coluna \"coluna_exemplo\"\n",
    "listings.groupBy(\"host_is_superhost\").count().orderBy(\"count\", ascending=False).show()"
   ]
  },
  {
   "cell_type": "code",
   "execution_count": 32,
   "id": "6df0553d-94e6-4831-bf48-543388326b06",
   "metadata": {
    "scrolled": true
   },
   "outputs": [
    {
     "name": "stdout",
     "output_type": "stream",
     "text": [
      "root\n",
      " |-- id: long (nullable = true)\n",
      " |-- listing_url: string (nullable = true)\n",
      " |-- scrape_id: long (nullable = true)\n",
      " |-- last_scraped: date (nullable = true)\n",
      " |-- source: string (nullable = true)\n",
      " |-- name: string (nullable = true)\n",
      " |-- description: string (nullable = true)\n",
      " |-- neighborhood_overview: string (nullable = true)\n",
      " |-- picture_url: string (nullable = true)\n",
      " |-- host_id: long (nullable = true)\n",
      " |-- host_url: string (nullable = true)\n",
      " |-- host_name: string (nullable = true)\n",
      " |-- host_since: date (nullable = true)\n",
      " |-- host_location: string (nullable = true)\n",
      " |-- host_about: string (nullable = true)\n",
      " |-- host_response_time: string (nullable = true)\n",
      " |-- host_response_rate: float (nullable = true)\n",
      " |-- host_acceptance_rate: float (nullable = true)\n",
      " |-- host_is_superhost: boolean (nullable = true)\n",
      " |-- host_thumbnail_url: string (nullable = true)\n",
      " |-- host_picture_url: string (nullable = true)\n",
      " |-- host_neighbourhood: string (nullable = true)\n",
      " |-- host_listings_count: integer (nullable = true)\n",
      " |-- host_total_listings_count: integer (nullable = true)\n",
      " |-- host_verifications: string (nullable = true)\n",
      " |-- host_has_profile_pic: boolean (nullable = true)\n",
      " |-- host_identity_verified: boolean (nullable = true)\n",
      " |-- neighbourhood: string (nullable = true)\n",
      " |-- neighbourhood_cleansed: string (nullable = true)\n",
      " |-- neighbourhood_group_cleansed: string (nullable = true)\n",
      " |-- latitude: float (nullable = true)\n",
      " |-- longitude: float (nullable = true)\n",
      " |-- property_type: string (nullable = true)\n",
      " |-- room_type: string (nullable = true)\n",
      " |-- accommodates: integer (nullable = true)\n",
      " |-- bathrooms: integer (nullable = true)\n",
      " |-- bathrooms_text: string (nullable = true)\n",
      " |-- bedrooms: integer (nullable = true)\n",
      " |-- beds: integer (nullable = true)\n",
      " |-- amenities: string (nullable = true)\n",
      " |-- price: float (nullable = true)\n",
      " |-- minimum_nights: integer (nullable = true)\n",
      " |-- maximum_nights: integer (nullable = true)\n",
      " |-- minimum_minimum_nights: integer (nullable = true)\n",
      " |-- maximum_minimum_nights: integer (nullable = true)\n",
      " |-- minimum_maximum_nights: integer (nullable = true)\n",
      " |-- maximum_maximum_nights: integer (nullable = true)\n",
      " |-- minimum_nights_avg_ntm: float (nullable = true)\n",
      " |-- maximum_nights_avg_ntm: float (nullable = true)\n",
      " |-- calendar_updated: string (nullable = true)\n",
      " |-- has_availability: boolean (nullable = true)\n",
      " |-- availability_30: integer (nullable = true)\n",
      " |-- availability_60: integer (nullable = true)\n",
      " |-- availability_90: integer (nullable = true)\n",
      " |-- availability_365: integer (nullable = true)\n",
      " |-- calendar_last_scraped: date (nullable = true)\n",
      " |-- number_of_reviews: integer (nullable = true)\n",
      " |-- number_of_reviews_ltm: integer (nullable = true)\n",
      " |-- number_of_reviews_l30d: integer (nullable = true)\n",
      " |-- first_review: string (nullable = true)\n",
      " |-- last_review: string (nullable = true)\n",
      " |-- review_scores_rating: string (nullable = true)\n",
      " |-- review_scores_accuracy: string (nullable = true)\n",
      " |-- review_scores_cleanliness: string (nullable = true)\n",
      " |-- review_scores_checkin: string (nullable = true)\n",
      " |-- review_scores_communication: string (nullable = true)\n",
      " |-- review_scores_location: string (nullable = true)\n",
      " |-- review_scores_value: string (nullable = true)\n",
      " |-- license: string (nullable = true)\n",
      " |-- instant_bookable: boolean (nullable = true)\n",
      " |-- calculated_host_listings_count: integer (nullable = true)\n",
      " |-- calculated_host_listings_count_entire_homes: integer (nullable = true)\n",
      " |-- calculated_host_listings_count_private_rooms: integer (nullable = true)\n",
      " |-- calculated_host_listings_count_shared_rooms: integer (nullable = true)\n",
      " |-- reviews_per_month: string (nullable = true)\n",
      "\n"
     ]
    }
   ],
   "source": [
    "listings.printSchema()"
   ]
  },
  {
   "cell_type": "code",
   "execution_count": 33,
   "id": "8704e86e-1bd3-4b7f-8ae1-11527089a70f",
   "metadata": {},
   "outputs": [
    {
     "name": "stdout",
     "output_type": "stream",
     "text": [
      "-RECORD 0------------------------------------------------------------\n",
      " id                                           | 96478                \n",
      " listing_url                                  | https://www.airbn... \n",
      " scrape_id                                    | 20240627045056       \n",
      " last_scraped                                 | 2024-06-28           \n",
      " source                                       | city scrape          \n",
      " name                                         | APARTAMENT IN BOT... \n",
      " description                                  | LINDO APARTAMENTO... \n",
      " neighborhood_overview                        | bRes,resturantes,... \n",
      " picture_url                                  | https://a0.muscac... \n",
      " host_id                                      | 530471               \n",
      " host_url                                     | https://www.airbn... \n",
      " host_name                                    | Hugo                 \n",
      " host_since                                   | 2011-04-23           \n",
      " host_location                                | Rio de Janeiro, B... \n",
      " host_about                                   | Sou Hugo estrange... \n",
      " host_response_time                           | within an hour       \n",
      " host_response_rate                           | 100.0                \n",
      " host_acceptance_rate                         | 0.0                  \n",
      " host_is_superhost                            | false                \n",
      " host_thumbnail_url                           | https://a0.muscac... \n",
      " host_picture_url                             | https://a0.muscac... \n",
      " host_neighbourhood                           | Botafogo             \n",
      " host_listings_count                          | 2                    \n",
      " host_total_listings_count                    | 4                    \n",
      " host_verifications                           | ['phone']            \n",
      " host_has_profile_pic                         | true                 \n",
      " host_identity_verified                       | true                 \n",
      " neighbourhood                                | Rio de Janeiro, B... \n",
      " neighbourhood_cleansed                       | Botafogo             \n",
      " neighbourhood_group_cleansed                 | NULL                 \n",
      " latitude                                     | -22.94656            \n",
      " longitude                                    | -43.18176            \n",
      " property_type                                | Private room in r... \n",
      " room_type                                    | Private room         \n",
      " accommodates                                 | 4                    \n",
      " bathrooms                                    | 1                    \n",
      " bathrooms_text                               | 1 bath               \n",
      " bedrooms                                     | 1                    \n",
      " beds                                         | 1                    \n",
      " amenities                                    | [\"Kitchen\", \"Smok... \n",
      " price                                        | 280.0                \n",
      " minimum_nights                               | 3                    \n",
      " maximum_nights                               | 730                  \n",
      " minimum_minimum_nights                       | 3                    \n",
      " maximum_minimum_nights                       | 3                    \n",
      " minimum_maximum_nights                       | 730                  \n",
      " maximum_maximum_nights                       | 730                  \n",
      " minimum_nights_avg_ntm                       | 3.0                  \n",
      " maximum_nights_avg_ntm                       | 730.0                \n",
      " calendar_updated                             | NULL                 \n",
      " has_availability                             | true                 \n",
      " availability_30                              | 30                   \n",
      " availability_60                              | 60                   \n",
      " availability_90                              | 86                   \n",
      " availability_365                             | 344                  \n",
      " calendar_last_scraped                        | 2024-06-28           \n",
      " number_of_reviews                            | 0                    \n",
      " number_of_reviews_ltm                        | 0                    \n",
      " number_of_reviews_l30d                       | 0                    \n",
      " first_review                                 | NULL                 \n",
      " last_review                                  | NULL                 \n",
      " review_scores_rating                         | NULL                 \n",
      " review_scores_accuracy                       | NULL                 \n",
      " review_scores_cleanliness                    | NULL                 \n",
      " review_scores_checkin                        | NULL                 \n",
      " review_scores_communication                  | NULL                 \n",
      " review_scores_location                       | NULL                 \n",
      " review_scores_value                          | NULL                 \n",
      " license                                      | NULL                 \n",
      " instant_bookable                             | false                \n",
      " calculated_host_listings_count               | 1                    \n",
      " calculated_host_listings_count_entire_homes  | 0                    \n",
      " calculated_host_listings_count_private_rooms | 1                    \n",
      " calculated_host_listings_count_shared_rooms  | 0                    \n",
      " reviews_per_month                            | NULL                 \n",
      "only showing top 1 row\n",
      "\n"
     ]
    }
   ],
   "source": [
    "listings.show(1, vertical=True)"
   ]
  },
  {
   "cell_type": "code",
   "execution_count": 35,
   "id": "f0d51716-d511-40d9-8e38-7491ee8d1d13",
   "metadata": {},
   "outputs": [
    {
     "data": {
      "text/plain": [
       "True"
      ]
     },
     "execution_count": 35,
     "metadata": {},
     "output_type": "execute_result"
    }
   ],
   "source": [
    "listings.distinct().count() == listings.count()"
   ]
  },
  {
   "cell_type": "code",
   "execution_count": 36,
   "id": "eb4a8d45-ba36-4c3e-b0be-a2e1864dc3aa",
   "metadata": {},
   "outputs": [
    {
     "data": {
      "text/plain": [
       "34664"
      ]
     },
     "execution_count": 36,
     "metadata": {},
     "output_type": "execute_result"
    }
   ],
   "source": [
    "listings.count()"
   ]
  },
  {
   "cell_type": "code",
   "execution_count": 37,
   "id": "85d8b3e6-2c10-4499-bf6f-0f6ee36ddcf3",
   "metadata": {},
   "outputs": [
    {
     "data": {
      "text/plain": [
       "0"
      ]
     },
     "execution_count": 37,
     "metadata": {},
     "output_type": "execute_result"
    }
   ],
   "source": [
    "listings.filter(listings.id.isNull()).count()"
   ]
  },
  {
   "cell_type": "code",
   "execution_count": 38,
   "id": "e9c39a1a-8b53-455c-9212-829054f5ea3c",
   "metadata": {},
   "outputs": [
    {
     "name": "stdout",
     "output_type": "stream",
     "text": [
      "(0 rows)\n",
      "\n"
     ]
    }
   ],
   "source": [
    "listings.filter(listings.id.isNull()).show(n=2, vertical=True)\n",
    "#listings.filter(\"id is NULL\").show()\n",
    "#listings.filter(col(\"id\").isNull()).show()"
   ]
  },
  {
   "cell_type": "code",
   "execution_count": 39,
   "id": "ad2f30d3-40ca-433d-afd4-3a4e0db658d9",
   "metadata": {},
   "outputs": [
    {
     "data": {
      "text/plain": [
       "34664"
      ]
     },
     "execution_count": 39,
     "metadata": {},
     "output_type": "execute_result"
    }
   ],
   "source": [
    "## DROPAR COLUNAS COM ID NULL\n",
    "listings.filter(listings.id.isNotNull()).count()"
   ]
  },
  {
   "cell_type": "code",
   "execution_count": 40,
   "id": "16c8ce0d-65dd-4245-9653-bed2e1fbfb17",
   "metadata": {},
   "outputs": [],
   "source": [
    "# Passar para a camada Silver\n",
    "listings.write.parquet(\"datawarehouse/silver/silver_listings\", mode=\"overwrite\")"
   ]
  },
  {
   "cell_type": "code",
   "execution_count": 41,
   "id": "f16fc0dc-1b8a-4695-96b8-a806993be15d",
   "metadata": {},
   "outputs": [],
   "source": [
    "# Salvar dados como Delta Lake\n",
    "listings.write.format(\"delta\").mode(\"overwrite\").save(\"deltalake/silver/silver_listings\")\n",
    "\n",
    "# Carregar dados Delta\n",
    "#df_delta = spark.read.format(\"delta\").load(\"/path/to/delta_table\")\n"
   ]
  },
  {
   "cell_type": "markdown",
   "id": "7a5029b5-f3c7-46c0-8247-2445bbbf62a6",
   "metadata": {},
   "source": [
    "#### 1.3 Calendar"
   ]
  },
  {
   "cell_type": "code",
   "execution_count": 42,
   "id": "7fda5911-a097-4306-aeed-8cdc93409570",
   "metadata": {},
   "outputs": [],
   "source": [
    "calendar_parquet = spark.read.parquet('datawarehouse/bronze/bronze_calendar/')"
   ]
  },
  {
   "cell_type": "code",
   "execution_count": 43,
   "id": "18c62397-0f69-4992-97c0-c794fb3aa8c4",
   "metadata": {},
   "outputs": [
    {
     "data": {
      "text/plain": [
       "12652371"
      ]
     },
     "execution_count": 43,
     "metadata": {},
     "output_type": "execute_result"
    }
   ],
   "source": [
    "calendar_parquet.count()"
   ]
  },
  {
   "cell_type": "code",
   "execution_count": 44,
   "id": "daef8a11-83f1-4a33-bde9-bf47331e80ef",
   "metadata": {},
   "outputs": [
    {
     "name": "stdout",
     "output_type": "stream",
     "text": [
      "root\n",
      " |-- listing_id: long (nullable = true)\n",
      " |-- date: date (nullable = true)\n",
      " |-- available: string (nullable = true)\n",
      " |-- price: string (nullable = true)\n",
      " |-- adjusted_price: string (nullable = true)\n",
      " |-- minimum_nights: integer (nullable = true)\n",
      " |-- maximum_nights: integer (nullable = true)\n",
      "\n"
     ]
    }
   ],
   "source": [
    "calendar_parquet.printSchema()"
   ]
  },
  {
   "cell_type": "code",
   "execution_count": 45,
   "id": "14d46338-9409-4946-8a82-951eaecad660",
   "metadata": {},
   "outputs": [
    {
     "name": "stdout",
     "output_type": "stream",
     "text": [
      "-RECORD 0--------------------\n",
      " listing_id     | 297908     \n",
      " date           | 2024-06-27 \n",
      " available      | f          \n",
      " price          | $250.00    \n",
      " adjusted_price | NULL       \n",
      " minimum_nights | 2          \n",
      " maximum_nights | 1125       \n",
      "-RECORD 1--------------------\n",
      " listing_id     | 17878      \n",
      " date           | 2024-06-28 \n",
      " available      | f          \n",
      " price          | $350.00    \n",
      " adjusted_price | NULL       \n",
      " minimum_nights | 5          \n",
      " maximum_nights | 28         \n",
      "-RECORD 2--------------------\n",
      " listing_id     | 17878      \n",
      " date           | 2024-06-29 \n",
      " available      | f          \n",
      " price          | $350.00    \n",
      " adjusted_price | NULL       \n",
      " minimum_nights | 5          \n",
      " maximum_nights | 28         \n",
      "only showing top 3 rows\n",
      "\n"
     ]
    }
   ],
   "source": [
    "calendar_parquet.show(n=3, vertical=True)"
   ]
  },
  {
   "cell_type": "code",
   "execution_count": 46,
   "id": "784dd714-9834-4d60-bdde-54048c8cf052",
   "metadata": {},
   "outputs": [],
   "source": [
    "# Remove o caractere \"$\" e converte para float\n",
    "calendar_parquet = calendar_parquet.withColumn(\"price\", regexp_replace(\"price\", \"\\\\$\", \"\").cast(FloatType()))"
   ]
  },
  {
   "cell_type": "code",
   "execution_count": 47,
   "id": "2303faed-77af-49b0-8b4f-57e6c66669f6",
   "metadata": {},
   "outputs": [],
   "source": [
    "colunas = [\"listing_id\"]              \n",
    "     \n",
    "for coluna in colunas:\n",
    "    calendar_parquet = calendar_parquet.withColumn(coluna, calendar_parquet[coluna].cast(LongType()))\n",
    "\n",
    "\n",
    "colunas = [\"minimum_nights\",\"maximum_nights\"]              \n",
    "     \n",
    "for coluna in colunas:\n",
    "    calendar_parquet = calendar_parquet.withColumn(coluna, calendar_parquet[coluna].cast(IntegerType()))\n",
    "\n",
    "\n",
    "# Lista das colunas que você quer converter\n",
    "colunas = [\"available\"]\n",
    "\n",
    "for coluna in colunas:\n",
    "    calendar_parquet = calendar_parquet.withColumn(coluna, calendar_parquet[coluna].cast(BooleanType()))\n",
    "\n",
    "\n",
    "# Lista das colunas que você quer converter\n",
    "colunas = [\"date\"]\n",
    "\n",
    "for coluna in colunas:\n",
    "    calendar_parquet = calendar_parquet.withColumn(coluna, calendar_parquet[coluna].cast(DateType()))"
   ]
  },
  {
   "cell_type": "code",
   "execution_count": 48,
   "id": "8b6a7ac2-1a80-4c4e-9fd3-121786cc3523",
   "metadata": {},
   "outputs": [
    {
     "name": "stdout",
     "output_type": "stream",
     "text": [
      "root\n",
      " |-- listing_id: long (nullable = true)\n",
      " |-- date: date (nullable = true)\n",
      " |-- available: boolean (nullable = true)\n",
      " |-- price: float (nullable = true)\n",
      " |-- adjusted_price: string (nullable = true)\n",
      " |-- minimum_nights: integer (nullable = true)\n",
      " |-- maximum_nights: integer (nullable = true)\n",
      "\n"
     ]
    }
   ],
   "source": [
    "calendar_parquet.printSchema()"
   ]
  },
  {
   "cell_type": "code",
   "execution_count": 49,
   "id": "0e5981df-6672-406c-8896-2b2d32f4ba0f",
   "metadata": {},
   "outputs": [
    {
     "name": "stdout",
     "output_type": "stream",
     "text": [
      "-RECORD 0------------------\n",
      " listing_id     | 0        \n",
      " date           | 0        \n",
      " available      | 0        \n",
      " price          | 1570963  \n",
      " adjusted_price | 12652371 \n",
      " minimum_nights | 12       \n",
      " maximum_nights | 12       \n",
      "\n"
     ]
    }
   ],
   "source": [
    "# Conta os valores nulos em cada coluna\n",
    "null_counts = calendar_parquet.select([sum(col(c).isNull().cast(\"int\")).alias(c) for c in calendar_parquet.columns])\n",
    "null_counts.show(vertical=True)"
   ]
  },
  {
   "cell_type": "code",
   "execution_count": 50,
   "id": "73d8e9f3-7e05-4846-aaab-f98d207f56c7",
   "metadata": {},
   "outputs": [
    {
     "data": {
      "text/plain": [
       "12652371"
      ]
     },
     "execution_count": 50,
     "metadata": {},
     "output_type": "execute_result"
    }
   ],
   "source": [
    "calendar_parquet.count()"
   ]
  },
  {
   "cell_type": "code",
   "execution_count": 51,
   "id": "58739fcf-e023-4d9e-a217-8cf0047a0816",
   "metadata": {},
   "outputs": [
    {
     "data": {
      "text/plain": [
       "12652371"
      ]
     },
     "execution_count": 51,
     "metadata": {},
     "output_type": "execute_result"
    }
   ],
   "source": [
    "calendar_parquet.distinct().count()"
   ]
  },
  {
   "cell_type": "code",
   "execution_count": 52,
   "id": "ac06f140-f4dc-4030-9fbf-a2bf48891215",
   "metadata": {},
   "outputs": [],
   "source": [
    "# Passar para a camada Silver\n",
    "calendar_parquet.write.parquet(\"datawarehouse/silver/silver_calendar\", mode=\"overwrite\")"
   ]
  },
  {
   "cell_type": "code",
   "execution_count": 53,
   "id": "c2d9b748-b98f-4d0c-95eb-a77caaa787b9",
   "metadata": {},
   "outputs": [],
   "source": [
    "# Salvar dados como Delta Lake\n",
    "calendar_parquet.write.format(\"delta\").mode(\"overwrite\").save(\"deltalake/silver/silver_calendar\")"
   ]
  },
  {
   "cell_type": "code",
   "execution_count": 54,
   "id": "f65c0c6c-d466-40a2-b486-014b7ef71e5c",
   "metadata": {},
   "outputs": [],
   "source": [
    "spark.stop()"
   ]
  },
  {
   "cell_type": "code",
   "execution_count": null,
   "id": "f39995f6-d646-48ca-b5e0-f066f617b7de",
   "metadata": {},
   "outputs": [],
   "source": []
  }
 ],
 "metadata": {
  "kernelspec": {
   "display_name": "Python 3 (ipykernel)",
   "language": "python",
   "name": "python3"
  },
  "language_info": {
   "codemirror_mode": {
    "name": "ipython",
    "version": 3
   },
   "file_extension": ".py",
   "mimetype": "text/x-python",
   "name": "python",
   "nbconvert_exporter": "python",
   "pygments_lexer": "ipython3",
   "version": "3.11.6"
  }
 },
 "nbformat": 4,
 "nbformat_minor": 5
}
